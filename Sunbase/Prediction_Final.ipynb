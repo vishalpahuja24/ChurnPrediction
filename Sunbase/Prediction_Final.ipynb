{
  "cells": [
    {
      "cell_type": "code",
      "execution_count": null,
      "id": "e11fb6b1",
      "metadata": {
        "id": "e11fb6b1"
      },
      "outputs": [],
      "source": [
        "# importing required libraries\n",
        "\n",
        "import pandas as pd\n",
        "pd.set_option('display.max_columns', None)\n",
        "import numpy as np\n",
        "import matplotlib.pyplot as plt\n",
        "%matplotlib inline\n",
        "import seaborn as sns"
      ]
    },
    {
      "cell_type": "code",
      "execution_count": null,
      "id": "853c8571",
      "metadata": {
        "id": "853c8571",
        "outputId": "54c84979-8b57-4553-c811-866533031437"
      },
      "outputs": [
        {
          "data": {
            "text/html": [
              "<div>\n",
              "<style scoped>\n",
              "    .dataframe tbody tr th:only-of-type {\n",
              "        vertical-align: middle;\n",
              "    }\n",
              "\n",
              "    .dataframe tbody tr th {\n",
              "        vertical-align: top;\n",
              "    }\n",
              "\n",
              "    .dataframe thead th {\n",
              "        text-align: right;\n",
              "    }\n",
              "</style>\n",
              "<table border=\"1\" class=\"dataframe\">\n",
              "  <thead>\n",
              "    <tr style=\"text-align: right;\">\n",
              "      <th></th>\n",
              "      <th>CustomerID</th>\n",
              "      <th>Name</th>\n",
              "      <th>Age</th>\n",
              "      <th>Gender</th>\n",
              "      <th>Location</th>\n",
              "      <th>Subscription_Length_Months</th>\n",
              "      <th>Monthly_Bill</th>\n",
              "      <th>Total_Usage_GB</th>\n",
              "      <th>Churn</th>\n",
              "    </tr>\n",
              "  </thead>\n",
              "  <tbody>\n",
              "    <tr>\n",
              "      <th>0</th>\n",
              "      <td>1</td>\n",
              "      <td>Customer_1</td>\n",
              "      <td>63</td>\n",
              "      <td>Male</td>\n",
              "      <td>Los Angeles</td>\n",
              "      <td>17</td>\n",
              "      <td>73.36</td>\n",
              "      <td>236</td>\n",
              "      <td>0</td>\n",
              "    </tr>\n",
              "    <tr>\n",
              "      <th>1</th>\n",
              "      <td>2</td>\n",
              "      <td>Customer_2</td>\n",
              "      <td>62</td>\n",
              "      <td>Female</td>\n",
              "      <td>New York</td>\n",
              "      <td>1</td>\n",
              "      <td>48.76</td>\n",
              "      <td>172</td>\n",
              "      <td>0</td>\n",
              "    </tr>\n",
              "    <tr>\n",
              "      <th>2</th>\n",
              "      <td>3</td>\n",
              "      <td>Customer_3</td>\n",
              "      <td>24</td>\n",
              "      <td>Female</td>\n",
              "      <td>Los Angeles</td>\n",
              "      <td>5</td>\n",
              "      <td>85.47</td>\n",
              "      <td>460</td>\n",
              "      <td>0</td>\n",
              "    </tr>\n",
              "    <tr>\n",
              "      <th>3</th>\n",
              "      <td>4</td>\n",
              "      <td>Customer_4</td>\n",
              "      <td>36</td>\n",
              "      <td>Female</td>\n",
              "      <td>Miami</td>\n",
              "      <td>3</td>\n",
              "      <td>97.94</td>\n",
              "      <td>297</td>\n",
              "      <td>1</td>\n",
              "    </tr>\n",
              "    <tr>\n",
              "      <th>4</th>\n",
              "      <td>5</td>\n",
              "      <td>Customer_5</td>\n",
              "      <td>46</td>\n",
              "      <td>Female</td>\n",
              "      <td>Miami</td>\n",
              "      <td>19</td>\n",
              "      <td>58.14</td>\n",
              "      <td>266</td>\n",
              "      <td>0</td>\n",
              "    </tr>\n",
              "  </tbody>\n",
              "</table>\n",
              "</div>"
            ],
            "text/plain": [
              "   CustomerID        Name  Age  Gender     Location  \\\n",
              "0           1  Customer_1   63    Male  Los Angeles   \n",
              "1           2  Customer_2   62  Female     New York   \n",
              "2           3  Customer_3   24  Female  Los Angeles   \n",
              "3           4  Customer_4   36  Female        Miami   \n",
              "4           5  Customer_5   46  Female        Miami   \n",
              "\n",
              "   Subscription_Length_Months  Monthly_Bill  Total_Usage_GB  Churn  \n",
              "0                          17         73.36             236      0  \n",
              "1                           1         48.76             172      0  \n",
              "2                           5         85.47             460      0  \n",
              "3                           3         97.94             297      1  \n",
              "4                          19         58.14             266      0  "
            ]
          },
          "execution_count": 2,
          "metadata": {},
          "output_type": "execute_result"
        }
      ],
      "source": [
        "df = pd.read_excel(r'C:\\Users\\HP\\Desktop\\Data Science\\customer_churn_large_dataset.xlsx')\n",
        "df.head()"
      ]
    },
    {
      "cell_type": "markdown",
      "id": "feaafb09",
      "metadata": {
        "id": "feaafb09"
      },
      "source": [
        "# `Exploratory Data Analysis (EDA)`"
      ]
    },
    {
      "cell_type": "code",
      "execution_count": null,
      "id": "98e6927d",
      "metadata": {
        "id": "98e6927d",
        "outputId": "0e522f20-0758-48a1-bb55-c93a08e17f4c"
      },
      "outputs": [
        {
          "data": {
            "text/html": [
              "<div>\n",
              "<style scoped>\n",
              "    .dataframe tbody tr th:only-of-type {\n",
              "        vertical-align: middle;\n",
              "    }\n",
              "\n",
              "    .dataframe tbody tr th {\n",
              "        vertical-align: top;\n",
              "    }\n",
              "\n",
              "    .dataframe thead th {\n",
              "        text-align: right;\n",
              "    }\n",
              "</style>\n",
              "<table border=\"1\" class=\"dataframe\">\n",
              "  <thead>\n",
              "    <tr style=\"text-align: right;\">\n",
              "      <th></th>\n",
              "      <th>CustomerID</th>\n",
              "      <th>Name</th>\n",
              "      <th>Age</th>\n",
              "      <th>Gender</th>\n",
              "      <th>Location</th>\n",
              "      <th>Subscription_Length_Months</th>\n",
              "      <th>Monthly_Bill</th>\n",
              "      <th>Total_Usage_GB</th>\n",
              "      <th>Churn</th>\n",
              "    </tr>\n",
              "  </thead>\n",
              "  <tbody>\n",
              "    <tr>\n",
              "      <th>45759</th>\n",
              "      <td>45760</td>\n",
              "      <td>Customer_45760</td>\n",
              "      <td>52</td>\n",
              "      <td>Female</td>\n",
              "      <td>Houston</td>\n",
              "      <td>3</td>\n",
              "      <td>46.50</td>\n",
              "      <td>148</td>\n",
              "      <td>1</td>\n",
              "    </tr>\n",
              "    <tr>\n",
              "      <th>19977</th>\n",
              "      <td>19978</td>\n",
              "      <td>Customer_19978</td>\n",
              "      <td>59</td>\n",
              "      <td>Female</td>\n",
              "      <td>Miami</td>\n",
              "      <td>10</td>\n",
              "      <td>37.06</td>\n",
              "      <td>389</td>\n",
              "      <td>1</td>\n",
              "    </tr>\n",
              "    <tr>\n",
              "      <th>84826</th>\n",
              "      <td>84827</td>\n",
              "      <td>Customer_84827</td>\n",
              "      <td>66</td>\n",
              "      <td>Male</td>\n",
              "      <td>Miami</td>\n",
              "      <td>4</td>\n",
              "      <td>53.13</td>\n",
              "      <td>167</td>\n",
              "      <td>0</td>\n",
              "    </tr>\n",
              "    <tr>\n",
              "      <th>68506</th>\n",
              "      <td>68507</td>\n",
              "      <td>Customer_68507</td>\n",
              "      <td>48</td>\n",
              "      <td>Male</td>\n",
              "      <td>Los Angeles</td>\n",
              "      <td>13</td>\n",
              "      <td>73.74</td>\n",
              "      <td>171</td>\n",
              "      <td>1</td>\n",
              "    </tr>\n",
              "    <tr>\n",
              "      <th>14285</th>\n",
              "      <td>14286</td>\n",
              "      <td>Customer_14286</td>\n",
              "      <td>38</td>\n",
              "      <td>Male</td>\n",
              "      <td>Miami</td>\n",
              "      <td>20</td>\n",
              "      <td>80.93</td>\n",
              "      <td>63</td>\n",
              "      <td>1</td>\n",
              "    </tr>\n",
              "    <tr>\n",
              "      <th>43236</th>\n",
              "      <td>43237</td>\n",
              "      <td>Customer_43237</td>\n",
              "      <td>41</td>\n",
              "      <td>Female</td>\n",
              "      <td>Los Angeles</td>\n",
              "      <td>2</td>\n",
              "      <td>45.77</td>\n",
              "      <td>402</td>\n",
              "      <td>0</td>\n",
              "    </tr>\n",
              "    <tr>\n",
              "      <th>63916</th>\n",
              "      <td>63917</td>\n",
              "      <td>Customer_63917</td>\n",
              "      <td>65</td>\n",
              "      <td>Male</td>\n",
              "      <td>Miami</td>\n",
              "      <td>3</td>\n",
              "      <td>42.62</td>\n",
              "      <td>54</td>\n",
              "      <td>0</td>\n",
              "    </tr>\n",
              "    <tr>\n",
              "      <th>5379</th>\n",
              "      <td>5380</td>\n",
              "      <td>Customer_5380</td>\n",
              "      <td>64</td>\n",
              "      <td>Male</td>\n",
              "      <td>Los Angeles</td>\n",
              "      <td>1</td>\n",
              "      <td>38.91</td>\n",
              "      <td>362</td>\n",
              "      <td>1</td>\n",
              "    </tr>\n",
              "  </tbody>\n",
              "</table>\n",
              "</div>"
            ],
            "text/plain": [
              "       CustomerID            Name  Age  Gender     Location  \\\n",
              "45759       45760  Customer_45760   52  Female      Houston   \n",
              "19977       19978  Customer_19978   59  Female        Miami   \n",
              "84826       84827  Customer_84827   66    Male        Miami   \n",
              "68506       68507  Customer_68507   48    Male  Los Angeles   \n",
              "14285       14286  Customer_14286   38    Male        Miami   \n",
              "43236       43237  Customer_43237   41  Female  Los Angeles   \n",
              "63916       63917  Customer_63917   65    Male        Miami   \n",
              "5379         5380   Customer_5380   64    Male  Los Angeles   \n",
              "\n",
              "       Subscription_Length_Months  Monthly_Bill  Total_Usage_GB  Churn  \n",
              "45759                           3         46.50             148      1  \n",
              "19977                          10         37.06             389      1  \n",
              "84826                           4         53.13             167      0  \n",
              "68506                          13         73.74             171      1  \n",
              "14285                          20         80.93              63      1  \n",
              "43236                           2         45.77             402      0  \n",
              "63916                           3         42.62              54      0  \n",
              "5379                            1         38.91             362      1  "
            ]
          },
          "execution_count": 3,
          "metadata": {},
          "output_type": "execute_result"
        }
      ],
      "source": [
        "df.sample(8)"
      ]
    },
    {
      "cell_type": "code",
      "execution_count": null,
      "id": "12046ca0",
      "metadata": {
        "id": "12046ca0",
        "outputId": "1f5a2c20-46e9-4917-806f-321b72b427dd"
      },
      "outputs": [
        {
          "data": {
            "text/plain": [
              "(100000, 9)"
            ]
          },
          "execution_count": 4,
          "metadata": {},
          "output_type": "execute_result"
        }
      ],
      "source": [
        "df.shape"
      ]
    },
    {
      "cell_type": "code",
      "execution_count": null,
      "id": "8649918b",
      "metadata": {
        "id": "8649918b",
        "outputId": "ef23e36e-e657-4e6c-91da-7c2fc45a02a7"
      },
      "outputs": [
        {
          "data": {
            "text/plain": [
              "Index(['CustomerID', 'Name', 'Age', 'Gender', 'Location',\n",
              "       'Subscription_Length_Months', 'Monthly_Bill', 'Total_Usage_GB',\n",
              "       'Churn'],\n",
              "      dtype='object')"
            ]
          },
          "execution_count": 5,
          "metadata": {},
          "output_type": "execute_result"
        }
      ],
      "source": [
        "df.columns"
      ]
    },
    {
      "cell_type": "code",
      "execution_count": null,
      "id": "768c1a1f",
      "metadata": {
        "id": "768c1a1f",
        "outputId": "4b7728ea-f6e6-48d6-c2cf-27039749240b"
      },
      "outputs": [
        {
          "name": "stdout",
          "output_type": "stream",
          "text": [
            "<class 'pandas.core.frame.DataFrame'>\n",
            "RangeIndex: 100000 entries, 0 to 99999\n",
            "Data columns (total 9 columns):\n",
            " #   Column                      Non-Null Count   Dtype  \n",
            "---  ------                      --------------   -----  \n",
            " 0   CustomerID                  100000 non-null  int64  \n",
            " 1   Name                        100000 non-null  object \n",
            " 2   Age                         100000 non-null  int64  \n",
            " 3   Gender                      100000 non-null  object \n",
            " 4   Location                    100000 non-null  object \n",
            " 5   Subscription_Length_Months  100000 non-null  int64  \n",
            " 6   Monthly_Bill                100000 non-null  float64\n",
            " 7   Total_Usage_GB              100000 non-null  int64  \n",
            " 8   Churn                       100000 non-null  int64  \n",
            "dtypes: float64(1), int64(5), object(3)\n",
            "memory usage: 6.9+ MB\n"
          ]
        }
      ],
      "source": [
        "df.info()"
      ]
    },
    {
      "cell_type": "markdown",
      "id": "c87b2b8a",
      "metadata": {
        "id": "c87b2b8a"
      },
      "source": [
        "**All variables has correct data type.**"
      ]
    },
    {
      "cell_type": "code",
      "execution_count": null,
      "id": "13edb16c",
      "metadata": {
        "id": "13edb16c",
        "outputId": "e4d5492e-01b7-48fd-b2df-04667c4932cd"
      },
      "outputs": [
        {
          "data": {
            "text/plain": [
              "(CustomerID                    0.0\n",
              " Name                          0.0\n",
              " Age                           0.0\n",
              " Gender                        0.0\n",
              " Location                      0.0\n",
              " Subscription_Length_Months    0.0\n",
              " Monthly_Bill                  0.0\n",
              " Total_Usage_GB                0.0\n",
              " Churn                         0.0\n",
              " dtype: float64,)"
            ]
          },
          "execution_count": 7,
          "metadata": {},
          "output_type": "execute_result"
        }
      ],
      "source": [
        "df.isna().sum()/len(df)*100"
      ]
    },
    {
      "cell_type": "markdown",
      "id": "f7f7d2a0",
      "metadata": {
        "id": "f7f7d2a0"
      },
      "source": [
        "**There is no null value in any of variable.**"
      ]
    },
    {
      "cell_type": "code",
      "execution_count": null,
      "id": "62b833ab",
      "metadata": {
        "id": "62b833ab",
        "outputId": "9d39a9a7-2f52-4cca-ad25-addbbbf2de90"
      },
      "outputs": [
        {
          "data": {
            "text/plain": [
              "0"
            ]
          },
          "execution_count": 8,
          "metadata": {},
          "output_type": "execute_result"
        }
      ],
      "source": [
        "df.duplicated().sum()"
      ]
    },
    {
      "cell_type": "markdown",
      "id": "928e183a",
      "metadata": {
        "id": "928e183a"
      },
      "source": [
        "**There is no duplicate record in datset.**"
      ]
    },
    {
      "cell_type": "code",
      "execution_count": null,
      "id": "0c5ad6a9",
      "metadata": {
        "id": "0c5ad6a9",
        "outputId": "c9617ab6-3267-4411-aa5f-22cb21c8f426"
      },
      "outputs": [
        {
          "data": {
            "text/html": [
              "<div>\n",
              "<style scoped>\n",
              "    .dataframe tbody tr th:only-of-type {\n",
              "        vertical-align: middle;\n",
              "    }\n",
              "\n",
              "    .dataframe tbody tr th {\n",
              "        vertical-align: top;\n",
              "    }\n",
              "\n",
              "    .dataframe thead th {\n",
              "        text-align: right;\n",
              "    }\n",
              "</style>\n",
              "<table border=\"1\" class=\"dataframe\">\n",
              "  <thead>\n",
              "    <tr style=\"text-align: right;\">\n",
              "      <th></th>\n",
              "      <th>CustomerID</th>\n",
              "      <th>Age</th>\n",
              "      <th>Subscription_Length_Months</th>\n",
              "      <th>Monthly_Bill</th>\n",
              "      <th>Total_Usage_GB</th>\n",
              "      <th>Churn</th>\n",
              "    </tr>\n",
              "  </thead>\n",
              "  <tbody>\n",
              "    <tr>\n",
              "      <th>count</th>\n",
              "      <td>100000.000000</td>\n",
              "      <td>100000.000000</td>\n",
              "      <td>100000.000000</td>\n",
              "      <td>100000.000000</td>\n",
              "      <td>100000.000000</td>\n",
              "      <td>100000.000000</td>\n",
              "    </tr>\n",
              "    <tr>\n",
              "      <th>mean</th>\n",
              "      <td>50000.500000</td>\n",
              "      <td>44.027020</td>\n",
              "      <td>12.490100</td>\n",
              "      <td>65.053197</td>\n",
              "      <td>274.393650</td>\n",
              "      <td>0.497790</td>\n",
              "    </tr>\n",
              "    <tr>\n",
              "      <th>std</th>\n",
              "      <td>28867.657797</td>\n",
              "      <td>15.280283</td>\n",
              "      <td>6.926461</td>\n",
              "      <td>20.230696</td>\n",
              "      <td>130.463063</td>\n",
              "      <td>0.499998</td>\n",
              "    </tr>\n",
              "    <tr>\n",
              "      <th>min</th>\n",
              "      <td>1.000000</td>\n",
              "      <td>18.000000</td>\n",
              "      <td>1.000000</td>\n",
              "      <td>30.000000</td>\n",
              "      <td>50.000000</td>\n",
              "      <td>0.000000</td>\n",
              "    </tr>\n",
              "    <tr>\n",
              "      <th>25%</th>\n",
              "      <td>25000.750000</td>\n",
              "      <td>31.000000</td>\n",
              "      <td>6.000000</td>\n",
              "      <td>47.540000</td>\n",
              "      <td>161.000000</td>\n",
              "      <td>0.000000</td>\n",
              "    </tr>\n",
              "    <tr>\n",
              "      <th>50%</th>\n",
              "      <td>50000.500000</td>\n",
              "      <td>44.000000</td>\n",
              "      <td>12.000000</td>\n",
              "      <td>65.010000</td>\n",
              "      <td>274.000000</td>\n",
              "      <td>0.000000</td>\n",
              "    </tr>\n",
              "    <tr>\n",
              "      <th>75%</th>\n",
              "      <td>75000.250000</td>\n",
              "      <td>57.000000</td>\n",
              "      <td>19.000000</td>\n",
              "      <td>82.640000</td>\n",
              "      <td>387.000000</td>\n",
              "      <td>1.000000</td>\n",
              "    </tr>\n",
              "    <tr>\n",
              "      <th>max</th>\n",
              "      <td>100000.000000</td>\n",
              "      <td>70.000000</td>\n",
              "      <td>24.000000</td>\n",
              "      <td>100.000000</td>\n",
              "      <td>500.000000</td>\n",
              "      <td>1.000000</td>\n",
              "    </tr>\n",
              "  </tbody>\n",
              "</table>\n",
              "</div>"
            ],
            "text/plain": [
              "          CustomerID            Age  Subscription_Length_Months  \\\n",
              "count  100000.000000  100000.000000               100000.000000   \n",
              "mean    50000.500000      44.027020                   12.490100   \n",
              "std     28867.657797      15.280283                    6.926461   \n",
              "min         1.000000      18.000000                    1.000000   \n",
              "25%     25000.750000      31.000000                    6.000000   \n",
              "50%     50000.500000      44.000000                   12.000000   \n",
              "75%     75000.250000      57.000000                   19.000000   \n",
              "max    100000.000000      70.000000                   24.000000   \n",
              "\n",
              "        Monthly_Bill  Total_Usage_GB          Churn  \n",
              "count  100000.000000   100000.000000  100000.000000  \n",
              "mean       65.053197      274.393650       0.497790  \n",
              "std        20.230696      130.463063       0.499998  \n",
              "min        30.000000       50.000000       0.000000  \n",
              "25%        47.540000      161.000000       0.000000  \n",
              "50%        65.010000      274.000000       0.000000  \n",
              "75%        82.640000      387.000000       1.000000  \n",
              "max       100.000000      500.000000       1.000000  "
            ]
          },
          "execution_count": 9,
          "metadata": {},
          "output_type": "execute_result"
        }
      ],
      "source": [
        "# Statistical summary of numerical variables\n",
        "\n",
        "df.describe()"
      ]
    },
    {
      "cell_type": "markdown",
      "id": "09996b54",
      "metadata": {
        "id": "09996b54"
      },
      "source": [
        "### `Age`\n",
        "\n",
        "* **The average age of the customers is approximately 44 years.**\n",
        "\n",
        "* **The spread of ages is represented by a standard deviation of about 15 years.**\n",
        "\n",
        "\n",
        "### `Subscription_Length_Months`\n",
        "\n",
        "* **On average, customers have a subscription length of around 12.5 months.**\n",
        "\n",
        "* **The standard deviation is approximately 6.9 months, indicating some variation in subscription lengths.**\n",
        "\n",
        "\n",
        "### `Monthly_Bill`\n",
        "\n",
        "* **Customers pay an average monthly bill of roughly $65.**\n",
        "\n",
        "\n",
        "* **Monthly bills range from 30 Dollar (minimum) to 100 Dollar (maximum).**\n",
        "\n",
        "\n",
        "* **The majority of customers pay between approximately 47.50 Dollar to 82.64 Dollar per month.**\n",
        "\n",
        "\n",
        "* **Monthly bill amounts have a standard deviation of about $20.23, showing some variability.**\n",
        "\n",
        "\n",
        "### `Total_Usage_GB`\n",
        "\n",
        "* **The average total usage of customers is about 274.4 GB.**\n",
        "\n",
        "* **Total usage has a standard deviation of approximately 130.46 GB, indicating a significant range.**\n",
        "\n",
        "### `Churn`\n",
        "\n",
        "* **About half of the customers have churned (Churn value = 1), while the other half haven't (Churn value = 0).**\n",
        "\n",
        "\n",
        "* **This is represented by a mean churn rate of approximately 0.5.**\n",
        "\n",
        "\n",
        "* **Churn values are binary (0 or 1), indicating whether a customer has churned or not.**\n",
        "\n",
        "\n",
        "* **Churn rate is evenly distributed due to a mean close to 0.5.**"
      ]
    },
    {
      "cell_type": "code",
      "execution_count": null,
      "id": "0fda8cd0",
      "metadata": {
        "id": "0fda8cd0",
        "outputId": "4967549a-776f-4063-dea1-30fefb3a525d"
      },
      "outputs": [
        {
          "data": {
            "text/html": [
              "<div>\n",
              "<style scoped>\n",
              "    .dataframe tbody tr th:only-of-type {\n",
              "        vertical-align: middle;\n",
              "    }\n",
              "\n",
              "    .dataframe tbody tr th {\n",
              "        vertical-align: top;\n",
              "    }\n",
              "\n",
              "    .dataframe thead th {\n",
              "        text-align: right;\n",
              "    }\n",
              "</style>\n",
              "<table border=\"1\" class=\"dataframe\">\n",
              "  <thead>\n",
              "    <tr style=\"text-align: right;\">\n",
              "      <th></th>\n",
              "      <th>Name</th>\n",
              "      <th>Gender</th>\n",
              "      <th>Location</th>\n",
              "    </tr>\n",
              "  </thead>\n",
              "  <tbody>\n",
              "    <tr>\n",
              "      <th>count</th>\n",
              "      <td>100000</td>\n",
              "      <td>100000</td>\n",
              "      <td>100000</td>\n",
              "    </tr>\n",
              "    <tr>\n",
              "      <th>unique</th>\n",
              "      <td>100000</td>\n",
              "      <td>2</td>\n",
              "      <td>5</td>\n",
              "    </tr>\n",
              "    <tr>\n",
              "      <th>top</th>\n",
              "      <td>Customer_1</td>\n",
              "      <td>Female</td>\n",
              "      <td>Houston</td>\n",
              "    </tr>\n",
              "    <tr>\n",
              "      <th>freq</th>\n",
              "      <td>1</td>\n",
              "      <td>50216</td>\n",
              "      <td>20157</td>\n",
              "    </tr>\n",
              "  </tbody>\n",
              "</table>\n",
              "</div>"
            ],
            "text/plain": [
              "              Name  Gender Location\n",
              "count       100000  100000   100000\n",
              "unique      100000       2        5\n",
              "top     Customer_1  Female  Houston\n",
              "freq             1   50216    20157"
            ]
          },
          "execution_count": 10,
          "metadata": {},
          "output_type": "execute_result"
        }
      ],
      "source": [
        "# Statistical summary of categoical variables\n",
        "\n",
        "df.describe(include=['object'])"
      ]
    },
    {
      "cell_type": "code",
      "execution_count": null,
      "id": "68616266",
      "metadata": {
        "id": "68616266",
        "outputId": "a3a3b56e-3182-4a07-86d5-09964c5142d9"
      },
      "outputs": [
        {
          "data": {
            "text/plain": [
              "Female    50216\n",
              "Male      49784\n",
              "Name: Gender, dtype: int64"
            ]
          },
          "execution_count": 11,
          "metadata": {},
          "output_type": "execute_result"
        }
      ],
      "source": [
        "df['Gender'].value_counts()"
      ]
    },
    {
      "cell_type": "code",
      "execution_count": null,
      "id": "4dbf1bae",
      "metadata": {
        "id": "4dbf1bae",
        "outputId": "4ec42903-0b09-4fe9-b595-2d7c72402ed8"
      },
      "outputs": [
        {
          "data": {
            "text/plain": [
              "Houston        20157\n",
              "Los Angeles    20041\n",
              "Miami          20031\n",
              "Chicago        19958\n",
              "New York       19813\n",
              "Name: Location, dtype: int64"
            ]
          },
          "execution_count": 12,
          "metadata": {},
          "output_type": "execute_result"
        }
      ],
      "source": [
        "df['Location'].value_counts()"
      ]
    },
    {
      "cell_type": "markdown",
      "id": "190386dc",
      "metadata": {
        "id": "190386dc"
      },
      "source": [
        "### `Gender`\n",
        "\n",
        "* **The dataset includes information about two unique genders.**\n",
        "\n",
        "\n",
        "* **The most common gender is \"Female,\" which appears 50,216 times.**\n",
        "\n",
        "\n",
        "* **The frequency of females in the dataset is greater than that Male.**\n",
        "\n",
        "\n",
        "### `Location`\n",
        "\n",
        "* **The dataset contains information about five unique locations[Houston, Los Angeles, Miami, Chicago, New York].**\n",
        "\n",
        "\n",
        "* **The most frequent location is \"Houston,\" occurring 20,157 times.**"
      ]
    },
    {
      "cell_type": "code",
      "execution_count": null,
      "id": "804da930",
      "metadata": {
        "id": "804da930",
        "outputId": "1db5bf8f-4a06-4c4b-a652-1d393b188cf9"
      },
      "outputs": [
        {
          "data": {
            "text/html": [
              "<div>\n",
              "<style scoped>\n",
              "    .dataframe tbody tr th:only-of-type {\n",
              "        vertical-align: middle;\n",
              "    }\n",
              "\n",
              "    .dataframe tbody tr th {\n",
              "        vertical-align: top;\n",
              "    }\n",
              "\n",
              "    .dataframe thead th {\n",
              "        text-align: right;\n",
              "    }\n",
              "</style>\n",
              "<table border=\"1\" class=\"dataframe\">\n",
              "  <thead>\n",
              "    <tr style=\"text-align: right;\">\n",
              "      <th></th>\n",
              "      <th>CustomerID</th>\n",
              "      <th>Age</th>\n",
              "      <th>Subscription_Length_Months</th>\n",
              "      <th>Monthly_Bill</th>\n",
              "      <th>Total_Usage_GB</th>\n",
              "      <th>Churn</th>\n",
              "    </tr>\n",
              "  </thead>\n",
              "  <tbody>\n",
              "    <tr>\n",
              "      <th>CustomerID</th>\n",
              "      <td>1.000000</td>\n",
              "      <td>-0.001085</td>\n",
              "      <td>0.005444</td>\n",
              "      <td>0.001265</td>\n",
              "      <td>-0.004025</td>\n",
              "      <td>-0.004586</td>\n",
              "    </tr>\n",
              "    <tr>\n",
              "      <th>Age</th>\n",
              "      <td>-0.001085</td>\n",
              "      <td>1.000000</td>\n",
              "      <td>0.003382</td>\n",
              "      <td>0.001110</td>\n",
              "      <td>0.001927</td>\n",
              "      <td>0.001559</td>\n",
              "    </tr>\n",
              "    <tr>\n",
              "      <th>Subscription_Length_Months</th>\n",
              "      <td>0.005444</td>\n",
              "      <td>0.003382</td>\n",
              "      <td>1.000000</td>\n",
              "      <td>-0.005294</td>\n",
              "      <td>-0.002203</td>\n",
              "      <td>0.002328</td>\n",
              "    </tr>\n",
              "    <tr>\n",
              "      <th>Monthly_Bill</th>\n",
              "      <td>0.001265</td>\n",
              "      <td>0.001110</td>\n",
              "      <td>-0.005294</td>\n",
              "      <td>1.000000</td>\n",
              "      <td>0.003187</td>\n",
              "      <td>-0.000211</td>\n",
              "    </tr>\n",
              "    <tr>\n",
              "      <th>Total_Usage_GB</th>\n",
              "      <td>-0.004025</td>\n",
              "      <td>0.001927</td>\n",
              "      <td>-0.002203</td>\n",
              "      <td>0.003187</td>\n",
              "      <td>1.000000</td>\n",
              "      <td>-0.002842</td>\n",
              "    </tr>\n",
              "    <tr>\n",
              "      <th>Churn</th>\n",
              "      <td>-0.004586</td>\n",
              "      <td>0.001559</td>\n",
              "      <td>0.002328</td>\n",
              "      <td>-0.000211</td>\n",
              "      <td>-0.002842</td>\n",
              "      <td>1.000000</td>\n",
              "    </tr>\n",
              "  </tbody>\n",
              "</table>\n",
              "</div>"
            ],
            "text/plain": [
              "                            CustomerID       Age  Subscription_Length_Months  \\\n",
              "CustomerID                    1.000000 -0.001085                    0.005444   \n",
              "Age                          -0.001085  1.000000                    0.003382   \n",
              "Subscription_Length_Months    0.005444  0.003382                    1.000000   \n",
              "Monthly_Bill                  0.001265  0.001110                   -0.005294   \n",
              "Total_Usage_GB               -0.004025  0.001927                   -0.002203   \n",
              "Churn                        -0.004586  0.001559                    0.002328   \n",
              "\n",
              "                            Monthly_Bill  Total_Usage_GB     Churn  \n",
              "CustomerID                      0.001265       -0.004025 -0.004586  \n",
              "Age                             0.001110        0.001927  0.001559  \n",
              "Subscription_Length_Months     -0.005294       -0.002203  0.002328  \n",
              "Monthly_Bill                    1.000000        0.003187 -0.000211  \n",
              "Total_Usage_GB                  0.003187        1.000000 -0.002842  \n",
              "Churn                          -0.000211       -0.002842  1.000000  "
            ]
          },
          "execution_count": 13,
          "metadata": {},
          "output_type": "execute_result"
        }
      ],
      "source": [
        "# Checking correlation between numerical variables\n",
        "\n",
        "df.corr()"
      ]
    },
    {
      "cell_type": "code",
      "execution_count": null,
      "id": "f29e0eb8",
      "metadata": {
        "id": "f29e0eb8",
        "outputId": "ea51da83-44c9-41ac-8477-da88c56220af"
      },
      "outputs": [
        {
          "data": {
            "image/png": "[encoded data removed]",
            "text/plain": [
              "<Figure size 1000x500 with 2 Axes>"
            ]
          },
          "metadata": {},
          "output_type": "display_data"
        }
      ],
      "source": [
        "corr_matrix = df.corr()\n",
        "plt.figure(figsize=(10,5)) #(width,height)\n",
        "sns.heatmap(corr_matrix, annot=True, cmap='coolwarm', square=True)\n",
        "plt.title('Correlation Matrix Heatmap')\n",
        "plt.show()"
      ]
    },
    {
      "cell_type": "markdown",
      "id": "9c6531a4",
      "metadata": {
        "id": "9c6531a4"
      },
      "source": [
        "### `Age and Subscription Length`\n",
        "\n",
        "* **Age and subscription length have a very low positive correlation of approximately 0.0034.**\n",
        "\n",
        "\n",
        "* **This indicates that there is almost no linear relationship between a customer's age and the length of their subscription. It means customer's age does not have a strong impact on how long they stay subscribed.**\n",
        "\n",
        "\n",
        "### `Age and Monthly Bill`\n",
        "\n",
        "* **Age and monthly bill amount have an extremely low positive correlation of about 0.0011.**\n",
        "\n",
        "\n",
        "* **This suggests that there is almost no linear relationship between a customer's age and the amount they are billed monthly. It means customer's age does not have a strong impact on the amount they are billed monthly.**\n",
        "\n",
        "\n",
        "### `Age and Total Usage`\n",
        "\n",
        "* **Age and total usage in GB have a very low positive correlation of around 0.0019.**\n",
        "\n",
        "\n",
        "* **This implies that there is almost no linear relationship between a customer's age and the amount of data they use. it means  customer's age does not have a strong impact on how much data they use.**\n",
        "\n",
        "\n",
        "### `Age and Churn`\n",
        "\n",
        "* **Age and churn have a very low positive correlation of about 0.0016.**\n",
        "\n",
        "\n",
        "* **This means that there is almost no linear relationship between a customer's age and their likelihood to churn means customer's age is not a good predictor of whether they will churn.**\n",
        "\n",
        "\n",
        "### `Subscription Length and Monthly Bill`\n",
        "\n",
        "* **Subscription length and monthly bill amount have a very low negative correlation of approximately -0.0053.**\n",
        "\n",
        "\n",
        "* **There is a weak relationship between how long a customer has been subscribed and how much they pay each month.**\n",
        "\n",
        "\n",
        "### `Subscription Length and Total Usage`\n",
        "\n",
        "* **Subscription length and total usage have a very low negative correlation of around -0.0022.**\n",
        "\n",
        "\n",
        "* **This suggests that changes in subscription length are not strongly associated with changes in total data usage.**\n",
        "\n",
        "\n",
        "### `Subscription Length and Churn`\n",
        "\n",
        "* **Subscription length and churn have a very low positive correlation of about 0.0023.**\n",
        "\n",
        "\n",
        "* **There is almost no linear relationship between subscription length and churn behavior means length of a subscription does not have a strong impact on whether a customer churns.**\n",
        "\n",
        "\n",
        "### `Monthly Bill and Total Usage`\n",
        "\n",
        "* **Monthly bill amount and total usage have an extremely low positive correlation of about 0.0032.**\n",
        "\n",
        "\n",
        "* **This indicates that there is almost no linear relationship between a customer's monthly bill and their total data usage. It means the amount of data a customer uses does not have a strong impact on their monthly bill.**\n",
        "\n",
        "### `Monthly Bill and Churn`\n",
        "\n",
        "* **Monthly bill amount and churn have an extremely low negative correlation of approximately -0.0002.**\n",
        "\n",
        "\n",
        "* **This suggests that there is hardly any linear relationship between monthly bill amount and churn behavior.**\n",
        "\n",
        "\n",
        "* **The amount a customer is billed monthly does not have a strong impact on whether they churn.**\n",
        "\n",
        "### `Total Usage and Churn`\n",
        "\n",
        "* **Total usage and churn have a very low negative correlation of about -0.0028.**\n",
        "\n",
        "\n",
        "* **There is almost no linear relationship between a customer's data usage and their likelihood to churn.**\n",
        "\n",
        "\n",
        "* **The amount of data a customer uses does not have a strong impact on whether they churn.**"
      ]
    },
    {
      "cell_type": "code",
      "execution_count": null,
      "id": "bb1f3054",
      "metadata": {
        "id": "bb1f3054"
      },
      "outputs": [],
      "source": [
        "df.drop(columns=['CustomerID', 'Name'],axis=1,inplace=True)"
      ]
    },
    {
      "cell_type": "code",
      "execution_count": null,
      "id": "82275164",
      "metadata": {
        "id": "82275164",
        "outputId": "6e7da80e-688e-4ab2-aaa6-254e30d2dbc9"
      },
      "outputs": [
        {
          "data": {
            "text/plain": [
              "Index(['Age', 'Gender', 'Location', 'Subscription_Length_Months',\n",
              "       'Monthly_Bill', 'Total_Usage_GB', 'Churn'],\n",
              "      dtype='object')"
            ]
          },
          "execution_count": 16,
          "metadata": {},
          "output_type": "execute_result"
        }
      ],
      "source": [
        "df.columns"
      ]
    },
    {
      "cell_type": "markdown",
      "id": "d88a955b",
      "metadata": {
        "id": "d88a955b"
      },
      "source": [
        "**Removed ['CustomerID' & 'Name'] variables becuase they are irrelevant for analysis. Now dataset left with 6 variables**"
      ]
    },
    {
      "cell_type": "code",
      "execution_count": null,
      "id": "c306b752",
      "metadata": {
        "id": "c306b752",
        "outputId": "dd363f29-5300-42a8-c630-1d750704e7dc"
      },
      "outputs": [
        {
          "name": "stdout",
          "output_type": "stream",
          "text": [
            "Unique values in 'Age': [63 62 24 36 46 67 30 20 53 50 44 34 28 42 55 43 31 41 58 64 70 18 25 27\n",
            " 66 29 60 26 45 19 37 49 38 57 47 48 40 21 33 51 35 69 61 52 39 56 59 65\n",
            " 22 54 68 32 23]\n",
            "\n",
            "Unique values in 'Gender': ['Male' 'Female']\n",
            "\n",
            "Unique values in 'Location': ['Los Angeles' 'New York' 'Miami' 'Chicago' 'Houston']\n",
            "\n",
            "Unique values in 'Subscription_Length_Months': [17  1  5  3 19 15 10 12 20 13  8 23  2  4 18  9 14 16  6  7 24 22 11 21]\n",
            "\n",
            "Unique values in 'Monthly_Bill': [73.36 48.76 85.47 ... 75.21 41.98 83.55]\n",
            "\n",
            "Unique values in 'Total_Usage_GB': [236 172 460 297 266 456 269 396 150 383 442 295 148 239 233 231 198 354\n",
            " 429 243 270 389 226 393  89 183 135 185 151 115 194 278 423 202 495 162\n",
            " 101 294 122 305 212 220 253 411 447 218 221 166  64  67 391 232 298 334\n",
            " 326 459 371 299 376 214 329  50 444 113  76 134 184 319 235  85 332  73\n",
            " 369 308 446 321  83 114 296 102 215 169 225 140  84 463 402 468 375 366\n",
            " 404 471 204 320 178 149 361 304 281 177 117 137 322 427 403 237 439 336\n",
            " 344 288 257 196 365 419 111 192 244 287 395 213 109 286 283 230 491 274\n",
            " 335 462 407 126 199 351 261 496 480 400 303 197 181 474 348 112 457  54\n",
            " 397 100 318 242 327 476 256 241 466 438  51 165 120 493  59 188 339 167\n",
            " 301 209 311 190 345 284 390  72 258 358 136 280  55 309 388  52 478 401\n",
            " 472  65 163 488 497  71 216 229 271 223 263 255 145 203 372 443 306 307\n",
            " 386 448 377 482 324 357 187 394 123 106  80 211  78 499 498 424 325 119\n",
            " 143 153 437 492 406  69 272 352 125  82 160 333 104 247 405 353  63 289\n",
            "  88 346  91 385 380 431 364  79 300 374  86 290 265 433 469 453 224 421\n",
            " 251 485 180 171  95  93 350  58 200 420 132 428 479  96 103 129 417  99\n",
            " 430  75  53 382 412 268 410  94 315 387 116 489 108 208 313 127 222 451\n",
            "  56 139 282 138 141 156 373 157 467  68 414 360 144 273 217 189 118 155\n",
            "  62 413 154 458 449 490 464 379 254 131  92 195 450 347 191 425 432 384\n",
            "  57 494 173 210 363 130 487 455 105 399 323  61 341 426 240 302 176 152\n",
            " 331 440 276  87 291 193  90 500 170 174 182 359 408 454 158 328 436 312\n",
            " 338  60 362 205 416 483 415 477 484 252 250 164 146 161 234 473 317  77\n",
            " 267 342 110 343 133 330 367 147  81 277 310 392 349 314 107 259 228 168\n",
            " 246 219  98 121 142 238 206  97 381 245 175 124 292 340 316 465 470 475\n",
            " 248 445 452 249 337  66 418 201 227 422 481 355 279 435 275 260  70 186\n",
            " 159 368 179 262 370  74 378 128 461 293 441 434 207 356 398 285 409 486\n",
            " 264]\n",
            "\n",
            "Unique values in 'Churn': [0 1]\n",
            "\n",
            "--------------------------------------------------\n",
            "Missing values:\n",
            "Age                           0\n",
            "Gender                        0\n",
            "Location                      0\n",
            "Subscription_Length_Months    0\n",
            "Monthly_Bill                  0\n",
            "Total_Usage_GB                0\n",
            "Churn                         0\n",
            "dtype: int64\n",
            "\n",
            "--------------------------------------------------\n",
            "Duplicate values: 0\n",
            "\n",
            "--------------------------------------------------\n",
            "Shape of Dataset: (100000, 7)\n",
            "\n",
            "--------------------------------------------------\n",
            "Columns of Datset: Index(['Age', 'Gender', 'Location', 'Subscription_Length_Months',\n",
            "       'Monthly_Bill', 'Total_Usage_GB', 'Churn'],\n",
            "      dtype='object')\n",
            "\n",
            "--------------------------------------------------\n",
            "\n",
            "Data types:\n",
            "Age                             int64\n",
            "Gender                         object\n",
            "Location                       object\n",
            "Subscription_Length_Months      int64\n",
            "Monthly_Bill                  float64\n",
            "Total_Usage_GB                  int64\n",
            "Churn                           int64\n",
            "dtype: object\n",
            "\n"
          ]
        }
      ],
      "source": [
        "# Check for typo's & suspicious values and rechecking dataset\n",
        "\n",
        "for column in df.columns:\n",
        "    unique_values = df[column].unique()\n",
        "    print(f\"Unique values in '{column}': {unique_values}\")\n",
        "    print()\n",
        "\n",
        "missing_values = df.isnull().sum()\n",
        "data_types = df.dtypes\n",
        "\n",
        "print('-'*50)\n",
        "print(\"Missing values:\")\n",
        "print(missing_values)\n",
        "print()\n",
        "\n",
        "x = df.duplicated().sum()\n",
        "print('-'*50)\n",
        "print(\"Duplicate values:\", x)\n",
        "print()\n",
        "\n",
        "\n",
        "y = df.shape\n",
        "print('-'*50)\n",
        "print(\"Shape of Dataset:\", y)\n",
        "print()\n",
        "\n",
        "z = df.columns\n",
        "print('-'*50)\n",
        "print(\"Columns of Datset:\", z)\n",
        "print()\n",
        "\n",
        "print('-'*50)\n",
        "print(\"\\nData types:\")\n",
        "print(data_types)\n",
        "print()"
      ]
    },
    {
      "cell_type": "markdown",
      "id": "cbb7859c",
      "metadata": {
        "id": "cbb7859c"
      },
      "source": [
        "**The dataset has been cleaned and no suspicious values or typos have been found.**"
      ]
    },
    {
      "cell_type": "markdown",
      "id": "8e9a9a41",
      "metadata": {
        "id": "8e9a9a41"
      },
      "source": [
        "# `Outliers Treatment`\n",
        "\n",
        "It is important to find and remove unusual or extreme data points, also known as outliers. Outliers can affect the model's understanding of the data and lead to wrong predictions. By identifying and removing outliers, the model becomes more accurate and reliable, and can better capture the actual patterns in the data."
      ]
    },
    {
      "cell_type": "code",
      "execution_count": null,
      "id": "e1f660d4",
      "metadata": {
        "id": "e1f660d4",
        "outputId": "e44d3b7e-e7b1-4225-ab40-45ad81b398a4"
      },
      "outputs": [
        {
          "data": {
            "image/png": "[encoded data removed]",
            "text/plain": [
              "<Figure size 700x600 with 1 Axes>"
            ]
          },
          "metadata": {},
          "output_type": "display_data"
        }
      ],
      "source": [
        "# Adjust figure size based on the number of columns\n",
        "num_columns = len(df.columns)\n",
        "fig, ax = plt.subplots(figsize=(10, 6))\n",
        "if num_columns > 16:\n",
        "    fig.set_size_inches(10, num_columns * 0.6)\n",
        "else:\n",
        "    fig.set_size_inches(num_columns, 6)\n",
        "\n",
        "# Create a boxplot for each column\n",
        "df.boxplot(ax=ax)\n",
        "\n",
        "# Set the title and labels\n",
        "plt.title(\"Boxplot of Columns\")\n",
        "plt.xlabel(\"Columns\")\n",
        "plt.ylabel(\"Values\")\n",
        "\n",
        "# Rotate the x-axis labels for better readability (optional)\n",
        "plt.xticks(rotation=90)\n",
        "\n",
        "# Show the plot\n",
        "plt.show()"
      ]
    },
    {
      "cell_type": "markdown",
      "id": "8f3de4af",
      "metadata": {
        "id": "8f3de4af"
      },
      "source": [
        "**There is no outlier present in any of the variable.**"
      ]
    },
    {
      "cell_type": "code",
      "execution_count": null,
      "id": "6193a6bf",
      "metadata": {
        "id": "6193a6bf"
      },
      "outputs": [],
      "source": [
        "# Make a copy of cleaned data\n",
        "\n",
        "df_cleaned = df.copy()"
      ]
    },
    {
      "cell_type": "markdown",
      "id": "b09da425",
      "metadata": {
        "id": "b09da425"
      },
      "source": [
        "# `Feature Encoding`\n",
        "\n",
        "Feature encoding techniques converts categorical data (like labels) into numbers that algorithms understand. This is essential because algorithms work with numbers, ensuring valuable info from categories isn't lost."
      ]
    },
    {
      "cell_type": "code",
      "execution_count": null,
      "id": "868b4e5d",
      "metadata": {
        "id": "868b4e5d",
        "outputId": "5a111060-472f-4c79-dac0-7860faf33059"
      },
      "outputs": [
        {
          "data": {
            "text/plain": [
              "Index(['Gender', 'Location'], dtype='object')"
            ]
          },
          "execution_count": 20,
          "metadata": {},
          "output_type": "execute_result"
        }
      ],
      "source": [
        "categorical_columns = df.select_dtypes(include=['object']).columns\n",
        "categorical_columns"
      ]
    },
    {
      "cell_type": "markdown",
      "id": "b68a4328",
      "metadata": {
        "id": "b68a4328"
      },
      "source": [
        "**There are two variables, which needs to be encode.**"
      ]
    },
    {
      "cell_type": "code",
      "execution_count": null,
      "id": "6a7d7273",
      "metadata": {
        "id": "6a7d7273"
      },
      "outputs": [],
      "source": [
        "df = pd.get_dummies(df, columns=['Gender', 'Location'], drop_first = True)"
      ]
    },
    {
      "cell_type": "code",
      "execution_count": null,
      "id": "a2bdab30",
      "metadata": {
        "id": "a2bdab30",
        "outputId": "4e5ae009-47b9-4020-a922-6358a1b489c7"
      },
      "outputs": [
        {
          "data": {
            "text/html": [
              "<div>\n",
              "<style scoped>\n",
              "    .dataframe tbody tr th:only-of-type {\n",
              "        vertical-align: middle;\n",
              "    }\n",
              "\n",
              "    .dataframe tbody tr th {\n",
              "        vertical-align: top;\n",
              "    }\n",
              "\n",
              "    .dataframe thead th {\n",
              "        text-align: right;\n",
              "    }\n",
              "</style>\n",
              "<table border=\"1\" class=\"dataframe\">\n",
              "  <thead>\n",
              "    <tr style=\"text-align: right;\">\n",
              "      <th></th>\n",
              "      <th>Age</th>\n",
              "      <th>Subscription_Length_Months</th>\n",
              "      <th>Monthly_Bill</th>\n",
              "      <th>Total_Usage_GB</th>\n",
              "      <th>Churn</th>\n",
              "      <th>Gender_Male</th>\n",
              "      <th>Location_Houston</th>\n",
              "      <th>Location_Los Angeles</th>\n",
              "      <th>Location_Miami</th>\n",
              "      <th>Location_New York</th>\n",
              "    </tr>\n",
              "  </thead>\n",
              "  <tbody>\n",
              "    <tr>\n",
              "      <th>0</th>\n",
              "      <td>63</td>\n",
              "      <td>17</td>\n",
              "      <td>73.36</td>\n",
              "      <td>236</td>\n",
              "      <td>0</td>\n",
              "      <td>1</td>\n",
              "      <td>0</td>\n",
              "      <td>1</td>\n",
              "      <td>0</td>\n",
              "      <td>0</td>\n",
              "    </tr>\n",
              "    <tr>\n",
              "      <th>1</th>\n",
              "      <td>62</td>\n",
              "      <td>1</td>\n",
              "      <td>48.76</td>\n",
              "      <td>172</td>\n",
              "      <td>0</td>\n",
              "      <td>0</td>\n",
              "      <td>0</td>\n",
              "      <td>0</td>\n",
              "      <td>0</td>\n",
              "      <td>1</td>\n",
              "    </tr>\n",
              "    <tr>\n",
              "      <th>2</th>\n",
              "      <td>24</td>\n",
              "      <td>5</td>\n",
              "      <td>85.47</td>\n",
              "      <td>460</td>\n",
              "      <td>0</td>\n",
              "      <td>0</td>\n",
              "      <td>0</td>\n",
              "      <td>1</td>\n",
              "      <td>0</td>\n",
              "      <td>0</td>\n",
              "    </tr>\n",
              "    <tr>\n",
              "      <th>3</th>\n",
              "      <td>36</td>\n",
              "      <td>3</td>\n",
              "      <td>97.94</td>\n",
              "      <td>297</td>\n",
              "      <td>1</td>\n",
              "      <td>0</td>\n",
              "      <td>0</td>\n",
              "      <td>0</td>\n",
              "      <td>1</td>\n",
              "      <td>0</td>\n",
              "    </tr>\n",
              "    <tr>\n",
              "      <th>4</th>\n",
              "      <td>46</td>\n",
              "      <td>19</td>\n",
              "      <td>58.14</td>\n",
              "      <td>266</td>\n",
              "      <td>0</td>\n",
              "      <td>0</td>\n",
              "      <td>0</td>\n",
              "      <td>0</td>\n",
              "      <td>1</td>\n",
              "      <td>0</td>\n",
              "    </tr>\n",
              "  </tbody>\n",
              "</table>\n",
              "</div>"
            ],
            "text/plain": [
              "   Age  Subscription_Length_Months  Monthly_Bill  Total_Usage_GB  Churn  \\\n",
              "0   63                          17         73.36             236      0   \n",
              "1   62                           1         48.76             172      0   \n",
              "2   24                           5         85.47             460      0   \n",
              "3   36                           3         97.94             297      1   \n",
              "4   46                          19         58.14             266      0   \n",
              "\n",
              "   Gender_Male  Location_Houston  Location_Los Angeles  Location_Miami  \\\n",
              "0            1                 0                     1               0   \n",
              "1            0                 0                     0               0   \n",
              "2            0                 0                     1               0   \n",
              "3            0                 0                     0               1   \n",
              "4            0                 0                     0               1   \n",
              "\n",
              "   Location_New York  \n",
              "0                  0  \n",
              "1                  1  \n",
              "2                  0  \n",
              "3                  0  \n",
              "4                  0  "
            ]
          },
          "execution_count": 22,
          "metadata": {},
          "output_type": "execute_result"
        }
      ],
      "source": [
        "df.head()"
      ]
    },
    {
      "cell_type": "markdown",
      "id": "3536f146",
      "metadata": {
        "id": "3536f146"
      },
      "source": [
        "**Here I apply One Hot Encoding becuase both variables have less number of categories.**"
      ]
    },
    {
      "cell_type": "code",
      "execution_count": null,
      "id": "3e7ce710",
      "metadata": {
        "id": "3e7ce710",
        "outputId": "130429f8-4be2-4dfd-b441-4e7978c28290"
      },
      "outputs": [
        {
          "name": "stdout",
          "output_type": "stream",
          "text": [
            "<class 'pandas.core.frame.DataFrame'>\n",
            "RangeIndex: 100000 entries, 0 to 99999\n",
            "Data columns (total 10 columns):\n",
            " #   Column                      Non-Null Count   Dtype  \n",
            "---  ------                      --------------   -----  \n",
            " 0   Age                         100000 non-null  int64  \n",
            " 1   Subscription_Length_Months  100000 non-null  int64  \n",
            " 2   Monthly_Bill                100000 non-null  float64\n",
            " 3   Total_Usage_GB              100000 non-null  int64  \n",
            " 4   Churn                       100000 non-null  int64  \n",
            " 5   Gender_Male                 100000 non-null  uint8  \n",
            " 6   Location_Houston            100000 non-null  uint8  \n",
            " 7   Location_Los Angeles        100000 non-null  uint8  \n",
            " 8   Location_Miami              100000 non-null  uint8  \n",
            " 9   Location_New York           100000 non-null  uint8  \n",
            "dtypes: float64(1), int64(4), uint8(5)\n",
            "memory usage: 4.3 MB\n"
          ]
        }
      ],
      "source": [
        "df.info()"
      ]
    },
    {
      "cell_type": "markdown",
      "id": "004d0106",
      "metadata": {
        "id": "004d0106"
      },
      "source": [
        "**Data types of all variables is fine.**"
      ]
    },
    {
      "cell_type": "markdown",
      "id": "23e3847f",
      "metadata": {
        "id": "23e3847f"
      },
      "source": [
        "# `Checking Distribution of data`\n",
        "\n",
        "* In machine learning, it is important to check how the data is spread across different values. This is called the distribution of data.\n",
        "\n",
        "\n",
        "* If the data is skewed, meaning that there are more data points in one area than others, it can affect the performance of our models. For example, if the data is skewed towards the majority class, the model might perform well on the majority class but poorly on the minority class.\n",
        "\n",
        "\n",
        "* By understanding the data distribution, we can choose appropriate strategies to handle imbalances, outliers, or other issues. This will ensure that our model works well across all scenarios and accurately represents the underlying patterns in the data."
      ]
    },
    {
      "cell_type": "code",
      "execution_count": null,
      "id": "252af253",
      "metadata": {
        "id": "252af253",
        "outputId": "9c363530-d3e6-4c7f-f605-ae80e0bc271f"
      },
      "outputs": [
        {
          "data": {
            "text/plain": [
              "(100000, 10)"
            ]
          },
          "execution_count": 24,
          "metadata": {},
          "output_type": "execute_result"
        }
      ],
      "source": [
        "df.shape"
      ]
    },
    {
      "cell_type": "code",
      "execution_count": null,
      "id": "5dc90af4",
      "metadata": {
        "id": "5dc90af4",
        "outputId": "d5de1ce5-bc4d-4d60-c9e4-feb0a32ba19d"
      },
      "outputs": [
        {
          "name": "stdout",
          "output_type": "stream",
          "text": [
            "Number of bins according to Sturges' Rule: 17\n"
          ]
        }
      ],
      "source": [
        "# Select appropriate bin size using sturges_rule\n",
        "\n",
        "import math\n",
        "\n",
        "def sturges_rule(num_data_points):\n",
        "    k = 1 + math.log2(num_data_points)\n",
        "    return int(k)\n",
        "\n",
        "# Example usage\n",
        "num_data_points = 100000\n",
        "bins = sturges_rule(num_data_points)\n",
        "print(\"Number of bins according to Sturges' Rule:\", bins)"
      ]
    },
    {
      "cell_type": "code",
      "execution_count": null,
      "id": "1b92b6a7",
      "metadata": {
        "id": "1b92b6a7",
        "outputId": "ca1d41f2-2beb-4d93-8f5c-13436464a527"
      },
      "outputs": [
        {
          "data": {
            "image/png": "[encoded data removed]",
            "text/plain": [
              "<Figure size 600x400 with 1 Axes>"
            ]
          },
          "metadata": {},
          "output_type": "display_data"
        },
        {
          "data": {
            "image/png": "[encoded data removed]",
            "text/plain": [
              "<Figure size 600x400 with 1 Axes>"
            ]
          },
          "metadata": {},
          "output_type": "display_data"
        },
        {
          "data": {
            "image/png": "[encoded data removed]",
            "text/plain": [
              "<Figure size 600x400 with 1 Axes>"
            ]
          },
          "metadata": {},
          "output_type": "display_data"
        },
        {
          "data": {
            "image/png": "[encoded data removed]",
            "text/plain": [
              "<Figure size 600x400 with 1 Axes>"
            ]
          },
          "metadata": {},
          "output_type": "display_data"
        }
      ],
      "source": [
        "# check distribution of all continuous variables\n",
        "continuous_vars = df.select_dtypes(include=['float64', 'int64']).columns\n",
        "\n",
        "# Exclude binary variables from the list\n",
        "binary_vars = [var for var in continuous_vars if df[var].nunique() == 2]\n",
        "\n",
        "# Exclude binary variables from the continuous variables\n",
        "continuous_vars = [var for var in continuous_vars if var not in binary_vars]\n",
        "\n",
        "# Plot the distribution of each continuous variable\n",
        "for var in continuous_vars:\n",
        "    plt.figure(figsize=(6, 4))\n",
        "    sns.histplot(data=df, x=var, bins=17, kde=True)\n",
        "    plt.xlabel(var)\n",
        "    plt.ylabel('Frequency')\n",
        "    plt.title(f'Distribution of {var}')\n",
        "    plt.show()"
      ]
    },
    {
      "cell_type": "code",
      "execution_count": null,
      "id": "8bd2974f",
      "metadata": {
        "id": "8bd2974f",
        "outputId": "64d386e3-66fe-4c74-d6d0-175fb418e7dd"
      },
      "outputs": [
        {
          "data": {
            "text/plain": [
              "Age                          -0.002689\n",
              "Subscription_Length_Months   -0.001655\n",
              "Monthly_Bill                 -0.000326\n",
              "Total_Usage_GB                0.007113\n",
              "dtype: float64"
            ]
          },
          "execution_count": 27,
          "metadata": {},
          "output_type": "execute_result"
        }
      ],
      "source": [
        "# check skewness of all continuous variables\n",
        "df[continuous_vars].skew()"
      ]
    },
    {
      "cell_type": "markdown",
      "id": "5b766e7a",
      "metadata": {
        "id": "5b766e7a"
      },
      "source": [
        "**All variables are approx normally distributed.**"
      ]
    },
    {
      "cell_type": "markdown",
      "id": "f0e2fd60",
      "metadata": {
        "id": "f0e2fd60"
      },
      "source": [
        "# `Check colinearity between variables`\n",
        "\n",
        "* In machine learning, it is important to check if there are variables that are highly correlated with each other. If there are, then we should remove one of them to improve the stability and interpretability of the model.\n",
        "\n",
        "\n",
        "* Highly correlated variables are redundant, meaning that they provide the same information. This can cause the model to give too much importance to one variable, leading to overfitting. Overfitting is when the model learns the training data too well and does not generalize well to new data.\n"
      ]
    },
    {
      "cell_type": "code",
      "execution_count": null,
      "id": "b36ffdb4",
      "metadata": {
        "id": "b36ffdb4",
        "outputId": "b5f85c6d-5be3-4378-a960-8e7f1052ae40"
      },
      "outputs": [
        {
          "data": {
            "image/png": "[encoded data removed]",
            "text/plain": [
              "<Figure size 1400x800 with 2 Axes>"
            ]
          },
          "metadata": {},
          "output_type": "display_data"
        }
      ],
      "source": [
        "#checking colinearity between variables\n",
        "\n",
        "corr_matrix = df.corr()\n",
        "\n",
        "plt.figure(figsize=(14,8)) #(width,height)\n",
        "sns.heatmap(corr_matrix, annot=True, cmap='coolwarm', square=True)\n",
        "plt.title('Correlation Matrix Heatmap')\n",
        "plt.show()"
      ]
    },
    {
      "cell_type": "markdown",
      "id": "ebb5a9f9",
      "metadata": {
        "id": "ebb5a9f9"
      },
      "source": [
        "**No pair of variable is highly corrleated.**"
      ]
    },
    {
      "cell_type": "markdown",
      "id": "4305d7b8",
      "metadata": {
        "id": "4305d7b8"
      },
      "source": [
        "# `Diving data into train and test set`"
      ]
    },
    {
      "cell_type": "code",
      "execution_count": null,
      "id": "03a06ca8",
      "metadata": {
        "id": "03a06ca8"
      },
      "outputs": [],
      "source": [
        "x = df.drop(\"Churn\",axis=1)\n",
        "y = df['Churn']"
      ]
    },
    {
      "cell_type": "code",
      "execution_count": null,
      "id": "3b609f9b",
      "metadata": {
        "id": "3b609f9b"
      },
      "outputs": [],
      "source": [
        "from sklearn.model_selection import train_test_split\n",
        "\n",
        "X_train, X_test, y_train, y_test = train_test_split(x, y, test_size=0.3, random_state=42)"
      ]
    },
    {
      "cell_type": "markdown",
      "id": "ae6f0cc2",
      "metadata": {
        "id": "ae6f0cc2"
      },
      "source": [
        "**Take 70% data for training and 30% for testing.**"
      ]
    },
    {
      "cell_type": "code",
      "execution_count": null,
      "id": "7ac957d2",
      "metadata": {
        "id": "7ac957d2",
        "outputId": "e45537a8-5143-4afc-8133-5a4d7b54f67b"
      },
      "outputs": [
        {
          "data": {
            "text/plain": [
              "((70000, 9), (70000,))"
            ]
          },
          "execution_count": 31,
          "metadata": {},
          "output_type": "execute_result"
        }
      ],
      "source": [
        "X_train.shape, y_train.shape"
      ]
    },
    {
      "cell_type": "code",
      "execution_count": null,
      "id": "de22f658",
      "metadata": {
        "id": "de22f658",
        "outputId": "8c050251-702f-4dc6-80e6-45ca6be5b574"
      },
      "outputs": [
        {
          "data": {
            "text/plain": [
              "((30000, 9), (30000,))"
            ]
          },
          "execution_count": 32,
          "metadata": {},
          "output_type": "execute_result"
        }
      ],
      "source": [
        "X_test.shape, y_test.shape"
      ]
    },
    {
      "cell_type": "markdown",
      "id": "51bb2d34",
      "metadata": {
        "id": "51bb2d34"
      },
      "source": [
        "# `Feature Scaling`\n",
        "\n",
        "* In machine learning, it is important to make sure that all features are on the same scale. This is called feature scaling.\n",
        "\n",
        "\n",
        "* Feature scaling is important because it ensures that no single feature dominates the learning process. This is because many machine learning algorithms use distance-based calculations, and if features are on different scales, those with larger values could disproportionately influence the results.\n",
        "\n",
        "\n",
        "* Feature scaling also helps to improve the convergence of gradient-based optimization algorithms, which can lead to faster training.\n",
        "\n",
        "\n",
        "* By scaling features, we create a balanced playing field for each feature. This allows the algorithm to make fair and accurate comparisons, which can lead to better model performance."
      ]
    },
    {
      "cell_type": "code",
      "execution_count": null,
      "id": "244aeef4",
      "metadata": {
        "id": "244aeef4",
        "outputId": "1511e112-6328-49f3-9174-2cb0f2327326"
      },
      "outputs": [
        {
          "data": {
            "text/html": [
              "<div>\n",
              "<style scoped>\n",
              "    .dataframe tbody tr th:only-of-type {\n",
              "        vertical-align: middle;\n",
              "    }\n",
              "\n",
              "    .dataframe tbody tr th {\n",
              "        vertical-align: top;\n",
              "    }\n",
              "\n",
              "    .dataframe thead th {\n",
              "        text-align: right;\n",
              "    }\n",
              "</style>\n",
              "<table border=\"1\" class=\"dataframe\">\n",
              "  <thead>\n",
              "    <tr style=\"text-align: right;\">\n",
              "      <th></th>\n",
              "      <th>Age</th>\n",
              "      <th>Subscription_Length_Months</th>\n",
              "      <th>Monthly_Bill</th>\n",
              "      <th>Total_Usage_GB</th>\n",
              "      <th>Churn</th>\n",
              "      <th>Gender_Male</th>\n",
              "      <th>Location_Houston</th>\n",
              "      <th>Location_Los Angeles</th>\n",
              "      <th>Location_Miami</th>\n",
              "      <th>Location_New York</th>\n",
              "    </tr>\n",
              "  </thead>\n",
              "  <tbody>\n",
              "    <tr>\n",
              "      <th>0</th>\n",
              "      <td>63</td>\n",
              "      <td>17</td>\n",
              "      <td>73.36</td>\n",
              "      <td>236</td>\n",
              "      <td>0</td>\n",
              "      <td>1</td>\n",
              "      <td>0</td>\n",
              "      <td>1</td>\n",
              "      <td>0</td>\n",
              "      <td>0</td>\n",
              "    </tr>\n",
              "    <tr>\n",
              "      <th>1</th>\n",
              "      <td>62</td>\n",
              "      <td>1</td>\n",
              "      <td>48.76</td>\n",
              "      <td>172</td>\n",
              "      <td>0</td>\n",
              "      <td>0</td>\n",
              "      <td>0</td>\n",
              "      <td>0</td>\n",
              "      <td>0</td>\n",
              "      <td>1</td>\n",
              "    </tr>\n",
              "    <tr>\n",
              "      <th>2</th>\n",
              "      <td>24</td>\n",
              "      <td>5</td>\n",
              "      <td>85.47</td>\n",
              "      <td>460</td>\n",
              "      <td>0</td>\n",
              "      <td>0</td>\n",
              "      <td>0</td>\n",
              "      <td>1</td>\n",
              "      <td>0</td>\n",
              "      <td>0</td>\n",
              "    </tr>\n",
              "    <tr>\n",
              "      <th>3</th>\n",
              "      <td>36</td>\n",
              "      <td>3</td>\n",
              "      <td>97.94</td>\n",
              "      <td>297</td>\n",
              "      <td>1</td>\n",
              "      <td>0</td>\n",
              "      <td>0</td>\n",
              "      <td>0</td>\n",
              "      <td>1</td>\n",
              "      <td>0</td>\n",
              "    </tr>\n",
              "    <tr>\n",
              "      <th>4</th>\n",
              "      <td>46</td>\n",
              "      <td>19</td>\n",
              "      <td>58.14</td>\n",
              "      <td>266</td>\n",
              "      <td>0</td>\n",
              "      <td>0</td>\n",
              "      <td>0</td>\n",
              "      <td>0</td>\n",
              "      <td>1</td>\n",
              "      <td>0</td>\n",
              "    </tr>\n",
              "  </tbody>\n",
              "</table>\n",
              "</div>"
            ],
            "text/plain": [
              "   Age  Subscription_Length_Months  Monthly_Bill  Total_Usage_GB  Churn  \\\n",
              "0   63                          17         73.36             236      0   \n",
              "1   62                           1         48.76             172      0   \n",
              "2   24                           5         85.47             460      0   \n",
              "3   36                           3         97.94             297      1   \n",
              "4   46                          19         58.14             266      0   \n",
              "\n",
              "   Gender_Male  Location_Houston  Location_Los Angeles  Location_Miami  \\\n",
              "0            1                 0                     1               0   \n",
              "1            0                 0                     0               0   \n",
              "2            0                 0                     1               0   \n",
              "3            0                 0                     0               1   \n",
              "4            0                 0                     0               1   \n",
              "\n",
              "   Location_New York  \n",
              "0                  0  \n",
              "1                  1  \n",
              "2                  0  \n",
              "3                  0  \n",
              "4                  0  "
            ]
          },
          "execution_count": 33,
          "metadata": {},
          "output_type": "execute_result"
        }
      ],
      "source": [
        "df.head()"
      ]
    },
    {
      "cell_type": "code",
      "execution_count": null,
      "id": "d0cfed04",
      "metadata": {
        "id": "d0cfed04",
        "outputId": "03dfd71e-f31e-4e66-dd25-94f07f2a2bfd"
      },
      "outputs": [
        {
          "name": "stdout",
          "output_type": "stream",
          "text": [
            "Columns with values greater than 1 or less than 0:\n",
            "['Age', 'Subscription_Length_Months', 'Monthly_Bill', 'Total_Usage_GB']\n"
          ]
        }
      ],
      "source": [
        "columns_to_check = df.columns\n",
        "columns_needs_to_be_scaled = []\n",
        "\n",
        "for column in columns_to_check:\n",
        "    if (df[column] > 1).any() or (df[column] < 0).any():\n",
        "        columns_needs_to_be_scaled.append(column)\n",
        "\n",
        "print(\"Columns with values greater than 1 or less than 0:\")\n",
        "print(columns_needs_to_be_scaled)"
      ]
    },
    {
      "cell_type": "markdown",
      "id": "9f05c1f9",
      "metadata": {
        "id": "9f05c1f9"
      },
      "source": [
        "**These four columns need scaling, ['Age', 'Subscription_Length_Months', 'Monthly_Bill', 'Total_Usage_GB']. I decide to use MinMax Scaler becuase majority of variables in binary.**"
      ]
    },
    {
      "cell_type": "code",
      "execution_count": null,
      "id": "f39c5dbe",
      "metadata": {
        "id": "f39c5dbe"
      },
      "outputs": [],
      "source": [
        "from sklearn.preprocessing import MinMaxScaler\n",
        "\n",
        "columns_to_scale = ['Age', 'Subscription_Length_Months', 'Monthly_Bill', 'Total_Usage_GB']\n",
        "\n",
        "scaler = MinMaxScaler()\n",
        "\n",
        "X_train[columns_to_scale] = scaler.fit_transform(X_train[columns_to_scale])\n",
        "\n",
        "X_test[columns_to_scale] = scaler.transform(X_test[columns_to_scale])"
      ]
    },
    {
      "cell_type": "markdown",
      "id": "4edb5d53",
      "metadata": {
        "id": "4edb5d53"
      },
      "source": [
        "* We use the .fit_transform() method on training data to calculate the scaling parameters (such as mean and standard deviation) and then apply the transformation. This ensures that the training data is scaled properly.\n",
        "\n",
        "\n",
        "* However, we use the .transform() method on test data because we do not want to change the scaling parameters based on the test data. Instead, we want to apply the same scaling that was learned from the training data. This maintains the consistency of scaling between training and testing data, which is more realistic and prevents the model from learning information from the test data during training."
      ]
    },
    {
      "cell_type": "code",
      "execution_count": null,
      "id": "cef1ac85",
      "metadata": {
        "id": "cef1ac85",
        "outputId": "030ce175-d387-42ec-bec9-6b9c227e81aa"
      },
      "outputs": [
        {
          "data": {
            "text/html": [
              "<div>\n",
              "<style scoped>\n",
              "    .dataframe tbody tr th:only-of-type {\n",
              "        vertical-align: middle;\n",
              "    }\n",
              "\n",
              "    .dataframe tbody tr th {\n",
              "        vertical-align: top;\n",
              "    }\n",
              "\n",
              "    .dataframe thead th {\n",
              "        text-align: right;\n",
              "    }\n",
              "</style>\n",
              "<table border=\"1\" class=\"dataframe\">\n",
              "  <thead>\n",
              "    <tr style=\"text-align: right;\">\n",
              "      <th></th>\n",
              "      <th>Age</th>\n",
              "      <th>Subscription_Length_Months</th>\n",
              "      <th>Monthly_Bill</th>\n",
              "      <th>Total_Usage_GB</th>\n",
              "      <th>Gender_Male</th>\n",
              "      <th>Location_Houston</th>\n",
              "      <th>Location_Los Angeles</th>\n",
              "      <th>Location_Miami</th>\n",
              "      <th>Location_New York</th>\n",
              "    </tr>\n",
              "  </thead>\n",
              "  <tbody>\n",
              "    <tr>\n",
              "      <th>76513</th>\n",
              "      <td>0.134615</td>\n",
              "      <td>0.521739</td>\n",
              "      <td>0.973425</td>\n",
              "      <td>0.928889</td>\n",
              "      <td>1</td>\n",
              "      <td>0</td>\n",
              "      <td>1</td>\n",
              "      <td>0</td>\n",
              "      <td>0</td>\n",
              "    </tr>\n",
              "    <tr>\n",
              "      <th>60406</th>\n",
              "      <td>0.692308</td>\n",
              "      <td>0.043478</td>\n",
              "      <td>0.598657</td>\n",
              "      <td>0.740000</td>\n",
              "      <td>0</td>\n",
              "      <td>1</td>\n",
              "      <td>0</td>\n",
              "      <td>0</td>\n",
              "      <td>0</td>\n",
              "    </tr>\n",
              "    <tr>\n",
              "      <th>27322</th>\n",
              "      <td>0.269231</td>\n",
              "      <td>0.826087</td>\n",
              "      <td>0.509358</td>\n",
              "      <td>0.837778</td>\n",
              "      <td>1</td>\n",
              "      <td>0</td>\n",
              "      <td>0</td>\n",
              "      <td>0</td>\n",
              "      <td>0</td>\n",
              "    </tr>\n",
              "    <tr>\n",
              "      <th>53699</th>\n",
              "      <td>0.826923</td>\n",
              "      <td>0.478261</td>\n",
              "      <td>0.760109</td>\n",
              "      <td>0.031111</td>\n",
              "      <td>0</td>\n",
              "      <td>1</td>\n",
              "      <td>0</td>\n",
              "      <td>0</td>\n",
              "      <td>0</td>\n",
              "    </tr>\n",
              "    <tr>\n",
              "      <th>65412</th>\n",
              "      <td>1.000000</td>\n",
              "      <td>0.173913</td>\n",
              "      <td>0.170453</td>\n",
              "      <td>0.108889</td>\n",
              "      <td>0</td>\n",
              "      <td>0</td>\n",
              "      <td>0</td>\n",
              "      <td>0</td>\n",
              "      <td>1</td>\n",
              "    </tr>\n",
              "  </tbody>\n",
              "</table>\n",
              "</div>"
            ],
            "text/plain": [
              "            Age  Subscription_Length_Months  Monthly_Bill  Total_Usage_GB  \\\n",
              "76513  0.134615                    0.521739      0.973425        0.928889   \n",
              "60406  0.692308                    0.043478      0.598657        0.740000   \n",
              "27322  0.269231                    0.826087      0.509358        0.837778   \n",
              "53699  0.826923                    0.478261      0.760109        0.031111   \n",
              "65412  1.000000                    0.173913      0.170453        0.108889   \n",
              "\n",
              "       Gender_Male  Location_Houston  Location_Los Angeles  Location_Miami  \\\n",
              "76513            1                 0                     1               0   \n",
              "60406            0                 1                     0               0   \n",
              "27322            1                 0                     0               0   \n",
              "53699            0                 1                     0               0   \n",
              "65412            0                 0                     0               0   \n",
              "\n",
              "       Location_New York  \n",
              "76513                  0  \n",
              "60406                  0  \n",
              "27322                  0  \n",
              "53699                  0  \n",
              "65412                  1  "
            ]
          },
          "execution_count": 36,
          "metadata": {},
          "output_type": "execute_result"
        }
      ],
      "source": [
        "X_train.head()"
      ]
    },
    {
      "cell_type": "code",
      "execution_count": null,
      "id": "5e234ecc",
      "metadata": {
        "id": "5e234ecc",
        "outputId": "3a8f1052-f86f-4cde-c116-49374524c11a"
      },
      "outputs": [
        {
          "data": {
            "text/html": [
              "<div>\n",
              "<style scoped>\n",
              "    .dataframe tbody tr th:only-of-type {\n",
              "        vertical-align: middle;\n",
              "    }\n",
              "\n",
              "    .dataframe tbody tr th {\n",
              "        vertical-align: top;\n",
              "    }\n",
              "\n",
              "    .dataframe thead th {\n",
              "        text-align: right;\n",
              "    }\n",
              "</style>\n",
              "<table border=\"1\" class=\"dataframe\">\n",
              "  <thead>\n",
              "    <tr style=\"text-align: right;\">\n",
              "      <th></th>\n",
              "      <th>Age</th>\n",
              "      <th>Subscription_Length_Months</th>\n",
              "      <th>Monthly_Bill</th>\n",
              "      <th>Total_Usage_GB</th>\n",
              "      <th>Gender_Male</th>\n",
              "      <th>Location_Houston</th>\n",
              "      <th>Location_Los Angeles</th>\n",
              "      <th>Location_Miami</th>\n",
              "      <th>Location_New York</th>\n",
              "    </tr>\n",
              "  </thead>\n",
              "  <tbody>\n",
              "    <tr>\n",
              "      <th>75721</th>\n",
              "      <td>0.576923</td>\n",
              "      <td>0.434783</td>\n",
              "      <td>0.835548</td>\n",
              "      <td>0.982222</td>\n",
              "      <td>0</td>\n",
              "      <td>1</td>\n",
              "      <td>0</td>\n",
              "      <td>0</td>\n",
              "      <td>0</td>\n",
              "    </tr>\n",
              "    <tr>\n",
              "      <th>80184</th>\n",
              "      <td>0.596154</td>\n",
              "      <td>0.521739</td>\n",
              "      <td>0.151593</td>\n",
              "      <td>0.828889</td>\n",
              "      <td>1</td>\n",
              "      <td>0</td>\n",
              "      <td>0</td>\n",
              "      <td>0</td>\n",
              "      <td>1</td>\n",
              "    </tr>\n",
              "    <tr>\n",
              "      <th>19864</th>\n",
              "      <td>0.250000</td>\n",
              "      <td>0.173913</td>\n",
              "      <td>0.043006</td>\n",
              "      <td>0.502222</td>\n",
              "      <td>0</td>\n",
              "      <td>0</td>\n",
              "      <td>1</td>\n",
              "      <td>0</td>\n",
              "      <td>0</td>\n",
              "    </tr>\n",
              "    <tr>\n",
              "      <th>76699</th>\n",
              "      <td>0.673077</td>\n",
              "      <td>0.130435</td>\n",
              "      <td>0.923846</td>\n",
              "      <td>0.642222</td>\n",
              "      <td>1</td>\n",
              "      <td>0</td>\n",
              "      <td>0</td>\n",
              "      <td>0</td>\n",
              "      <td>1</td>\n",
              "    </tr>\n",
              "    <tr>\n",
              "      <th>92991</th>\n",
              "      <td>0.096154</td>\n",
              "      <td>1.000000</td>\n",
              "      <td>0.745964</td>\n",
              "      <td>0.564444</td>\n",
              "      <td>0</td>\n",
              "      <td>0</td>\n",
              "      <td>1</td>\n",
              "      <td>0</td>\n",
              "      <td>0</td>\n",
              "    </tr>\n",
              "  </tbody>\n",
              "</table>\n",
              "</div>"
            ],
            "text/plain": [
              "            Age  Subscription_Length_Months  Monthly_Bill  Total_Usage_GB  \\\n",
              "75721  0.576923                    0.434783      0.835548        0.982222   \n",
              "80184  0.596154                    0.521739      0.151593        0.828889   \n",
              "19864  0.250000                    0.173913      0.043006        0.502222   \n",
              "76699  0.673077                    0.130435      0.923846        0.642222   \n",
              "92991  0.096154                    1.000000      0.745964        0.564444   \n",
              "\n",
              "       Gender_Male  Location_Houston  Location_Los Angeles  Location_Miami  \\\n",
              "75721            0                 1                     0               0   \n",
              "80184            1                 0                     0               0   \n",
              "19864            0                 0                     1               0   \n",
              "76699            1                 0                     0               0   \n",
              "92991            0                 0                     1               0   \n",
              "\n",
              "       Location_New York  \n",
              "75721                  0  \n",
              "80184                  1  \n",
              "19864                  0  \n",
              "76699                  1  \n",
              "92991                  0  "
            ]
          },
          "execution_count": 37,
          "metadata": {},
          "output_type": "execute_result"
        }
      ],
      "source": [
        "X_test.head()"
      ]
    },
    {
      "cell_type": "markdown",
      "id": "f0b47457",
      "metadata": {
        "id": "f0b47457"
      },
      "source": [
        "# `Check for the class imbalance`\n",
        "\n",
        "* In machine learning, it is important to check if the data is balanced or not. This is called class imbalance.\n",
        "\n",
        "\n",
        "* Class imbalance happens when there are more data points in one class than in the other class. This can affect the performance of the model. For example, if the majority class has more data points than the minority class, the model might perform well on the majority class but poorly on the minority class.\n",
        "\n",
        "\n",
        "* By identifying class imbalance, we can employ strategies to address the issue. These strategies include resampling, adjusting class weights, or using different evaluation metrics. This will help us create a fair and accurate model that performs well across all classes\n"
      ]
    },
    {
      "cell_type": "code",
      "execution_count": null,
      "id": "6a543d50",
      "metadata": {
        "id": "6a543d50",
        "outputId": "5a6b2cb1-ffe1-44fb-a6da-5d3deef22413"
      },
      "outputs": [
        {
          "data": {
            "text/plain": [
              "0    50221\n",
              "1    49779\n",
              "Name: Churn, dtype: int64"
            ]
          },
          "execution_count": 38,
          "metadata": {},
          "output_type": "execute_result"
        }
      ],
      "source": [
        "class_counts = df['Churn'].value_counts()\n",
        "class_counts"
      ]
    },
    {
      "cell_type": "code",
      "execution_count": null,
      "id": "a9f5d311",
      "metadata": {
        "id": "a9f5d311",
        "outputId": "0af48f1b-49cc-4bfe-c860-4c2c68e879ac"
      },
      "outputs": [
        {
          "data": {
            "image/png": "[encoded data removed]",
            "text/plain": [
              "<Figure size 1000x600 with 1 Axes>"
            ]
          },
          "metadata": {},
          "output_type": "display_data"
        }
      ],
      "source": [
        "plt.figure(figsize=(10, 6))\n",
        "class_counts.plot(kind='bar')\n",
        "plt.title('Class Distribution')\n",
        "plt.xlabel('Class')\n",
        "plt.ylabel('Count')\n",
        "plt.xticks(rotation=45)\n",
        "plt.show()"
      ]
    },
    {
      "cell_type": "markdown",
      "id": "e12836a5",
      "metadata": {
        "id": "e12836a5"
      },
      "source": [
        "**The churn variables are almost evenly distributed, which means that there is no problem of class imbalance.**"
      ]
    },
    {
      "cell_type": "markdown",
      "id": "6a216c9b",
      "metadata": {
        "id": "6a216c9b"
      },
      "source": [
        "# `Feature Selection using Random Forest Feature Importance Method`"
      ]
    },
    {
      "cell_type": "code",
      "execution_count": null,
      "id": "119b2b21",
      "metadata": {
        "id": "119b2b21",
        "outputId": "1c62d88d-825d-46c3-fea0-3f39cf6a0939"
      },
      "outputs": [
        {
          "data": {
            "text/html": [
              "<div>\n",
              "<style scoped>\n",
              "    .dataframe tbody tr th:only-of-type {\n",
              "        vertical-align: middle;\n",
              "    }\n",
              "\n",
              "    .dataframe tbody tr th {\n",
              "        vertical-align: top;\n",
              "    }\n",
              "\n",
              "    .dataframe thead th {\n",
              "        text-align: right;\n",
              "    }\n",
              "</style>\n",
              "<table border=\"1\" class=\"dataframe\">\n",
              "  <thead>\n",
              "    <tr style=\"text-align: right;\">\n",
              "      <th></th>\n",
              "      <th>Feature</th>\n",
              "      <th>Importance</th>\n",
              "    </tr>\n",
              "  </thead>\n",
              "  <tbody>\n",
              "    <tr>\n",
              "      <th>0</th>\n",
              "      <td>Monthly_Bill</td>\n",
              "      <td>0.316383</td>\n",
              "    </tr>\n",
              "    <tr>\n",
              "      <th>1</th>\n",
              "      <td>Total_Usage_GB</td>\n",
              "      <td>0.290353</td>\n",
              "    </tr>\n",
              "    <tr>\n",
              "      <th>2</th>\n",
              "      <td>Age</td>\n",
              "      <td>0.194396</td>\n",
              "    </tr>\n",
              "    <tr>\n",
              "      <th>3</th>\n",
              "      <td>Subscription_Length_Months</td>\n",
              "      <td>0.142624</td>\n",
              "    </tr>\n",
              "    <tr>\n",
              "      <th>4</th>\n",
              "      <td>Gender_Male</td>\n",
              "      <td>0.016683</td>\n",
              "    </tr>\n",
              "    <tr>\n",
              "      <th>5</th>\n",
              "      <td>Location_Los Angeles</td>\n",
              "      <td>0.010595</td>\n",
              "    </tr>\n",
              "    <tr>\n",
              "      <th>6</th>\n",
              "      <td>Location_Houston</td>\n",
              "      <td>0.010007</td>\n",
              "    </tr>\n",
              "    <tr>\n",
              "      <th>7</th>\n",
              "      <td>Location_Miami</td>\n",
              "      <td>0.009792</td>\n",
              "    </tr>\n",
              "    <tr>\n",
              "      <th>8</th>\n",
              "      <td>Location_New York</td>\n",
              "      <td>0.009166</td>\n",
              "    </tr>\n",
              "  </tbody>\n",
              "</table>\n",
              "</div>"
            ],
            "text/plain": [
              "                      Feature  Importance\n",
              "0                Monthly_Bill    0.316383\n",
              "1              Total_Usage_GB    0.290353\n",
              "2                         Age    0.194396\n",
              "3  Subscription_Length_Months    0.142624\n",
              "4                 Gender_Male    0.016683\n",
              "5        Location_Los Angeles    0.010595\n",
              "6            Location_Houston    0.010007\n",
              "7              Location_Miami    0.009792\n",
              "8           Location_New York    0.009166"
            ]
          },
          "execution_count": 40,
          "metadata": {},
          "output_type": "execute_result"
        }
      ],
      "source": [
        "from sklearn.ensemble import RandomForestClassifier\n",
        "\n",
        "rf_classifier = RandomForestClassifier(n_jobs=-1, random_state=42)\n",
        "\n",
        "rf_classifier.fit(X_train, y_train)\n",
        "\n",
        "importances = rf_classifier.feature_importances_\n",
        "\n",
        "feature_importance_df = pd.DataFrame({'Feature': X_train.columns, 'Importance': importances})\n",
        "\n",
        "feature_importance_df = feature_importance_df.sort_values(by='Importance', ascending=False).reset_index(drop=True)\n",
        "\n",
        "feature_importance_df"
      ]
    },
    {
      "cell_type": "code",
      "execution_count": null,
      "id": "ed2cabfd",
      "metadata": {
        "id": "ed2cabfd",
        "outputId": "df1f1935-dc7a-4248-d62e-ab7ce2398394"
      },
      "outputs": [
        {
          "data": {
            "image/png": "[encoded data removed]",
            "text/plain": [
              "<Figure size 640x480 with 1 Axes>"
            ]
          },
          "metadata": {},
          "output_type": "display_data"
        }
      ],
      "source": [
        "#check optimal number of features\n",
        "\n",
        "sorted_indices = np.argsort(importances)[::-1]\n",
        "cumulative_importance = np.cumsum(importances[sorted_indices])\n",
        "\n",
        "plt.plot(range(1, len(importances) + 1), cumulative_importance, 'b-')\n",
        "plt.xlabel('Number of Features')\n",
        "plt.ylabel('Cumulative Importance')\n",
        "plt.title('Cumulative Importance of Features')\n",
        "plt.grid(True)\n",
        "plt.show()"
      ]
    },
    {
      "cell_type": "markdown",
      "id": "d5d712fa",
      "metadata": {
        "id": "d5d712fa"
      },
      "source": [
        "**The graph shows that only 4 variables are important for the analysis. These variables are:**\n",
        "\n",
        "* **Monthly bill**\n",
        "\n",
        "\n",
        "* **Total usage in GB**\n",
        "\n",
        "\n",
        "* **Age**\n",
        "\n",
        "\n",
        "* **Subscription length in months**\n",
        "\n",
        "\n",
        "* **These 4 variables together account for approximately 94% of the importance for the analysis. This means that they are the most important variables to consider when trying to predict customer churn.**\n",
        "\n",
        "\n",
        "* **Here, I will use all the variables for analysis because there are not many variables. If the model does not perform well or overfits, I will remove variables and build a model on the features that contribute more to the model.**"
      ]
    },
    {
      "cell_type": "markdown",
      "id": "65c055c6",
      "metadata": {
        "id": "65c055c6"
      },
      "source": [
        "# `Check multi-colinearity between variables`\n",
        "\n",
        "* In machine learning, it is important to check if there are variables that are highly correlated with each other. This is called multicollinearity.\n",
        "\n",
        "\n",
        "* Multicollinearity can cause problems with the model, such as making it unstable and difficult to interpret. This is because correlated variables are redundant, meaning that they provide the same information. This can cause the model to give too much importance to one variable, leading to overfitting.\n",
        "\n",
        "\n",
        "* By identifying and addressing multicollinearity, we can make the model more reliable and interpretable. This improves the model's predictive power and makes it easier to understand how the variables affect the target variable."
      ]
    },
    {
      "cell_type": "code",
      "execution_count": null,
      "id": "40457ee0",
      "metadata": {
        "id": "40457ee0",
        "outputId": "16aa7019-b6c4-44fa-a84f-507320a528bc"
      },
      "outputs": [
        {
          "data": {
            "text/html": [
              "<div>\n",
              "<style scoped>\n",
              "    .dataframe tbody tr th:only-of-type {\n",
              "        vertical-align: middle;\n",
              "    }\n",
              "\n",
              "    .dataframe tbody tr th {\n",
              "        vertical-align: top;\n",
              "    }\n",
              "\n",
              "    .dataframe thead th {\n",
              "        text-align: right;\n",
              "    }\n",
              "</style>\n",
              "<table border=\"1\" class=\"dataframe\">\n",
              "  <thead>\n",
              "    <tr style=\"text-align: right;\">\n",
              "      <th></th>\n",
              "      <th>Variable</th>\n",
              "      <th>VIF</th>\n",
              "    </tr>\n",
              "  </thead>\n",
              "  <tbody>\n",
              "    <tr>\n",
              "      <th>2</th>\n",
              "      <td>Monthly_Bill</td>\n",
              "      <td>3.340229</td>\n",
              "    </tr>\n",
              "    <tr>\n",
              "      <th>3</th>\n",
              "      <td>Total_Usage_GB</td>\n",
              "      <td>3.304982</td>\n",
              "    </tr>\n",
              "    <tr>\n",
              "      <th>0</th>\n",
              "      <td>Age</td>\n",
              "      <td>3.252427</td>\n",
              "    </tr>\n",
              "    <tr>\n",
              "      <th>1</th>\n",
              "      <td>Subscription_Length_Months</td>\n",
              "      <td>3.152641</td>\n",
              "    </tr>\n",
              "    <tr>\n",
              "      <th>4</th>\n",
              "      <td>Gender_Male</td>\n",
              "      <td>1.880472</td>\n",
              "    </tr>\n",
              "    <tr>\n",
              "      <th>7</th>\n",
              "      <td>Location_Miami</td>\n",
              "      <td>1.729954</td>\n",
              "    </tr>\n",
              "    <tr>\n",
              "      <th>5</th>\n",
              "      <td>Location_Houston</td>\n",
              "      <td>1.728491</td>\n",
              "    </tr>\n",
              "    <tr>\n",
              "      <th>6</th>\n",
              "      <td>Location_Los Angeles</td>\n",
              "      <td>1.718256</td>\n",
              "    </tr>\n",
              "    <tr>\n",
              "      <th>8</th>\n",
              "      <td>Location_New York</td>\n",
              "      <td>1.715994</td>\n",
              "    </tr>\n",
              "  </tbody>\n",
              "</table>\n",
              "</div>"
            ],
            "text/plain": [
              "                     Variable       VIF\n",
              "2                Monthly_Bill  3.340229\n",
              "3              Total_Usage_GB  3.304982\n",
              "0                         Age  3.252427\n",
              "1  Subscription_Length_Months  3.152641\n",
              "4                 Gender_Male  1.880472\n",
              "7              Location_Miami  1.729954\n",
              "5            Location_Houston  1.728491\n",
              "6        Location_Los Angeles  1.718256\n",
              "8           Location_New York  1.715994"
            ]
          },
          "execution_count": 42,
          "metadata": {},
          "output_type": "execute_result"
        }
      ],
      "source": [
        "#checking multicolinearity of X_train_resampled\n",
        "\n",
        "from statsmodels.stats.outliers_influence import variance_inflation_factor\n",
        "\n",
        "vif = pd.DataFrame()\n",
        "vif[\"Variable\"] = X_train.columns\n",
        "vif[\"VIF\"] = [variance_inflation_factor(X_train.values, i) for i in range(X_train.shape[1])]\n",
        "vif = vif.sort_values(by='VIF', ascending=False)\n",
        "\n",
        "vif"
      ]
    },
    {
      "cell_type": "markdown",
      "id": "4ec6c0fa",
      "metadata": {
        "id": "4ec6c0fa"
      },
      "source": [
        "**The training data does not contain multicollinearity because all of the variables have a VIF value less than 5.**"
      ]
    },
    {
      "cell_type": "markdown",
      "id": "a540b882",
      "metadata": {
        "id": "a540b882"
      },
      "source": [
        "# `Model Building: Machine Learning Algorithms`"
      ]
    },
    {
      "cell_type": "code",
      "execution_count": null,
      "id": "2e1185dc",
      "metadata": {
        "id": "2e1185dc"
      },
      "outputs": [],
      "source": [
        "#importing algorithms, metrics and time\n",
        "\n",
        "import time\n",
        "\n",
        "from sklearn.metrics import classification_report, accuracy_score, precision_score, recall_score, f1_score\n",
        "\n",
        "from sklearn.linear_model import LogisticRegression\n",
        "from sklearn.tree import DecisionTreeClassifier\n",
        "from sklearn.neighbors import KNeighborsClassifier\n",
        "from sklearn.svm import SVC\n",
        "from sklearn.naive_bayes import GaussianNB\n",
        "from sklearn.ensemble import AdaBoostClassifier, GradientBoostingClassifier, RandomForestClassifier\n",
        "from xgboost import XGBClassifier"
      ]
    },
    {
      "cell_type": "code",
      "execution_count": null,
      "id": "81daac2c",
      "metadata": {
        "id": "81daac2c",
        "outputId": "5b81e184-06df-4ba1-d5f0-602988d61d50"
      },
      "outputs": [
        {
          "name": "stderr",
          "output_type": "stream",
          "text": [
            "C:\\Users\\HP\\Anaconda3\\lib\\site-packages\\sklearn\\neighbors\\_classification.py:228: FutureWarning: Unlike other reduction functions (e.g. `skew`, `kurtosis`), the default behavior of `mode` typically preserves the axis it acts along. In SciPy 1.11.0, this behavior will change: the default value of `keepdims` will become False, the `axis` over which the statistic is taken will be eliminated, and the value None will no longer be accepted. Set `keepdims` to True or False to avoid this warning.\n",
            "  mode, _ = stats.mode(_y[neigh_ind, k], axis=1)\n"
          ]
        },
        {
          "data": {
            "text/html": [
              "<div>\n",
              "<style scoped>\n",
              "    .dataframe tbody tr th:only-of-type {\n",
              "        vertical-align: middle;\n",
              "    }\n",
              "\n",
              "    .dataframe tbody tr th {\n",
              "        vertical-align: top;\n",
              "    }\n",
              "\n",
              "    .dataframe thead th {\n",
              "        text-align: right;\n",
              "    }\n",
              "</style>\n",
              "<table border=\"1\" class=\"dataframe\">\n",
              "  <thead>\n",
              "    <tr style=\"text-align: right;\">\n",
              "      <th></th>\n",
              "      <th>Algorithm</th>\n",
              "      <th>Accuracy</th>\n",
              "      <th>Precision</th>\n",
              "      <th>Recall</th>\n",
              "      <th>F1-score</th>\n",
              "      <th>Building Time (s)</th>\n",
              "    </tr>\n",
              "  </thead>\n",
              "  <tbody>\n",
              "    <tr>\n",
              "      <th>0</th>\n",
              "      <td>LogisticRegression</td>\n",
              "      <td>0.503214</td>\n",
              "      <td>0.503138</td>\n",
              "      <td>0.503214</td>\n",
              "      <td>0.500180</td>\n",
              "      <td>7.496585</td>\n",
              "    </tr>\n",
              "    <tr>\n",
              "      <th>1</th>\n",
              "      <td>DecisionTreeClassifier</td>\n",
              "      <td>1.000000</td>\n",
              "      <td>1.000000</td>\n",
              "      <td>1.000000</td>\n",
              "      <td>1.000000</td>\n",
              "      <td>0.781101</td>\n",
              "    </tr>\n",
              "    <tr>\n",
              "      <th>2</th>\n",
              "      <td>KNeighborsClassifier</td>\n",
              "      <td>0.687743</td>\n",
              "      <td>0.687744</td>\n",
              "      <td>0.687743</td>\n",
              "      <td>0.687743</td>\n",
              "      <td>4.527633</td>\n",
              "    </tr>\n",
              "    <tr>\n",
              "      <th>3</th>\n",
              "      <td>GaussianNB</td>\n",
              "      <td>0.504471</td>\n",
              "      <td>0.504419</td>\n",
              "      <td>0.504471</td>\n",
              "      <td>0.503437</td>\n",
              "      <td>0.125011</td>\n",
              "    </tr>\n",
              "    <tr>\n",
              "      <th>4</th>\n",
              "      <td>AdaBoostClassifier</td>\n",
              "      <td>0.516557</td>\n",
              "      <td>0.516552</td>\n",
              "      <td>0.516557</td>\n",
              "      <td>0.516205</td>\n",
              "      <td>2.527126</td>\n",
              "    </tr>\n",
              "    <tr>\n",
              "      <th>5</th>\n",
              "      <td>GradientBoostingClassifier</td>\n",
              "      <td>0.541729</td>\n",
              "      <td>0.541847</td>\n",
              "      <td>0.541729</td>\n",
              "      <td>0.541213</td>\n",
              "      <td>6.869250</td>\n",
              "    </tr>\n",
              "    <tr>\n",
              "      <th>6</th>\n",
              "      <td>RandomForestClassifier</td>\n",
              "      <td>1.000000</td>\n",
              "      <td>1.000000</td>\n",
              "      <td>1.000000</td>\n",
              "      <td>1.000000</td>\n",
              "      <td>4.974446</td>\n",
              "    </tr>\n",
              "    <tr>\n",
              "      <th>7</th>\n",
              "      <td>XGBClassifier</td>\n",
              "      <td>0.664929</td>\n",
              "      <td>0.665023</td>\n",
              "      <td>0.664929</td>\n",
              "      <td>0.664863</td>\n",
              "      <td>3.413992</td>\n",
              "    </tr>\n",
              "    <tr>\n",
              "      <th>8</th>\n",
              "      <td>SVC</td>\n",
              "      <td>0.516986</td>\n",
              "      <td>0.517164</td>\n",
              "      <td>0.516986</td>\n",
              "      <td>0.514768</td>\n",
              "      <td>889.043590</td>\n",
              "    </tr>\n",
              "  </tbody>\n",
              "</table>\n",
              "</div>"
            ],
            "text/plain": [
              "                    Algorithm  Accuracy  Precision    Recall  F1-score  \\\n",
              "0          LogisticRegression  0.503214   0.503138  0.503214  0.500180   \n",
              "1      DecisionTreeClassifier  1.000000   1.000000  1.000000  1.000000   \n",
              "2        KNeighborsClassifier  0.687743   0.687744  0.687743  0.687743   \n",
              "3                  GaussianNB  0.504471   0.504419  0.504471  0.503437   \n",
              "4          AdaBoostClassifier  0.516557   0.516552  0.516557  0.516205   \n",
              "5  GradientBoostingClassifier  0.541729   0.541847  0.541729  0.541213   \n",
              "6      RandomForestClassifier  1.000000   1.000000  1.000000  1.000000   \n",
              "7               XGBClassifier  0.664929   0.665023  0.664929  0.664863   \n",
              "8                         SVC  0.516986   0.517164  0.516986  0.514768   \n",
              "\n",
              "   Building Time (s)  \n",
              "0           7.496585  \n",
              "1           0.781101  \n",
              "2           4.527633  \n",
              "3           0.125011  \n",
              "4           2.527126  \n",
              "5           6.869250  \n",
              "6           4.974446  \n",
              "7           3.413992  \n",
              "8         889.043590  "
            ]
          },
          "execution_count": 44,
          "metadata": {},
          "output_type": "execute_result"
        }
      ],
      "source": [
        "algorithms = [\n",
        "    LogisticRegression(n_jobs=-1, random_state=42),\n",
        "    DecisionTreeClassifier(random_state=42),\n",
        "    KNeighborsClassifier(n_jobs=-1),\n",
        "    GaussianNB(),\n",
        "    AdaBoostClassifier(random_state=42),\n",
        "    GradientBoostingClassifier(random_state=42),\n",
        "    RandomForestClassifier(n_jobs=-1, random_state=42),\n",
        "    XGBClassifier(n_jobs=-1, random_state=42),\n",
        "    SVC(random_state=42)\n",
        "]\n",
        "\n",
        "# Initialize the results dictionary for training data\n",
        "results_train = {\n",
        "    'Algorithm': [],\n",
        "    'Accuracy': [],\n",
        "    'Precision': [],\n",
        "    'Recall': [],\n",
        "    'F1-score': [],\n",
        "    'Building Time (s)': []\n",
        "}\n",
        "\n",
        "# Apply the algorithms and calculate performance metrics for training data\n",
        "for algorithm in algorithms:\n",
        "    start_time = time.time()  # Start timer\n",
        "\n",
        "    algorithm_name = type(algorithm).__name__\n",
        "    algorithm.fit(X_train, y_train)\n",
        "    y_train_pred = algorithm.predict(X_train)\n",
        "\n",
        "    accuracy = accuracy_score(y_train, y_train_pred)\n",
        "    precision = precision_score(y_train, y_train_pred, average='weighted')\n",
        "    recall = recall_score(y_train, y_train_pred, average='weighted')\n",
        "    f1 = f1_score(y_train, y_train_pred, average='weighted')\n",
        "\n",
        "    end_time = time.time()  # End timer\n",
        "    building_time = end_time - start_time\n",
        "\n",
        "    results_train['Algorithm'].append(algorithm_name)\n",
        "    results_train['Accuracy'].append(accuracy)\n",
        "    results_train['Precision'].append(precision)\n",
        "    results_train['Recall'].append(recall)\n",
        "    results_train['F1-score'].append(f1)\n",
        "    results_train['Building Time (s)'].append(building_time)\n",
        "\n",
        "# Create a dataframe for the training data results\n",
        "df_train = pd.DataFrame(results_train)\n",
        "df_train"
      ]
    },
    {
      "cell_type": "markdown",
      "id": "64c4b923",
      "metadata": {
        "id": "64c4b923"
      },
      "source": [
        "* **Decision Tree, Random Forest, and Gradient Boosting achieved perfect accuracy on the training data, suggesting potential overfitting.**\n",
        "\n",
        "\n",
        "* **Logistic Regression, GaussianNB, and AdaBoost have relatively low accuracy and F1-score.**\n",
        "\n",
        "\n",
        "* **KNeighborsClassifier and XGBClassifier have moderate accuracy and F1-score.**\n",
        "\n",
        "\n",
        "* **SVC has moderate accuracy but high building time.**"
      ]
    },
    {
      "cell_type": "code",
      "execution_count": null,
      "id": "c1c1a933",
      "metadata": {
        "id": "c1c1a933",
        "outputId": "d5bd2c33-2ad7-4c6c-e036-c9f4a6b52609"
      },
      "outputs": [
        {
          "name": "stderr",
          "output_type": "stream",
          "text": [
            "C:\\Users\\HP\\Anaconda3\\lib\\site-packages\\sklearn\\neighbors\\_classification.py:228: FutureWarning: Unlike other reduction functions (e.g. `skew`, `kurtosis`), the default behavior of `mode` typically preserves the axis it acts along. In SciPy 1.11.0, this behavior will change: the default value of `keepdims` will become False, the `axis` over which the statistic is taken will be eliminated, and the value None will no longer be accepted. Set `keepdims` to True or False to avoid this warning.\n",
            "  mode, _ = stats.mode(_y[neigh_ind, k], axis=1)\n"
          ]
        },
        {
          "data": {
            "text/html": [
              "<div>\n",
              "<style scoped>\n",
              "    .dataframe tbody tr th:only-of-type {\n",
              "        vertical-align: middle;\n",
              "    }\n",
              "\n",
              "    .dataframe tbody tr th {\n",
              "        vertical-align: top;\n",
              "    }\n",
              "\n",
              "    .dataframe thead th {\n",
              "        text-align: right;\n",
              "    }\n",
              "</style>\n",
              "<table border=\"1\" class=\"dataframe\">\n",
              "  <thead>\n",
              "    <tr style=\"text-align: right;\">\n",
              "      <th></th>\n",
              "      <th>Algorithm</th>\n",
              "      <th>Accuracy</th>\n",
              "      <th>Precision</th>\n",
              "      <th>Recall</th>\n",
              "      <th>F1-score</th>\n",
              "    </tr>\n",
              "  </thead>\n",
              "  <tbody>\n",
              "    <tr>\n",
              "      <th>0</th>\n",
              "      <td>LogisticRegression</td>\n",
              "      <td>0.504733</td>\n",
              "      <td>0.504061</td>\n",
              "      <td>0.504733</td>\n",
              "      <td>0.501456</td>\n",
              "    </tr>\n",
              "    <tr>\n",
              "      <th>1</th>\n",
              "      <td>DecisionTreeClassifier</td>\n",
              "      <td>0.499100</td>\n",
              "      <td>0.499157</td>\n",
              "      <td>0.499100</td>\n",
              "      <td>0.499113</td>\n",
              "    </tr>\n",
              "    <tr>\n",
              "      <th>2</th>\n",
              "      <td>KNeighborsClassifier</td>\n",
              "      <td>0.496500</td>\n",
              "      <td>0.496527</td>\n",
              "      <td>0.496500</td>\n",
              "      <td>0.496510</td>\n",
              "    </tr>\n",
              "    <tr>\n",
              "      <th>3</th>\n",
              "      <td>GaussianNB</td>\n",
              "      <td>0.505267</td>\n",
              "      <td>0.504866</td>\n",
              "      <td>0.505267</td>\n",
              "      <td>0.504104</td>\n",
              "    </tr>\n",
              "    <tr>\n",
              "      <th>4</th>\n",
              "      <td>AdaBoostClassifier</td>\n",
              "      <td>0.504200</td>\n",
              "      <td>0.504030</td>\n",
              "      <td>0.504200</td>\n",
              "      <td>0.503962</td>\n",
              "    </tr>\n",
              "    <tr>\n",
              "      <th>5</th>\n",
              "      <td>GradientBoostingClassifier</td>\n",
              "      <td>0.499567</td>\n",
              "      <td>0.499291</td>\n",
              "      <td>0.499567</td>\n",
              "      <td>0.499067</td>\n",
              "    </tr>\n",
              "    <tr>\n",
              "      <th>6</th>\n",
              "      <td>RandomForestClassifier</td>\n",
              "      <td>0.497267</td>\n",
              "      <td>0.497076</td>\n",
              "      <td>0.497267</td>\n",
              "      <td>0.497004</td>\n",
              "    </tr>\n",
              "    <tr>\n",
              "      <th>7</th>\n",
              "      <td>XGBClassifier</td>\n",
              "      <td>0.500500</td>\n",
              "      <td>0.500438</td>\n",
              "      <td>0.500500</td>\n",
              "      <td>0.500451</td>\n",
              "    </tr>\n",
              "    <tr>\n",
              "      <th>8</th>\n",
              "      <td>SVC</td>\n",
              "      <td>0.500933</td>\n",
              "      <td>0.500248</td>\n",
              "      <td>0.500933</td>\n",
              "      <td>0.498261</td>\n",
              "    </tr>\n",
              "  </tbody>\n",
              "</table>\n",
              "</div>"
            ],
            "text/plain": [
              "                    Algorithm  Accuracy  Precision    Recall  F1-score\n",
              "0          LogisticRegression  0.504733   0.504061  0.504733  0.501456\n",
              "1      DecisionTreeClassifier  0.499100   0.499157  0.499100  0.499113\n",
              "2        KNeighborsClassifier  0.496500   0.496527  0.496500  0.496510\n",
              "3                  GaussianNB  0.505267   0.504866  0.505267  0.504104\n",
              "4          AdaBoostClassifier  0.504200   0.504030  0.504200  0.503962\n",
              "5  GradientBoostingClassifier  0.499567   0.499291  0.499567  0.499067\n",
              "6      RandomForestClassifier  0.497267   0.497076  0.497267  0.497004\n",
              "7               XGBClassifier  0.500500   0.500438  0.500500  0.500451\n",
              "8                         SVC  0.500933   0.500248  0.500933  0.498261"
            ]
          },
          "execution_count": 45,
          "metadata": {},
          "output_type": "execute_result"
        }
      ],
      "source": [
        "results_test = {\n",
        "    'Algorithm': [],\n",
        "    'Accuracy': [],\n",
        "    'Precision': [],\n",
        "    'Recall': [],\n",
        "    'F1-score': []\n",
        "}\n",
        "\n",
        "# Apply the algorithms and calculate performance metrics for test data\n",
        "for algorithm in algorithms:\n",
        "    algorithm_name = type(algorithm).__name__\n",
        "    y_test_pred = algorithm.predict(X_test)\n",
        "\n",
        "    accuracy = accuracy_score(y_test, y_test_pred)\n",
        "    precision = precision_score(y_test, y_test_pred, average='weighted')\n",
        "    recall = recall_score(y_test, y_test_pred, average='weighted')\n",
        "    f1 = f1_score(y_test, y_test_pred, average='weighted')\n",
        "\n",
        "    results_test['Algorithm'].append(algorithm_name)\n",
        "    results_test['Accuracy'].append(accuracy)\n",
        "    results_test['Precision'].append(precision)\n",
        "    results_test['Recall'].append(recall)\n",
        "    results_test['F1-score'].append(f1)\n",
        "\n",
        "# Create a dataframe for the test data results\n",
        "df_test = pd.DataFrame(results_test)\n",
        "df_test"
      ]
    },
    {
      "cell_type": "markdown",
      "id": "f9ff4f2e",
      "metadata": {
        "id": "f9ff4f2e"
      },
      "source": [
        "* **Most algorithms have mediocre performance on the test data, with accuracy close to random guessing (around 0.5).**\n",
        "\n",
        "\n",
        "* **Decision Tree, Random Forest, and Gradient Boosting also show subpar results, indicating overfitting.**\n",
        "\n",
        "\n",
        "* **No algorithm is performing well, so I decided to take only 4 variables that contribute more to the target variable and build the model again.**\n",
        "\n",
        "\n",
        "* **I removed the age and location variables because they are not good predictors of whether a customer will churn or not.**"
      ]
    },
    {
      "cell_type": "code",
      "execution_count": null,
      "id": "74bb15cb",
      "metadata": {
        "id": "74bb15cb"
      },
      "outputs": [],
      "source": [
        "X_train = X_train[['Monthly_Bill', 'Total_Usage_GB', 'Age', 'Subscription_Length_Months']]\n",
        "\n",
        "X_test = X_test[['Monthly_Bill', 'Total_Usage_GB', 'Age', 'Subscription_Length_Months']]"
      ]
    },
    {
      "cell_type": "code",
      "execution_count": null,
      "id": "24fda754",
      "metadata": {
        "id": "24fda754",
        "outputId": "4edbb0b5-2ea0-46e3-dac9-09814a93b12b"
      },
      "outputs": [
        {
          "name": "stdout",
          "output_type": "stream",
          "text": [
            "X_train columns: Index(['Monthly_Bill', 'Total_Usage_GB', 'Age', 'Subscription_Length_Months'], dtype='object')\n",
            "------------------------------------------------------------------------------------------------------------------------\n",
            "X_test columns: Index(['Monthly_Bill', 'Total_Usage_GB', 'Age', 'Subscription_Length_Months'], dtype='object')\n"
          ]
        }
      ],
      "source": [
        "print('X_train columns:', X_train.columns)\n",
        "print('-'*120)\n",
        "print('X_test columns:', X_test.columns)"
      ]
    },
    {
      "cell_type": "code",
      "execution_count": null,
      "id": "fa3ef4e4",
      "metadata": {
        "id": "fa3ef4e4",
        "outputId": "471ab297-aa25-44d0-db77-29497cb0dbeb"
      },
      "outputs": [
        {
          "name": "stderr",
          "output_type": "stream",
          "text": [
            "C:\\Users\\HP\\Anaconda3\\lib\\site-packages\\sklearn\\neighbors\\_classification.py:228: FutureWarning: Unlike other reduction functions (e.g. `skew`, `kurtosis`), the default behavior of `mode` typically preserves the axis it acts along. In SciPy 1.11.0, this behavior will change: the default value of `keepdims` will become False, the `axis` over which the statistic is taken will be eliminated, and the value None will no longer be accepted. Set `keepdims` to True or False to avoid this warning.\n",
            "  mode, _ = stats.mode(_y[neigh_ind, k], axis=1)\n"
          ]
        },
        {
          "data": {
            "text/html": [
              "<div>\n",
              "<style scoped>\n",
              "    .dataframe tbody tr th:only-of-type {\n",
              "        vertical-align: middle;\n",
              "    }\n",
              "\n",
              "    .dataframe tbody tr th {\n",
              "        vertical-align: top;\n",
              "    }\n",
              "\n",
              "    .dataframe thead th {\n",
              "        text-align: right;\n",
              "    }\n",
              "</style>\n",
              "<table border=\"1\" class=\"dataframe\">\n",
              "  <thead>\n",
              "    <tr style=\"text-align: right;\">\n",
              "      <th></th>\n",
              "      <th>Algorithm</th>\n",
              "      <th>Accuracy</th>\n",
              "      <th>Precision</th>\n",
              "      <th>Recall</th>\n",
              "      <th>F1-score</th>\n",
              "      <th>Building Time (s)</th>\n",
              "    </tr>\n",
              "  </thead>\n",
              "  <tbody>\n",
              "    <tr>\n",
              "      <th>0</th>\n",
              "      <td>LogisticRegression</td>\n",
              "      <td>0.502671</td>\n",
              "      <td>0.502584</td>\n",
              "      <td>0.502671</td>\n",
              "      <td>0.495610</td>\n",
              "      <td>6.616779</td>\n",
              "    </tr>\n",
              "    <tr>\n",
              "      <th>1</th>\n",
              "      <td>DecisionTreeClassifier</td>\n",
              "      <td>1.000000</td>\n",
              "      <td>1.000000</td>\n",
              "      <td>1.000000</td>\n",
              "      <td>1.000000</td>\n",
              "      <td>0.501294</td>\n",
              "    </tr>\n",
              "    <tr>\n",
              "      <th>2</th>\n",
              "      <td>KNeighborsClassifier</td>\n",
              "      <td>0.686600</td>\n",
              "      <td>0.686602</td>\n",
              "      <td>0.686600</td>\n",
              "      <td>0.686596</td>\n",
              "      <td>2.191296</td>\n",
              "    </tr>\n",
              "    <tr>\n",
              "      <th>3</th>\n",
              "      <td>GaussianNB</td>\n",
              "      <td>0.501486</td>\n",
              "      <td>0.501325</td>\n",
              "      <td>0.501486</td>\n",
              "      <td>0.493915</td>\n",
              "      <td>0.095272</td>\n",
              "    </tr>\n",
              "    <tr>\n",
              "      <th>4</th>\n",
              "      <td>AdaBoostClassifier</td>\n",
              "      <td>0.513000</td>\n",
              "      <td>0.512984</td>\n",
              "      <td>0.513000</td>\n",
              "      <td>0.512904</td>\n",
              "      <td>2.078163</td>\n",
              "    </tr>\n",
              "    <tr>\n",
              "      <th>5</th>\n",
              "      <td>GradientBoostingClassifier</td>\n",
              "      <td>0.538557</td>\n",
              "      <td>0.538573</td>\n",
              "      <td>0.538557</td>\n",
              "      <td>0.538399</td>\n",
              "      <td>5.318027</td>\n",
              "    </tr>\n",
              "    <tr>\n",
              "      <th>6</th>\n",
              "      <td>RandomForestClassifier</td>\n",
              "      <td>1.000000</td>\n",
              "      <td>1.000000</td>\n",
              "      <td>1.000000</td>\n",
              "      <td>1.000000</td>\n",
              "      <td>4.958342</td>\n",
              "    </tr>\n",
              "    <tr>\n",
              "      <th>7</th>\n",
              "      <td>XGBClassifier</td>\n",
              "      <td>0.659214</td>\n",
              "      <td>0.659225</td>\n",
              "      <td>0.659214</td>\n",
              "      <td>0.659201</td>\n",
              "      <td>2.676721</td>\n",
              "    </tr>\n",
              "    <tr>\n",
              "      <th>8</th>\n",
              "      <td>SVC</td>\n",
              "      <td>0.517729</td>\n",
              "      <td>0.518011</td>\n",
              "      <td>0.517729</td>\n",
              "      <td>0.514761</td>\n",
              "      <td>861.455037</td>\n",
              "    </tr>\n",
              "  </tbody>\n",
              "</table>\n",
              "</div>"
            ],
            "text/plain": [
              "                    Algorithm  Accuracy  Precision    Recall  F1-score  \\\n",
              "0          LogisticRegression  0.502671   0.502584  0.502671  0.495610   \n",
              "1      DecisionTreeClassifier  1.000000   1.000000  1.000000  1.000000   \n",
              "2        KNeighborsClassifier  0.686600   0.686602  0.686600  0.686596   \n",
              "3                  GaussianNB  0.501486   0.501325  0.501486  0.493915   \n",
              "4          AdaBoostClassifier  0.513000   0.512984  0.513000  0.512904   \n",
              "5  GradientBoostingClassifier  0.538557   0.538573  0.538557  0.538399   \n",
              "6      RandomForestClassifier  1.000000   1.000000  1.000000  1.000000   \n",
              "7               XGBClassifier  0.659214   0.659225  0.659214  0.659201   \n",
              "8                         SVC  0.517729   0.518011  0.517729  0.514761   \n",
              "\n",
              "   Building Time (s)  \n",
              "0           6.616779  \n",
              "1           0.501294  \n",
              "2           2.191296  \n",
              "3           0.095272  \n",
              "4           2.078163  \n",
              "5           5.318027  \n",
              "6           4.958342  \n",
              "7           2.676721  \n",
              "8         861.455037  "
            ]
          },
          "execution_count": 48,
          "metadata": {},
          "output_type": "execute_result"
        }
      ],
      "source": [
        "algorithms = [\n",
        "    LogisticRegression(n_jobs=-1, random_state=42),\n",
        "    DecisionTreeClassifier(random_state=42),\n",
        "    KNeighborsClassifier(n_jobs=-1),\n",
        "    GaussianNB(),\n",
        "    AdaBoostClassifier(random_state=42),\n",
        "    GradientBoostingClassifier(random_state=42),\n",
        "    RandomForestClassifier(n_jobs=-1, random_state=42),\n",
        "    XGBClassifier(n_jobs=-1, random_state=42),\n",
        "    SVC(random_state=42)\n",
        "]\n",
        "\n",
        "# Initialize the results dictionary for training data\n",
        "results_train = {\n",
        "    'Algorithm': [],\n",
        "    'Accuracy': [],\n",
        "    'Precision': [],\n",
        "    'Recall': [],\n",
        "    'F1-score': [],\n",
        "    'Building Time (s)': []\n",
        "}\n",
        "\n",
        "# Apply the algorithms and calculate performance metrics for training data\n",
        "for algorithm in algorithms:\n",
        "    start_time = time.time()  # Start timer\n",
        "\n",
        "    algorithm_name = type(algorithm).__name__\n",
        "    algorithm.fit(X_train, y_train)\n",
        "    y_train_pred = algorithm.predict(X_train)\n",
        "\n",
        "    accuracy = accuracy_score(y_train, y_train_pred)\n",
        "    precision = precision_score(y_train, y_train_pred, average='weighted')\n",
        "    recall = recall_score(y_train, y_train_pred, average='weighted')\n",
        "    f1 = f1_score(y_train, y_train_pred, average='weighted')\n",
        "\n",
        "    end_time = time.time()  # End timer\n",
        "    building_time = end_time - start_time\n",
        "\n",
        "    results_train['Algorithm'].append(algorithm_name)\n",
        "    results_train['Accuracy'].append(accuracy)\n",
        "    results_train['Precision'].append(precision)\n",
        "    results_train['Recall'].append(recall)\n",
        "    results_train['F1-score'].append(f1)\n",
        "    results_train['Building Time (s)'].append(building_time)\n",
        "\n",
        "# Create a dataframe for the training data results\n",
        "df_train = pd.DataFrame(results_train)\n",
        "df_train"
      ]
    },
    {
      "cell_type": "markdown",
      "id": "4b51c921",
      "metadata": {
        "id": "4b51c921"
      },
      "source": [
        "* **Decision Tree and Random Forest still achieve perfect accuracy, likely overfitting again.**\n",
        "\n",
        "\n",
        "* **Logistic Regression, GaussianNB, and AdaBoost have improved slightly.**\n",
        "\n",
        "\n",
        "* **KNeighborsClassifier and XGBClassifier remain moderate.**\n",
        "\n",
        "\n",
        "* **SVC still has high building time.**"
      ]
    },
    {
      "cell_type": "code",
      "execution_count": null,
      "id": "b3fa9f01",
      "metadata": {
        "id": "b3fa9f01",
        "outputId": "869be5aa-87d7-484e-e628-d48f3036aed1"
      },
      "outputs": [
        {
          "name": "stderr",
          "output_type": "stream",
          "text": [
            "C:\\Users\\HP\\Anaconda3\\lib\\site-packages\\sklearn\\neighbors\\_classification.py:228: FutureWarning: Unlike other reduction functions (e.g. `skew`, `kurtosis`), the default behavior of `mode` typically preserves the axis it acts along. In SciPy 1.11.0, this behavior will change: the default value of `keepdims` will become False, the `axis` over which the statistic is taken will be eliminated, and the value None will no longer be accepted. Set `keepdims` to True or False to avoid this warning.\n",
            "  mode, _ = stats.mode(_y[neigh_ind, k], axis=1)\n"
          ]
        },
        {
          "data": {
            "text/html": [
              "<div>\n",
              "<style scoped>\n",
              "    .dataframe tbody tr th:only-of-type {\n",
              "        vertical-align: middle;\n",
              "    }\n",
              "\n",
              "    .dataframe tbody tr th {\n",
              "        vertical-align: top;\n",
              "    }\n",
              "\n",
              "    .dataframe thead th {\n",
              "        text-align: right;\n",
              "    }\n",
              "</style>\n",
              "<table border=\"1\" class=\"dataframe\">\n",
              "  <thead>\n",
              "    <tr style=\"text-align: right;\">\n",
              "      <th></th>\n",
              "      <th>Algorithm</th>\n",
              "      <th>Accuracy</th>\n",
              "      <th>Precision</th>\n",
              "      <th>Recall</th>\n",
              "      <th>F1-score</th>\n",
              "    </tr>\n",
              "  </thead>\n",
              "  <tbody>\n",
              "    <tr>\n",
              "      <th>0</th>\n",
              "      <td>LogisticRegression</td>\n",
              "      <td>0.498433</td>\n",
              "      <td>0.497171</td>\n",
              "      <td>0.498433</td>\n",
              "      <td>0.491696</td>\n",
              "    </tr>\n",
              "    <tr>\n",
              "      <th>1</th>\n",
              "      <td>DecisionTreeClassifier</td>\n",
              "      <td>0.500400</td>\n",
              "      <td>0.500360</td>\n",
              "      <td>0.500400</td>\n",
              "      <td>0.500372</td>\n",
              "    </tr>\n",
              "    <tr>\n",
              "      <th>2</th>\n",
              "      <td>KNeighborsClassifier</td>\n",
              "      <td>0.497900</td>\n",
              "      <td>0.497918</td>\n",
              "      <td>0.497900</td>\n",
              "      <td>0.497907</td>\n",
              "    </tr>\n",
              "    <tr>\n",
              "      <th>3</th>\n",
              "      <td>GaussianNB</td>\n",
              "      <td>0.499333</td>\n",
              "      <td>0.498084</td>\n",
              "      <td>0.499333</td>\n",
              "      <td>0.492268</td>\n",
              "    </tr>\n",
              "    <tr>\n",
              "      <th>4</th>\n",
              "      <td>AdaBoostClassifier</td>\n",
              "      <td>0.498467</td>\n",
              "      <td>0.498457</td>\n",
              "      <td>0.498467</td>\n",
              "      <td>0.498461</td>\n",
              "    </tr>\n",
              "    <tr>\n",
              "      <th>5</th>\n",
              "      <td>GradientBoostingClassifier</td>\n",
              "      <td>0.502000</td>\n",
              "      <td>0.501906</td>\n",
              "      <td>0.502000</td>\n",
              "      <td>0.501909</td>\n",
              "    </tr>\n",
              "    <tr>\n",
              "      <th>6</th>\n",
              "      <td>RandomForestClassifier</td>\n",
              "      <td>0.505767</td>\n",
              "      <td>0.505583</td>\n",
              "      <td>0.505767</td>\n",
              "      <td>0.505489</td>\n",
              "    </tr>\n",
              "    <tr>\n",
              "      <th>7</th>\n",
              "      <td>XGBClassifier</td>\n",
              "      <td>0.497667</td>\n",
              "      <td>0.497633</td>\n",
              "      <td>0.497667</td>\n",
              "      <td>0.497644</td>\n",
              "    </tr>\n",
              "    <tr>\n",
              "      <th>8</th>\n",
              "      <td>SVC</td>\n",
              "      <td>0.501733</td>\n",
              "      <td>0.501010</td>\n",
              "      <td>0.501733</td>\n",
              "      <td>0.498641</td>\n",
              "    </tr>\n",
              "  </tbody>\n",
              "</table>\n",
              "</div>"
            ],
            "text/plain": [
              "                    Algorithm  Accuracy  Precision    Recall  F1-score\n",
              "0          LogisticRegression  0.498433   0.497171  0.498433  0.491696\n",
              "1      DecisionTreeClassifier  0.500400   0.500360  0.500400  0.500372\n",
              "2        KNeighborsClassifier  0.497900   0.497918  0.497900  0.497907\n",
              "3                  GaussianNB  0.499333   0.498084  0.499333  0.492268\n",
              "4          AdaBoostClassifier  0.498467   0.498457  0.498467  0.498461\n",
              "5  GradientBoostingClassifier  0.502000   0.501906  0.502000  0.501909\n",
              "6      RandomForestClassifier  0.505767   0.505583  0.505767  0.505489\n",
              "7               XGBClassifier  0.497667   0.497633  0.497667  0.497644\n",
              "8                         SVC  0.501733   0.501010  0.501733  0.498641"
            ]
          },
          "execution_count": 49,
          "metadata": {},
          "output_type": "execute_result"
        }
      ],
      "source": [
        "results_test = {\n",
        "    'Algorithm': [],\n",
        "    'Accuracy': [],\n",
        "    'Precision': [],\n",
        "    'Recall': [],\n",
        "    'F1-score': []\n",
        "}\n",
        "\n",
        "# Apply the algorithms and calculate performance metrics for test data\n",
        "for algorithm in algorithms:\n",
        "    algorithm_name = type(algorithm).__name__\n",
        "    y_test_pred = algorithm.predict(X_test)\n",
        "\n",
        "    accuracy = accuracy_score(y_test, y_test_pred)\n",
        "    precision = precision_score(y_test, y_test_pred, average='weighted')\n",
        "    recall = recall_score(y_test, y_test_pred, average='weighted')\n",
        "    f1 = f1_score(y_test, y_test_pred, average='weighted')\n",
        "\n",
        "    results_test['Algorithm'].append(algorithm_name)\n",
        "    results_test['Accuracy'].append(accuracy)\n",
        "    results_test['Precision'].append(precision)\n",
        "    results_test['Recall'].append(recall)\n",
        "    results_test['F1-score'].append(f1)\n",
        "\n",
        "# Create a dataframe for the test data results\n",
        "df_test = pd.DataFrame(results_test)\n",
        "df_test"
      ]
    },
    {
      "cell_type": "markdown",
      "id": "03dcb884",
      "metadata": {
        "id": "03dcb884"
      },
      "source": [
        "* **Decision Tree and Random Forest overfits.**\n",
        "\n",
        "\n",
        "* **No algorithm is performing well, so I decided to build model using neural networks.**\n",
        "\n",
        "\n",
        "* **If the neural network does not provide better results than machine learning algorithms, then I will build ensembles of random forests because random forests achieve perfect scores in all metrics in the training data. Decision trees also achieve perfect scores in all metrics in the training data, but I have already tried and tested multiple ensembles that use decision trees. Therefore, I will now build ensembles using random forests**."
      ]
    },
    {
      "cell_type": "markdown",
      "id": "5cd508fc",
      "metadata": {
        "id": "5cd508fc"
      },
      "source": [
        "# `Model Building: Neural Network`"
      ]
    },
    {
      "cell_type": "code",
      "execution_count": null,
      "id": "d56b5604",
      "metadata": {
        "id": "d56b5604"
      },
      "outputs": [],
      "source": [
        "import tensorflow as tf\n",
        "from tensorflow.keras.models import Sequential\n",
        "from tensorflow.keras.utils import plot_model\n",
        "from tensorflow.keras.layers import Dense, BatchNormalization, Activation, Dropout\n",
        "from tensorflow.keras.optimizers import Adam\n",
        "from tensorflow.keras.callbacks import EarlyStopping, ModelCheckpoint\n",
        "from sklearn.metrics import recall_score"
      ]
    },
    {
      "cell_type": "markdown",
      "id": "abacd02c",
      "metadata": {
        "id": "abacd02c"
      },
      "source": [
        "## `Defining Callbacks for Early Stopping and Model Checkpoint`\n",
        "\n",
        "* Best model will save to pwd (present working directory) as 'Churn Classifier.h5'\n",
        "\n",
        "\n",
        "* Early stopping is a regularization technique that stops the training of a neural network before it reaches the maximum number of epochs or iterations. It is important because it helps to prevent overfitting.\n",
        "\n",
        "\n",
        "* Early stopping is a technique that stops the training of a model when the validation loss stops improving. If you set restore_best_weights to False, the model will be saved at the end of the training, even if the validation loss has not improved. This could result in the model being saved at a point where it is overfitting the training data. By setting restore_best_weights to True, the model will be saved at the epoch with the best validation loss. This ensures that the model that is saved is the one that is most likely to generalize well to new data.\n",
        "\n",
        "\n",
        "* When you set restore_best_weights=True in the EarlyStopping callback, it ensures that the model's weights are restored to the state they were in at the epoch with the lowest validation loss. This means that when you evaluate the model after training, the evaluation metrics, including accuracy and other metrics, are computed based on the weights of the model that performed the best on the validation data."
      ]
    },
    {
      "cell_type": "code",
      "execution_count": null,
      "id": "0d997187",
      "metadata": {
        "id": "0d997187"
      },
      "outputs": [],
      "source": [
        "# Define the EarlyStopping and ModelCheckpoint callbacks\n",
        "\n",
        "early_stopping = EarlyStopping(\n",
        "    monitor='val_loss',        # The metric to monitor. This is usually the validation loss.\n",
        "    min_delta=0.001,           # The minimum amount of improvement required to consider the model to have improved.\n",
        "    patience=10,               # The number of epochs to wait without improvement before stopping the training.\n",
        "    verbose=1,                 # Print output\n",
        "    mode='auto',               # Consider mode of the metric as min or max.\n",
        "    restore_best_weights=True  # Whether to restore the model weights at the epoch with the best validation loss.\n",
        ")"
      ]
    },
    {
      "cell_type": "code",
      "execution_count": null,
      "id": "aa0fb849",
      "metadata": {
        "id": "aa0fb849"
      },
      "outputs": [],
      "source": [
        "checkpoint = ModelCheckpoint('ChurnClassifier.h5', monitor='val_loss', verbose=1, save_best_only=True, mode='min')"
      ]
    },
    {
      "cell_type": "markdown",
      "id": "1ee0c8bf",
      "metadata": {
        "id": "1ee0c8bf"
      },
      "source": [
        "## `Build Neural Network Architectures & Fit Model on Training Data`"
      ]
    },
    {
      "cell_type": "markdown",
      "id": "10399651",
      "metadata": {
        "id": "10399651"
      },
      "source": [
        "### `Architecture I`"
      ]
    },
    {
      "cell_type": "code",
      "execution_count": null,
      "id": "af7bb570",
      "metadata": {
        "id": "af7bb570"
      },
      "outputs": [],
      "source": [
        "model = tf.keras.Sequential([\n",
        "    tf.keras.layers.Dense(128, activation='relu'),\n",
        "    tf.keras.layers.Dense(64, activation='relu'),\n",
        "    tf.keras.layers.Dense(1, activation='sigmoid')\n",
        "])\n",
        "\n",
        "# Compile the model]\n",
        "model.compile(optimizer='adam', loss='binary_crossentropy', metrics=['accuracy'])"
      ]
    },
    {
      "cell_type": "code",
      "execution_count": null,
      "id": "36a16a03",
      "metadata": {
        "id": "36a16a03",
        "outputId": "43b8448e-c4d8-4d84-e562-8d5f4be8b997"
      },
      "outputs": [
        {
          "name": "stdout",
          "output_type": "stream",
          "text": [
            "Epoch 1/100\n",
            "363/383 [===========================>..] - ETA: 0s - loss: 0.6937 - accuracy: 0.4993\n",
            "Epoch 1: val_loss improved from inf to 0.69363, saving model to ChurnClassifier.h5\n",
            "383/383 [==============================] - 2s 3ms/step - loss: 0.6937 - accuracy: 0.4993 - val_loss: 0.6936 - val_accuracy: 0.4971\n",
            "Epoch 2/100\n",
            " 35/383 [=>............................] - ETA: 1s - loss: 0.6927 - accuracy: 0.5152"
          ]
        },
        {
          "name": "stderr",
          "output_type": "stream",
          "text": [
            "C:\\Users\\HP\\Anaconda3\\lib\\site-packages\\keras\\src\\engine\\training.py:3000: UserWarning: You are saving your model as an HDF5 file via `model.save()`. This file format is considered legacy. We recommend using instead the native Keras format, e.g. `model.save('my_model.keras')`.\n",
            "  saving_api.save_model(\n"
          ]
        },
        {
          "name": "stdout",
          "output_type": "stream",
          "text": [
            "370/383 [===========================>..] - ETA: 0s - loss: 0.6933 - accuracy: 0.5038\n",
            "Epoch 2: val_loss improved from 0.69363 to 0.69333, saving model to ChurnClassifier.h5\n",
            "383/383 [==============================] - 1s 3ms/step - loss: 0.6933 - accuracy: 0.5037 - val_loss: 0.6933 - val_accuracy: 0.4981\n",
            "Epoch 3/100\n",
            "360/383 [===========================>..] - ETA: 0s - loss: 0.6932 - accuracy: 0.5036\n",
            "Epoch 3: val_loss improved from 0.69333 to 0.69316, saving model to ChurnClassifier.h5\n",
            "383/383 [==============================] - 1s 3ms/step - loss: 0.6933 - accuracy: 0.5032 - val_loss: 0.6932 - val_accuracy: 0.5034\n",
            "Epoch 4/100\n",
            "364/383 [===========================>..] - ETA: 0s - loss: 0.6932 - accuracy: 0.5070\n",
            "Epoch 4: val_loss improved from 0.69316 to 0.69313, saving model to ChurnClassifier.h5\n",
            "383/383 [==============================] - 1s 3ms/step - loss: 0.6932 - accuracy: 0.5062 - val_loss: 0.6931 - val_accuracy: 0.5016\n",
            "Epoch 5/100\n",
            "370/383 [===========================>..] - ETA: 0s - loss: 0.6932 - accuracy: 0.5017\n",
            "Epoch 5: val_loss improved from 0.69313 to 0.69309, saving model to ChurnClassifier.h5\n",
            "383/383 [==============================] - 1s 3ms/step - loss: 0.6932 - accuracy: 0.5007 - val_loss: 0.6931 - val_accuracy: 0.5046\n",
            "Epoch 6/100\n",
            "383/383 [==============================] - ETA: 0s - loss: 0.6931 - accuracy: 0.5032\n",
            "Epoch 6: val_loss did not improve from 0.69309\n",
            "383/383 [==============================] - 1s 3ms/step - loss: 0.6931 - accuracy: 0.5032 - val_loss: 0.6932 - val_accuracy: 0.5035\n",
            "Epoch 7/100\n",
            "360/383 [===========================>..] - ETA: 0s - loss: 0.6931 - accuracy: 0.5042\n",
            "Epoch 7: val_loss did not improve from 0.69309\n",
            "383/383 [==============================] - 1s 2ms/step - loss: 0.6932 - accuracy: 0.5041 - val_loss: 0.6933 - val_accuracy: 0.4995\n",
            "Epoch 8/100\n",
            "364/383 [===========================>..] - ETA: 0s - loss: 0.6931 - accuracy: 0.5071\n",
            "Epoch 8: val_loss did not improve from 0.69309\n",
            "383/383 [==============================] - 1s 2ms/step - loss: 0.6931 - accuracy: 0.5064 - val_loss: 0.6932 - val_accuracy: 0.5011\n",
            "Epoch 9/100\n",
            "368/383 [===========================>..] - ETA: 0s - loss: 0.6931 - accuracy: 0.5029\n",
            "Epoch 9: val_loss did not improve from 0.69309\n",
            "383/383 [==============================] - 1s 2ms/step - loss: 0.6931 - accuracy: 0.5032 - val_loss: 0.6935 - val_accuracy: 0.4972\n",
            "Epoch 10/100\n",
            "364/383 [===========================>..] - ETA: 0s - loss: 0.6931 - accuracy: 0.5066\n",
            "Epoch 10: val_loss did not improve from 0.69309\n",
            "383/383 [==============================] - 1s 2ms/step - loss: 0.6931 - accuracy: 0.5063 - val_loss: 0.6932 - val_accuracy: 0.5013\n",
            "Epoch 11/100\n",
            "361/383 [===========================>..] - ETA: 0s - loss: 0.6931 - accuracy: 0.5043Restoring model weights from the end of the best epoch: 1.\n",
            "\n",
            "Epoch 11: val_loss did not improve from 0.69309\n",
            "383/383 [==============================] - 1s 3ms/step - loss: 0.6931 - accuracy: 0.5041 - val_loss: 0.6931 - val_accuracy: 0.5037\n",
            "Epoch 11: early stopping\n"
          ]
        }
      ],
      "source": [
        "# Train the model\n",
        "history = model.fit(X_train, y_train, epochs=100, batch_size=128, validation_split=0.3, callbacks=[early_stopping, checkpoint],\n",
        "                    verbose=1)"
      ]
    },
    {
      "cell_type": "markdown",
      "id": "174e1ecb",
      "metadata": {
        "id": "174e1ecb"
      },
      "source": [
        "### `Architecture II`"
      ]
    },
    {
      "cell_type": "code",
      "execution_count": null,
      "id": "fbb03b77",
      "metadata": {
        "id": "fbb03b77"
      },
      "outputs": [],
      "source": [
        "model = Sequential()\n",
        "\n",
        "# layers\n",
        "model.add(Dense(units = 32, kernel_initializer = 'uniform', activation = 'relu', input_dim = 4))\n",
        "model.add(Dense(units = 32, kernel_initializer = 'uniform', activation = 'relu'))\n",
        "model.add(Dense(units = 16, kernel_initializer = 'uniform', activation = 'relu'))\n",
        "model.add(Dropout(0.25))\n",
        "model.add(Dense(units = 8, kernel_initializer = 'uniform', activation = 'relu'))\n",
        "model.add(Dropout(0.5))\n",
        "model.add(Dense(units = 1, kernel_initializer = 'uniform', activation = 'sigmoid'))\n",
        "\n",
        "# Compile the model]\n",
        "model.compile(optimizer='adam', loss='binary_crossentropy', metrics=['accuracy'])"
      ]
    },
    {
      "cell_type": "code",
      "execution_count": null,
      "id": "7efcf0ed",
      "metadata": {
        "id": "7efcf0ed",
        "outputId": "06f8f143-ca84-4272-a6a3-be2c4540abc2"
      },
      "outputs": [
        {
          "name": "stdout",
          "output_type": "stream",
          "text": [
            "Epoch 1/100\n",
            "359/383 [===========================>..] - ETA: 0s - loss: 0.6931 - accuracy: 0.5017\n",
            "Epoch 1: val_loss did not improve from 0.69309\n",
            "383/383 [==============================] - 2s 3ms/step - loss: 0.6931 - accuracy: 0.5007 - val_loss: 0.6932 - val_accuracy: 0.4967\n",
            "Epoch 2/100\n",
            "379/383 [============================>.] - ETA: 0s - loss: 0.6931 - accuracy: 0.5029\n",
            "Epoch 2: val_loss did not improve from 0.69309\n",
            "383/383 [==============================] - 1s 2ms/step - loss: 0.6931 - accuracy: 0.5028 - val_loss: 0.6932 - val_accuracy: 0.4967\n",
            "Epoch 3/100\n",
            "361/383 [===========================>..] - ETA: 0s - loss: 0.6931 - accuracy: 0.5011\n",
            "Epoch 3: val_loss did not improve from 0.69309\n",
            "383/383 [==============================] - 1s 2ms/step - loss: 0.6931 - accuracy: 0.5021 - val_loss: 0.6933 - val_accuracy: 0.4967\n",
            "Epoch 4/100\n",
            "368/383 [===========================>..] - ETA: 0s - loss: 0.6931 - accuracy: 0.5034\n",
            "Epoch 4: val_loss did not improve from 0.69309\n",
            "383/383 [==============================] - 1s 2ms/step - loss: 0.6931 - accuracy: 0.5028 - val_loss: 0.6932 - val_accuracy: 0.4967\n",
            "Epoch 5/100\n",
            "367/383 [===========================>..] - ETA: 0s - loss: 0.6931 - accuracy: 0.5024\n",
            "Epoch 5: val_loss did not improve from 0.69309\n",
            "383/383 [==============================] - 1s 2ms/step - loss: 0.6931 - accuracy: 0.5022 - val_loss: 0.6932 - val_accuracy: 0.4967\n",
            "Epoch 6/100\n",
            "369/383 [===========================>..] - ETA: 0s - loss: 0.6931 - accuracy: 0.5012\n",
            "Epoch 6: val_loss did not improve from 0.69309\n",
            "383/383 [==============================] - 1s 2ms/step - loss: 0.6931 - accuracy: 0.5014 - val_loss: 0.6932 - val_accuracy: 0.4967\n",
            "Epoch 7/100\n",
            "371/383 [============================>.] - ETA: 0s - loss: 0.6932 - accuracy: 0.5025\n",
            "Epoch 7: val_loss did not improve from 0.69309\n",
            "383/383 [==============================] - 1s 2ms/step - loss: 0.6931 - accuracy: 0.5028 - val_loss: 0.6932 - val_accuracy: 0.4967\n",
            "Epoch 8/100\n",
            "368/383 [===========================>..] - ETA: 0s - loss: 0.6931 - accuracy: 0.5031\n",
            "Epoch 8: val_loss did not improve from 0.69309\n",
            "383/383 [==============================] - 1s 2ms/step - loss: 0.6931 - accuracy: 0.5028 - val_loss: 0.6932 - val_accuracy: 0.4967\n",
            "Epoch 9/100\n",
            "363/383 [===========================>..] - ETA: 0s - loss: 0.6931 - accuracy: 0.5002\n",
            "Epoch 9: val_loss did not improve from 0.69309\n",
            "383/383 [==============================] - 1s 2ms/step - loss: 0.6931 - accuracy: 0.4998 - val_loss: 0.6933 - val_accuracy: 0.4967\n",
            "Epoch 10/100\n",
            "366/383 [===========================>..] - ETA: 0s - loss: 0.6932 - accuracy: 0.5007\n",
            "Epoch 10: val_loss did not improve from 0.69309\n",
            "383/383 [==============================] - 1s 2ms/step - loss: 0.6932 - accuracy: 0.5013 - val_loss: 0.6932 - val_accuracy: 0.4967\n",
            "Epoch 11/100\n",
            "363/383 [===========================>..] - ETA: 0s - loss: 0.6932 - accuracy: 0.5025Restoring model weights from the end of the best epoch: 1.\n",
            "\n",
            "Epoch 11: val_loss did not improve from 0.69309\n",
            "383/383 [==============================] - 1s 2ms/step - loss: 0.6931 - accuracy: 0.5028 - val_loss: 0.6932 - val_accuracy: 0.4967\n",
            "Epoch 11: early stopping\n"
          ]
        }
      ],
      "source": [
        "# Train the model\n",
        "history = model.fit(X_train, y_train, epochs=100, batch_size=128, validation_split=0.3, callbacks=[early_stopping, checkpoint],\n",
        "                    verbose=1)"
      ]
    },
    {
      "cell_type": "markdown",
      "id": "a77f8ba9",
      "metadata": {
        "id": "a77f8ba9"
      },
      "source": [
        "### `Architecture III`"
      ]
    },
    {
      "cell_type": "code",
      "execution_count": null,
      "id": "7083bca6",
      "metadata": {
        "id": "7083bca6"
      },
      "outputs": [],
      "source": [
        "# Initialising the NN\n",
        "model = Sequential()\n",
        "\n",
        "# layers\n",
        "model.add(Dense(units = 16, kernel_initializer = 'uniform', activation = 'relu', input_dim = 4))\n",
        "model.add(Dense(units = 8, kernel_initializer = 'uniform', activation = 'relu'))\n",
        "model.add(Dropout(0.25))\n",
        "model.add(Dense(units = 4, kernel_initializer = 'uniform', activation = 'relu'))\n",
        "model.add(Dropout(0.5))\n",
        "model.add(Dense(units = 1, kernel_initializer = 'uniform', activation = 'sigmoid'))\n",
        "from keras.optimizers import SGD\n",
        "\n",
        "# Compiling the ANN\n",
        "model.compile(optimizer = 'adam', loss = 'binary_crossentropy', metrics = ['accuracy'])"
      ]
    },
    {
      "cell_type": "code",
      "execution_count": null,
      "id": "8087721a",
      "metadata": {
        "id": "8087721a",
        "outputId": "db32ca0d-e352-4e86-fd29-102161ffbe8e"
      },
      "outputs": [
        {
          "name": "stdout",
          "output_type": "stream",
          "text": [
            "Epoch 1/100\n",
            "365/383 [===========================>..] - ETA: 0s - loss: 0.6932 - accuracy: 0.4993\n",
            "Epoch 1: val_loss did not improve from 0.69309\n",
            "383/383 [==============================] - 2s 3ms/step - loss: 0.6932 - accuracy: 0.4992 - val_loss: 0.6932 - val_accuracy: 0.4967\n",
            "Epoch 2/100\n",
            "373/383 [============================>.] - ETA: 0s - loss: 0.6931 - accuracy: 0.5027\n",
            "Epoch 2: val_loss did not improve from 0.69309\n",
            "383/383 [==============================] - 1s 2ms/step - loss: 0.6931 - accuracy: 0.5028 - val_loss: 0.6932 - val_accuracy: 0.4967\n",
            "Epoch 3/100\n",
            "373/383 [============================>.] - ETA: 0s - loss: 0.6932 - accuracy: 0.5006\n",
            "Epoch 3: val_loss did not improve from 0.69309\n",
            "383/383 [==============================] - 1s 2ms/step - loss: 0.6932 - accuracy: 0.5007 - val_loss: 0.6932 - val_accuracy: 0.4967\n",
            "Epoch 4/100\n",
            "371/383 [============================>.] - ETA: 0s - loss: 0.6931 - accuracy: 0.5031\n",
            "Epoch 4: val_loss did not improve from 0.69309\n",
            "383/383 [==============================] - 1s 2ms/step - loss: 0.6931 - accuracy: 0.5028 - val_loss: 0.6932 - val_accuracy: 0.4967\n",
            "Epoch 5/100\n",
            "374/383 [============================>.] - ETA: 0s - loss: 0.6931 - accuracy: 0.5029\n",
            "Epoch 5: val_loss did not improve from 0.69309\n",
            "383/383 [==============================] - 1s 2ms/step - loss: 0.6931 - accuracy: 0.5028 - val_loss: 0.6932 - val_accuracy: 0.4967\n",
            "Epoch 6/100\n",
            "371/383 [============================>.] - ETA: 0s - loss: 0.6932 - accuracy: 0.5027\n",
            "Epoch 6: val_loss did not improve from 0.69309\n",
            "383/383 [==============================] - 1s 2ms/step - loss: 0.6931 - accuracy: 0.5028 - val_loss: 0.6932 - val_accuracy: 0.4967\n",
            "Epoch 7/100\n",
            "358/383 [===========================>..] - ETA: 0s - loss: 0.6932 - accuracy: 0.4971\n",
            "Epoch 7: val_loss did not improve from 0.69309\n",
            "383/383 [==============================] - 1s 2ms/step - loss: 0.6931 - accuracy: 0.4994 - val_loss: 0.6933 - val_accuracy: 0.4967\n",
            "Epoch 8/100\n",
            "376/383 [============================>.] - ETA: 0s - loss: 0.6932 - accuracy: 0.5032\n",
            "Epoch 8: val_loss did not improve from 0.69309\n",
            "383/383 [==============================] - 1s 2ms/step - loss: 0.6932 - accuracy: 0.5028 - val_loss: 0.6932 - val_accuracy: 0.4967\n",
            "Epoch 9/100\n",
            "376/383 [============================>.] - ETA: 0s - loss: 0.6932 - accuracy: 0.5022\n",
            "Epoch 9: val_loss did not improve from 0.69309\n",
            "383/383 [==============================] - 1s 2ms/step - loss: 0.6931 - accuracy: 0.5028 - val_loss: 0.6932 - val_accuracy: 0.4967\n",
            "Epoch 10/100\n",
            "374/383 [============================>.] - ETA: 0s - loss: 0.6932 - accuracy: 0.5026\n",
            "Epoch 10: val_loss did not improve from 0.69309\n",
            "383/383 [==============================] - 1s 2ms/step - loss: 0.6931 - accuracy: 0.5028 - val_loss: 0.6932 - val_accuracy: 0.4967\n",
            "Epoch 11/100\n",
            "375/383 [============================>.] - ETA: 0s - loss: 0.6931 - accuracy: 0.5024Restoring model weights from the end of the best epoch: 1.\n",
            "\n",
            "Epoch 11: val_loss did not improve from 0.69309\n",
            "383/383 [==============================] - 1s 2ms/step - loss: 0.6931 - accuracy: 0.5028 - val_loss: 0.6932 - val_accuracy: 0.4967\n",
            "Epoch 11: early stopping\n"
          ]
        }
      ],
      "source": [
        "# Train the model\n",
        "history = model.fit(X_train, y_train, epochs=100, batch_size=128, validation_split=0.3, callbacks=[early_stopping, checkpoint],\n",
        "                    verbose=1)"
      ]
    },
    {
      "cell_type": "markdown",
      "id": "a1267af1",
      "metadata": {
        "id": "a1267af1"
      },
      "source": [
        "### `Architecture IV`"
      ]
    },
    {
      "cell_type": "code",
      "execution_count": null,
      "id": "6e160692",
      "metadata": {
        "id": "6e160692"
      },
      "outputs": [],
      "source": [
        "model = Sequential()\n",
        "\n",
        "# Input layer with BatchNormalization and Activation (ReLU)\n",
        "model.add(Dense(10, input_dim=4, kernel_initializer='he_normal'))\n",
        "model.add(BatchNormalization())\n",
        "model.add(Activation('relu'))\n",
        "\n",
        "# First hidden layer with BatchNormalization, Activation (ReLU), and Dropout\n",
        "model.add(Dense(10, kernel_initializer='he_normal'))\n",
        "model.add(BatchNormalization())\n",
        "model.add(Activation('relu'))\n",
        "model.add(Dropout(0.2))  # 20% dropout\n",
        "\n",
        "# Second hidden layer with BatchNormalization, Activation (ReLU), and Dropout\n",
        "model.add(Dense(5, kernel_initializer='he_normal'))\n",
        "model.add(BatchNormalization())\n",
        "model.add(Activation('relu'))\n",
        "model.add(Dropout(0.1))  # 10% dropout\n",
        "\n",
        "# Output layer with Sigmoid activation\n",
        "model.add(Dense(1, activation='sigmoid'))\n",
        "\n",
        "# Compile the model\n",
        "model.compile(optimizer=Adam(), loss='binary_crossentropy', metrics=['accuracy'])"
      ]
    },
    {
      "cell_type": "markdown",
      "id": "0ff07c03",
      "metadata": {
        "id": "0ff07c03"
      },
      "source": [
        "**`Batch Normalization`** is used before the activation function in neural networks to enhance training stability and speed up convergence. By normalizing inputs within each batch, it maintains stable distribution and prevents extreme activations, leading to faster learning and better performance.\n",
        "\n",
        "\n",
        "**`\"He_normal\"`** is a weight initialization technique in neural networks. It sets initial weights to encourage effective learning, especially with ReLU activation. It helps prevent vanishing gradient and works well in deep networks."
      ]
    },
    {
      "cell_type": "code",
      "execution_count": null,
      "id": "2fb5b655",
      "metadata": {
        "id": "2fb5b655",
        "outputId": "674c6c57-83f5-471b-da02-88d88b1c9940"
      },
      "outputs": [
        {
          "name": "stdout",
          "output_type": "stream",
          "text": [
            "Epoch 1/100\n",
            "364/383 [===========================>..] - ETA: 0s - loss: 0.7160 - accuracy: 0.5003\n",
            "Epoch 1: val_loss did not improve from 0.69309\n",
            "383/383 [==============================] - 3s 3ms/step - loss: 0.7152 - accuracy: 0.5002 - val_loss: 0.6943 - val_accuracy: 0.5035\n",
            "Epoch 2/100\n",
            "376/383 [============================>.] - ETA: 0s - loss: 0.7018 - accuracy: 0.5022\n",
            "Epoch 2: val_loss did not improve from 0.69309\n",
            "383/383 [==============================] - 1s 3ms/step - loss: 0.7018 - accuracy: 0.5024 - val_loss: 0.6939 - val_accuracy: 0.5026\n",
            "Epoch 3/100\n",
            "380/383 [============================>.] - ETA: 0s - loss: 0.6978 - accuracy: 0.5001\n",
            "Epoch 3: val_loss did not improve from 0.69309\n",
            "383/383 [==============================] - 1s 3ms/step - loss: 0.6978 - accuracy: 0.4997 - val_loss: 0.6936 - val_accuracy: 0.5019\n",
            "Epoch 4/100\n",
            "377/383 [============================>.] - ETA: 0s - loss: 0.6956 - accuracy: 0.5030\n",
            "Epoch 4: val_loss did not improve from 0.69309\n",
            "383/383 [==============================] - 1s 3ms/step - loss: 0.6956 - accuracy: 0.5031 - val_loss: 0.6933 - val_accuracy: 0.5055\n",
            "Epoch 5/100\n",
            "369/383 [===========================>..] - ETA: 0s - loss: 0.6954 - accuracy: 0.4979\n",
            "Epoch 5: val_loss did not improve from 0.69309\n",
            "383/383 [==============================] - 1s 3ms/step - loss: 0.6953 - accuracy: 0.4979 - val_loss: 0.6935 - val_accuracy: 0.5002\n",
            "Epoch 6/100\n",
            "376/383 [============================>.] - ETA: 0s - loss: 0.6945 - accuracy: 0.5031\n",
            "Epoch 6: val_loss did not improve from 0.69309\n",
            "383/383 [==============================] - 1s 3ms/step - loss: 0.6945 - accuracy: 0.5027 - val_loss: 0.6933 - val_accuracy: 0.4997\n",
            "Epoch 7/100\n",
            "374/383 [============================>.] - ETA: 0s - loss: 0.6941 - accuracy: 0.5002\n",
            "Epoch 7: val_loss did not improve from 0.69309\n",
            "383/383 [==============================] - 1s 3ms/step - loss: 0.6941 - accuracy: 0.5005 - val_loss: 0.6932 - val_accuracy: 0.5007\n",
            "Epoch 8/100\n",
            "371/383 [============================>.] - ETA: 0s - loss: 0.6937 - accuracy: 0.5002\n",
            "Epoch 8: val_loss did not improve from 0.69309\n",
            "383/383 [==============================] - 1s 3ms/step - loss: 0.6937 - accuracy: 0.4997 - val_loss: 0.6934 - val_accuracy: 0.4980\n",
            "Epoch 9/100\n",
            "365/383 [===========================>..] - ETA: 0s - loss: 0.6937 - accuracy: 0.5005\n",
            "Epoch 9: val_loss did not improve from 0.69309\n",
            "383/383 [==============================] - 1s 3ms/step - loss: 0.6937 - accuracy: 0.5008 - val_loss: 0.6933 - val_accuracy: 0.4990\n",
            "Epoch 10/100\n",
            "375/383 [============================>.] - ETA: 0s - loss: 0.6936 - accuracy: 0.5025\n",
            "Epoch 10: val_loss did not improve from 0.69309\n",
            "383/383 [==============================] - 1s 3ms/step - loss: 0.6936 - accuracy: 0.5022 - val_loss: 0.6933 - val_accuracy: 0.4979\n",
            "Epoch 11/100\n",
            "377/383 [============================>.] - ETA: 0s - loss: 0.6933 - accuracy: 0.5042\n",
            "Epoch 11: val_loss did not improve from 0.69309\n",
            "383/383 [==============================] - 1s 3ms/step - loss: 0.6933 - accuracy: 0.5042 - val_loss: 0.6934 - val_accuracy: 0.4966\n",
            "Epoch 12/100\n",
            "375/383 [============================>.] - ETA: 0s - loss: 0.6933 - accuracy: 0.5021\n",
            "Epoch 12: val_loss did not improve from 0.69309\n",
            "383/383 [==============================] - 1s 3ms/step - loss: 0.6933 - accuracy: 0.5028 - val_loss: 0.6932 - val_accuracy: 0.5001\n",
            "Epoch 13/100\n",
            "377/383 [============================>.] - ETA: 0s - loss: 0.6931 - accuracy: 0.5024\n",
            "Epoch 13: val_loss did not improve from 0.69309\n",
            "383/383 [==============================] - 1s 3ms/step - loss: 0.6932 - accuracy: 0.5019 - val_loss: 0.6933 - val_accuracy: 0.4984\n",
            "Epoch 14/100\n",
            "376/383 [============================>.] - ETA: 0s - loss: 0.6932 - accuracy: 0.5027Restoring model weights from the end of the best epoch: 4.\n",
            "\n",
            "Epoch 14: val_loss did not improve from 0.69309\n",
            "383/383 [==============================] - 1s 3ms/step - loss: 0.6932 - accuracy: 0.5025 - val_loss: 0.6933 - val_accuracy: 0.4990\n",
            "Epoch 14: early stopping\n"
          ]
        }
      ],
      "source": [
        "# Train the model\n",
        "history = model.fit(X_train, y_train, epochs=100, batch_size=128, validation_split=0.3, callbacks=[early_stopping, checkpoint],\n",
        "                    verbose=1)"
      ]
    },
    {
      "cell_type": "markdown",
      "id": "fe2c0da8",
      "metadata": {
        "id": "fe2c0da8"
      },
      "source": [
        "### `Architecture V`"
      ]
    },
    {
      "cell_type": "code",
      "execution_count": null,
      "id": "4099a888",
      "metadata": {
        "id": "4099a888"
      },
      "outputs": [],
      "source": [
        "# Build the neural network\n",
        "model = Sequential([\n",
        "    Dense(64, activation = 'relu', input_dim = 4),\n",
        "    Dropout(0.5),\n",
        "    Dense(32, activation='relu'),\n",
        "    Dropout(0.5),\n",
        "    Dense(1, activation='sigmoid')\n",
        "])\n",
        "\n",
        "# Compile the model\n",
        "model.compile(optimizer=Adam(), loss='binary_crossentropy', metrics=['accuracy'])"
      ]
    },
    {
      "cell_type": "code",
      "execution_count": null,
      "id": "f8f20a8b",
      "metadata": {
        "id": "f8f20a8b",
        "outputId": "bc2c71e1-ea96-4efd-8761-131f83389e13"
      },
      "outputs": [
        {
          "name": "stdout",
          "output_type": "stream",
          "text": [
            "Epoch 1/100\n",
            "427/438 [============================>.] - ETA: 0s - loss: 0.6953 - accuracy: 0.5012\n",
            "Epoch 1: val_loss did not improve from 0.69309\n",
            "438/438 [==============================] - 2s 3ms/step - loss: 0.6952 - accuracy: 0.5012 - val_loss: 0.6932 - val_accuracy: 0.4995\n",
            "Epoch 2/100\n",
            "433/438 [============================>.] - ETA: 0s - loss: 0.6936 - accuracy: 0.4992\n",
            "Epoch 2: val_loss did not improve from 0.69309\n",
            "438/438 [==============================] - 1s 3ms/step - loss: 0.6936 - accuracy: 0.4996 - val_loss: 0.6932 - val_accuracy: 0.4988\n",
            "Epoch 3/100\n",
            "417/438 [===========================>..] - ETA: 0s - loss: 0.6933 - accuracy: 0.5024\n",
            "Epoch 3: val_loss did not improve from 0.69309\n",
            "438/438 [==============================] - 1s 2ms/step - loss: 0.6933 - accuracy: 0.5017 - val_loss: 0.6932 - val_accuracy: 0.4964\n",
            "Epoch 4/100\n",
            "419/438 [===========================>..] - ETA: 0s - loss: 0.6934 - accuracy: 0.4980\n",
            "Epoch 4: val_loss did not improve from 0.69309\n",
            "438/438 [==============================] - 1s 2ms/step - loss: 0.6934 - accuracy: 0.4979 - val_loss: 0.6932 - val_accuracy: 0.4957\n",
            "Epoch 5/100\n",
            "436/438 [============================>.] - ETA: 0s - loss: 0.6932 - accuracy: 0.5006\n",
            "Epoch 5: val_loss did not improve from 0.69309\n",
            "438/438 [==============================] - 1s 2ms/step - loss: 0.6932 - accuracy: 0.5006 - val_loss: 0.6932 - val_accuracy: 0.4979\n",
            "Epoch 6/100\n",
            "429/438 [============================>.] - ETA: 0s - loss: 0.6932 - accuracy: 0.5015\n",
            "Epoch 6: val_loss did not improve from 0.69309\n",
            "438/438 [==============================] - 1s 3ms/step - loss: 0.6932 - accuracy: 0.5014 - val_loss: 0.6932 - val_accuracy: 0.4956\n",
            "Epoch 7/100\n",
            "420/438 [===========================>..] - ETA: 0s - loss: 0.6932 - accuracy: 0.5014\n",
            "Epoch 7: val_loss did not improve from 0.69309\n",
            "438/438 [==============================] - 1s 2ms/step - loss: 0.6932 - accuracy: 0.5013 - val_loss: 0.6932 - val_accuracy: 0.4958\n",
            "Epoch 8/100\n",
            "436/438 [============================>.] - ETA: 0s - loss: 0.6932 - accuracy: 0.5032\n",
            "Epoch 8: val_loss did not improve from 0.69309\n",
            "438/438 [==============================] - 1s 3ms/step - loss: 0.6932 - accuracy: 0.5031 - val_loss: 0.6931 - val_accuracy: 0.5047\n",
            "Epoch 9/100\n",
            "416/438 [===========================>..] - ETA: 0s - loss: 0.6932 - accuracy: 0.4978\n",
            "Epoch 9: val_loss did not improve from 0.69309\n",
            "438/438 [==============================] - 1s 2ms/step - loss: 0.6932 - accuracy: 0.4984 - val_loss: 0.6932 - val_accuracy: 0.4975\n",
            "Epoch 10/100\n",
            "436/438 [============================>.] - ETA: 0s - loss: 0.6932 - accuracy: 0.5036\n",
            "Epoch 10: val_loss did not improve from 0.69309\n",
            "438/438 [==============================] - 1s 3ms/step - loss: 0.6932 - accuracy: 0.5035 - val_loss: 0.6932 - val_accuracy: 0.4919\n",
            "Epoch 11/100\n",
            "417/438 [===========================>..] - ETA: 0s - loss: 0.6932 - accuracy: 0.5006Restoring model weights from the end of the best epoch: 1.\n",
            "\n",
            "Epoch 11: val_loss did not improve from 0.69309\n",
            "438/438 [==============================] - 1s 3ms/step - loss: 0.6932 - accuracy: 0.5009 - val_loss: 0.6932 - val_accuracy: 0.4954\n",
            "Epoch 11: early stopping\n"
          ]
        }
      ],
      "source": [
        "# Train the model\n",
        "history = model.fit(X_train, y_train, epochs=100, batch_size=128, validation_split=0.2, callbacks=[early_stopping, checkpoint],\n",
        "                    verbose=1)"
      ]
    },
    {
      "cell_type": "markdown",
      "id": "0a931ea6",
      "metadata": {
        "id": "0a931ea6"
      },
      "source": [
        "* **I have tried multiple ANN architectures, but none of them have provided good results.**"
      ]
    },
    {
      "cell_type": "markdown",
      "id": "a86a95d2",
      "metadata": {
        "id": "a86a95d2"
      },
      "source": [
        "## `Ensembles of Random Forest`"
      ]
    },
    {
      "cell_type": "code",
      "execution_count": null,
      "id": "1d7fb4d9",
      "metadata": {
        "id": "1d7fb4d9",
        "outputId": "0ab2eb8d-14be-4f42-efb1-ad20c3f9c7d8"
      },
      "outputs": [
        {
          "name": "stdout",
          "output_type": "stream",
          "text": [
            "Training Data Results:\n"
          ]
        },
        {
          "data": {
            "text/html": [
              "<div>\n",
              "<style scoped>\n",
              "    .dataframe tbody tr th:only-of-type {\n",
              "        vertical-align: middle;\n",
              "    }\n",
              "\n",
              "    .dataframe tbody tr th {\n",
              "        vertical-align: top;\n",
              "    }\n",
              "\n",
              "    .dataframe thead th {\n",
              "        text-align: right;\n",
              "    }\n",
              "</style>\n",
              "<table border=\"1\" class=\"dataframe\">\n",
              "  <thead>\n",
              "    <tr style=\"text-align: right;\">\n",
              "      <th></th>\n",
              "      <th>Accuracy</th>\n",
              "      <th>Precision</th>\n",
              "      <th>Recall</th>\n",
              "      <th>F1 Score</th>\n",
              "      <th>Building Time</th>\n",
              "    </tr>\n",
              "  </thead>\n",
              "  <tbody>\n",
              "    <tr>\n",
              "      <th>AdaBoost</th>\n",
              "      <td>1.000000</td>\n",
              "      <td>1.000000</td>\n",
              "      <td>1.000000</td>\n",
              "      <td>1.000000</td>\n",
              "      <td>18.420235</td>\n",
              "    </tr>\n",
              "    <tr>\n",
              "      <th>Gradient Boosting</th>\n",
              "      <td>0.530471</td>\n",
              "      <td>0.530660</td>\n",
              "      <td>0.530471</td>\n",
              "      <td>0.529365</td>\n",
              "      <td>2.834267</td>\n",
              "    </tr>\n",
              "    <tr>\n",
              "      <th>XGBoost</th>\n",
              "      <td>0.616929</td>\n",
              "      <td>0.616943</td>\n",
              "      <td>0.616929</td>\n",
              "      <td>0.616902</td>\n",
              "      <td>0.923865</td>\n",
              "    </tr>\n",
              "  </tbody>\n",
              "</table>\n",
              "</div>"
            ],
            "text/plain": [
              "                   Accuracy  Precision    Recall  F1 Score  Building Time\n",
              "AdaBoost           1.000000   1.000000  1.000000  1.000000      18.420235\n",
              "Gradient Boosting  0.530471   0.530660  0.530471  0.529365       2.834267\n",
              "XGBoost            0.616929   0.616943  0.616929  0.616902       0.923865"
            ]
          },
          "execution_count": 63,
          "metadata": {},
          "output_type": "execute_result"
        }
      ],
      "source": [
        "# Initialize base estimator (Random Forest)\n",
        "base_estimator = RandomForestClassifier(n_estimators=100, random_state=42)\n",
        "\n",
        "# Initialize models\n",
        "adaboost_model = AdaBoostClassifier(base_estimator=base_estimator, n_estimators=50, random_state=42)\n",
        "gradient_boost_model = GradientBoostingClassifier(n_estimators=50, random_state=42)\n",
        "xgboost_model = XGBClassifier(n_estimators=50, random_state=42)\n",
        "\n",
        "# Initialize lists to store metrics\n",
        "models = ['AdaBoost', 'Gradient Boosting', 'XGBoost']\n",
        "metrics = ['Accuracy', 'Precision', 'Recall', 'F1 Score', 'Building Time']\n",
        "results_train = {metric: [] for metric in metrics}\n",
        "results_test = {metric: [] for metric in metrics}\n",
        "\n",
        "# Train and evaluate models\n",
        "for model in [adaboost_model, gradient_boost_model, xgboost_model]:\n",
        "    start_time = time.time()\n",
        "    model.fit(X_train, y_train)\n",
        "    end_time = time.time()\n",
        "\n",
        "    # Predict on the training set\n",
        "    y_train_pred = model.predict(X_train)\n",
        "\n",
        "    # Calculate metrics on training data\n",
        "    accuracy_train = accuracy_score(y_train, y_train_pred)\n",
        "    precision_train = precision_score(y_train, y_train_pred, average='weighted')\n",
        "    recall_train = recall_score(y_train, y_train_pred, average='weighted')\n",
        "    f1_train = f1_score(y_train, y_train_pred, average='weighted')\n",
        "    building_time = end_time - start_time\n",
        "\n",
        "    # Predict on the test set\n",
        "    y_test_pred = model.predict(X_test)\n",
        "\n",
        "    # Calculate metrics on test data\n",
        "    accuracy_test = accuracy_score(y_test, y_test_pred)\n",
        "    precision_test = precision_score(y_test, y_test_pred, average='weighted')\n",
        "    recall_test = recall_score(y_test, y_test_pred, average='weighted')\n",
        "    f1_test = f1_score(y_test, y_test_pred, average='weighted')\n",
        "\n",
        "    # Append metrics to the results dictionaries\n",
        "    results_train['Accuracy'].append(accuracy_train)\n",
        "    results_train['Precision'].append(precision_train)\n",
        "    results_train['Recall'].append(recall_train)\n",
        "    results_train['F1 Score'].append(f1_train)\n",
        "    results_train['Building Time'].append(building_time)\n",
        "\n",
        "    results_test['Accuracy'].append(accuracy_test)\n",
        "    results_test['Precision'].append(precision_test)\n",
        "    results_test['Recall'].append(recall_test)\n",
        "    results_test['F1 Score'].append(f1_test)\n",
        "    results_test['Building Time'].append(building_time)\n",
        "\n",
        "# Create DataFrames from the results\n",
        "results_train_df = pd.DataFrame(results_train, index=models)\n",
        "results_test_df = pd.DataFrame(results_test, index=models)\n",
        "\n",
        "# Display the DataFrames\n",
        "print(\"Training Data Results:\")\n",
        "results_train_df"
      ]
    },
    {
      "cell_type": "code",
      "execution_count": null,
      "id": "db7b3d7e",
      "metadata": {
        "id": "db7b3d7e",
        "outputId": "fbc4dda2-202e-4496-dc67-51bc8bb521d0"
      },
      "outputs": [
        {
          "name": "stdout",
          "output_type": "stream",
          "text": [
            "\n",
            "Test Data Results:\n"
          ]
        },
        {
          "data": {
            "text/html": [
              "<div>\n",
              "<style scoped>\n",
              "    .dataframe tbody tr th:only-of-type {\n",
              "        vertical-align: middle;\n",
              "    }\n",
              "\n",
              "    .dataframe tbody tr th {\n",
              "        vertical-align: top;\n",
              "    }\n",
              "\n",
              "    .dataframe thead th {\n",
              "        text-align: right;\n",
              "    }\n",
              "</style>\n",
              "<table border=\"1\" class=\"dataframe\">\n",
              "  <thead>\n",
              "    <tr style=\"text-align: right;\">\n",
              "      <th></th>\n",
              "      <th>Accuracy</th>\n",
              "      <th>Precision</th>\n",
              "      <th>Recall</th>\n",
              "      <th>F1 Score</th>\n",
              "      <th>Building Time</th>\n",
              "    </tr>\n",
              "  </thead>\n",
              "  <tbody>\n",
              "    <tr>\n",
              "      <th>AdaBoost</th>\n",
              "      <td>0.502333</td>\n",
              "      <td>0.502113</td>\n",
              "      <td>0.502333</td>\n",
              "      <td>0.501976</td>\n",
              "      <td>18.420235</td>\n",
              "    </tr>\n",
              "    <tr>\n",
              "      <th>Gradient Boosting</th>\n",
              "      <td>0.500767</td>\n",
              "      <td>0.500344</td>\n",
              "      <td>0.500767</td>\n",
              "      <td>0.499672</td>\n",
              "      <td>2.834267</td>\n",
              "    </tr>\n",
              "    <tr>\n",
              "      <th>XGBoost</th>\n",
              "      <td>0.497900</td>\n",
              "      <td>0.497872</td>\n",
              "      <td>0.497900</td>\n",
              "      <td>0.497882</td>\n",
              "      <td>0.923865</td>\n",
              "    </tr>\n",
              "  </tbody>\n",
              "</table>\n",
              "</div>"
            ],
            "text/plain": [
              "                   Accuracy  Precision    Recall  F1 Score  Building Time\n",
              "AdaBoost           0.502333   0.502113  0.502333  0.501976      18.420235\n",
              "Gradient Boosting  0.500767   0.500344  0.500767  0.499672       2.834267\n",
              "XGBoost            0.497900   0.497872  0.497900  0.497882       0.923865"
            ]
          },
          "execution_count": 64,
          "metadata": {},
          "output_type": "execute_result"
        }
      ],
      "source": [
        "print(\"\\nTest Data Results:\")\n",
        "results_test_df"
      ]
    },
    {
      "cell_type": "markdown",
      "id": "667932e4",
      "metadata": {
        "id": "667932e4"
      },
      "source": [
        "* **The performance of ensembles can vary, but they are usually not much better than individual algorithms.**\n",
        "\n",
        "\n",
        "* **None of the ensembles provided the desired results. So, I decided to trial and error using a different approach.**"
      ]
    },
    {
      "cell_type": "markdown",
      "id": "2d764cee",
      "metadata": {
        "id": "2d764cee"
      },
      "source": [
        "# `Model Building: PCA`"
      ]
    },
    {
      "cell_type": "code",
      "execution_count": null,
      "id": "94366989",
      "metadata": {
        "id": "94366989"
      },
      "outputs": [],
      "source": [
        "df_cleaned = pd.get_dummies(df_cleaned, columns=['Gender', 'Location'], drop_first = True)"
      ]
    },
    {
      "cell_type": "code",
      "execution_count": null,
      "id": "b7040da2",
      "metadata": {
        "id": "b7040da2"
      },
      "outputs": [],
      "source": [
        "x = df_cleaned.drop('Churn', axis=1)\n",
        "y = df_cleaned['Churn']"
      ]
    },
    {
      "cell_type": "code",
      "execution_count": null,
      "id": "c08cf20c",
      "metadata": {
        "id": "c08cf20c"
      },
      "outputs": [],
      "source": [
        "X_train, X_test, y_train, y_test = train_test_split(x, y, test_size=0.3, random_state=42)"
      ]
    },
    {
      "cell_type": "code",
      "execution_count": null,
      "id": "1369be14",
      "metadata": {
        "id": "1369be14"
      },
      "outputs": [],
      "source": [
        "from sklearn.preprocessing import StandardScaler\n",
        "\n",
        "scaler = StandardScaler()\n",
        "\n",
        "X_train = scaler.fit_transform(X_train)\n",
        "\n",
        "X_test = scaler.transform(X_test)"
      ]
    },
    {
      "cell_type": "code",
      "execution_count": null,
      "id": "16d2a470",
      "metadata": {
        "id": "16d2a470"
      },
      "outputs": [],
      "source": [
        "# Convert scaled numpy arrays back to DataFrames\n",
        "\n",
        "X_train = pd.DataFrame(X_train)\n",
        "\n",
        "X_test = pd.DataFrame(X_test)"
      ]
    },
    {
      "cell_type": "code",
      "execution_count": null,
      "id": "16766486",
      "metadata": {
        "id": "16766486",
        "outputId": "8fd384a1-cff1-4455-f045-bb89b053e25f"
      },
      "outputs": [
        {
          "data": {
            "text/html": [
              "<div>\n",
              "<style scoped>\n",
              "    .dataframe tbody tr th:only-of-type {\n",
              "        vertical-align: middle;\n",
              "    }\n",
              "\n",
              "    .dataframe tbody tr th {\n",
              "        vertical-align: top;\n",
              "    }\n",
              "\n",
              "    .dataframe thead th {\n",
              "        text-align: right;\n",
              "    }\n",
              "</style>\n",
              "<table border=\"1\" class=\"dataframe\">\n",
              "  <thead>\n",
              "    <tr style=\"text-align: right;\">\n",
              "      <th></th>\n",
              "      <th>0</th>\n",
              "      <th>1</th>\n",
              "      <th>2</th>\n",
              "      <th>3</th>\n",
              "      <th>4</th>\n",
              "      <th>5</th>\n",
              "      <th>6</th>\n",
              "      <th>7</th>\n",
              "      <th>8</th>\n",
              "    </tr>\n",
              "  </thead>\n",
              "  <tbody>\n",
              "    <tr>\n",
              "      <th>0</th>\n",
              "      <td>-1.243589</td>\n",
              "      <td>0.074501</td>\n",
              "      <td>1.632642</td>\n",
              "      <td>1.481066</td>\n",
              "      <td>1.005731</td>\n",
              "      <td>-0.502610</td>\n",
              "      <td>1.998751</td>\n",
              "      <td>-0.502499</td>\n",
              "      <td>-0.498169</td>\n",
              "    </tr>\n",
              "    <tr>\n",
              "      <th>1</th>\n",
              "      <td>0.654284</td>\n",
              "      <td>-1.515230</td>\n",
              "      <td>0.336478</td>\n",
              "      <td>0.829765</td>\n",
              "      <td>-0.994302</td>\n",
              "      <td>1.989613</td>\n",
              "      <td>-0.500312</td>\n",
              "      <td>-0.502499</td>\n",
              "      <td>-0.498169</td>\n",
              "    </tr>\n",
              "    <tr>\n",
              "      <th>2</th>\n",
              "      <td>-0.785482</td>\n",
              "      <td>1.086147</td>\n",
              "      <td>0.027632</td>\n",
              "      <td>1.166909</td>\n",
              "      <td>1.005731</td>\n",
              "      <td>-0.502610</td>\n",
              "      <td>-0.500312</td>\n",
              "      <td>-0.502499</td>\n",
              "      <td>-0.498169</td>\n",
              "    </tr>\n",
              "    <tr>\n",
              "      <th>3</th>\n",
              "      <td>1.112391</td>\n",
              "      <td>-0.070020</td>\n",
              "      <td>0.894871</td>\n",
              "      <td>-1.614532</td>\n",
              "      <td>-0.994302</td>\n",
              "      <td>1.989613</td>\n",
              "      <td>-0.500312</td>\n",
              "      <td>-0.502499</td>\n",
              "      <td>-0.498169</td>\n",
              "    </tr>\n",
              "    <tr>\n",
              "      <th>4</th>\n",
              "      <td>1.701386</td>\n",
              "      <td>-1.081667</td>\n",
              "      <td>-1.144499</td>\n",
              "      <td>-1.346349</td>\n",
              "      <td>-0.994302</td>\n",
              "      <td>-0.502610</td>\n",
              "      <td>-0.500312</td>\n",
              "      <td>-0.502499</td>\n",
              "      <td>2.007351</td>\n",
              "    </tr>\n",
              "  </tbody>\n",
              "</table>\n",
              "</div>"
            ],
            "text/plain": [
              "          0         1         2         3         4         5         6  \\\n",
              "0 -1.243589  0.074501  1.632642  1.481066  1.005731 -0.502610  1.998751   \n",
              "1  0.654284 -1.515230  0.336478  0.829765 -0.994302  1.989613 -0.500312   \n",
              "2 -0.785482  1.086147  0.027632  1.166909  1.005731 -0.502610 -0.500312   \n",
              "3  1.112391 -0.070020  0.894871 -1.614532 -0.994302  1.989613 -0.500312   \n",
              "4  1.701386 -1.081667 -1.144499 -1.346349 -0.994302 -0.502610 -0.500312   \n",
              "\n",
              "          7         8  \n",
              "0 -0.502499 -0.498169  \n",
              "1 -0.502499 -0.498169  \n",
              "2 -0.502499 -0.498169  \n",
              "3 -0.502499 -0.498169  \n",
              "4 -0.502499  2.007351  "
            ]
          },
          "execution_count": 70,
          "metadata": {},
          "output_type": "execute_result"
        }
      ],
      "source": [
        "X_train.head()"
      ]
    },
    {
      "cell_type": "code",
      "execution_count": null,
      "id": "b4452a34",
      "metadata": {
        "id": "b4452a34",
        "outputId": "d7188e95-5099-479b-e4e5-9ad0b937f99a"
      },
      "outputs": [
        {
          "data": {
            "text/html": [
              "<div>\n",
              "<style scoped>\n",
              "    .dataframe tbody tr th:only-of-type {\n",
              "        vertical-align: middle;\n",
              "    }\n",
              "\n",
              "    .dataframe tbody tr th {\n",
              "        vertical-align: top;\n",
              "    }\n",
              "\n",
              "    .dataframe thead th {\n",
              "        text-align: right;\n",
              "    }\n",
              "</style>\n",
              "<table border=\"1\" class=\"dataframe\">\n",
              "  <thead>\n",
              "    <tr style=\"text-align: right;\">\n",
              "      <th></th>\n",
              "      <th>0</th>\n",
              "      <th>1</th>\n",
              "      <th>2</th>\n",
              "      <th>3</th>\n",
              "      <th>4</th>\n",
              "      <th>5</th>\n",
              "      <th>6</th>\n",
              "      <th>7</th>\n",
              "      <th>8</th>\n",
              "    </tr>\n",
              "  </thead>\n",
              "  <tbody>\n",
              "    <tr>\n",
              "      <th>0</th>\n",
              "      <td>0.261620</td>\n",
              "      <td>-0.214541</td>\n",
              "      <td>1.155784</td>\n",
              "      <td>1.664963</td>\n",
              "      <td>-0.994302</td>\n",
              "      <td>1.989613</td>\n",
              "      <td>-0.500312</td>\n",
              "      <td>-0.502499</td>\n",
              "      <td>-0.498169</td>\n",
              "    </tr>\n",
              "    <tr>\n",
              "      <th>1</th>\n",
              "      <td>0.327064</td>\n",
              "      <td>0.074501</td>\n",
              "      <td>-1.209728</td>\n",
              "      <td>1.136259</td>\n",
              "      <td>1.005731</td>\n",
              "      <td>-0.502610</td>\n",
              "      <td>-0.500312</td>\n",
              "      <td>-0.502499</td>\n",
              "      <td>2.007351</td>\n",
              "    </tr>\n",
              "    <tr>\n",
              "      <th>2</th>\n",
              "      <td>-0.850926</td>\n",
              "      <td>-1.081667</td>\n",
              "      <td>-1.585284</td>\n",
              "      <td>0.009891</td>\n",
              "      <td>-0.994302</td>\n",
              "      <td>-0.502610</td>\n",
              "      <td>1.998751</td>\n",
              "      <td>-0.502499</td>\n",
              "      <td>-0.498169</td>\n",
              "    </tr>\n",
              "    <tr>\n",
              "      <th>3</th>\n",
              "      <td>0.588840</td>\n",
              "      <td>-1.226188</td>\n",
              "      <td>1.461171</td>\n",
              "      <td>0.492620</td>\n",
              "      <td>1.005731</td>\n",
              "      <td>-0.502610</td>\n",
              "      <td>-0.500312</td>\n",
              "      <td>-0.502499</td>\n",
              "      <td>2.007351</td>\n",
              "    </tr>\n",
              "    <tr>\n",
              "      <th>4</th>\n",
              "      <td>-1.374477</td>\n",
              "      <td>1.664231</td>\n",
              "      <td>0.845950</td>\n",
              "      <td>0.224437</td>\n",
              "      <td>-0.994302</td>\n",
              "      <td>-0.502610</td>\n",
              "      <td>1.998751</td>\n",
              "      <td>-0.502499</td>\n",
              "      <td>-0.498169</td>\n",
              "    </tr>\n",
              "  </tbody>\n",
              "</table>\n",
              "</div>"
            ],
            "text/plain": [
              "          0         1         2         3         4         5         6  \\\n",
              "0  0.261620 -0.214541  1.155784  1.664963 -0.994302  1.989613 -0.500312   \n",
              "1  0.327064  0.074501 -1.209728  1.136259  1.005731 -0.502610 -0.500312   \n",
              "2 -0.850926 -1.081667 -1.585284  0.009891 -0.994302 -0.502610  1.998751   \n",
              "3  0.588840 -1.226188  1.461171  0.492620  1.005731 -0.502610 -0.500312   \n",
              "4 -1.374477  1.664231  0.845950  0.224437 -0.994302 -0.502610  1.998751   \n",
              "\n",
              "          7         8  \n",
              "0 -0.502499 -0.498169  \n",
              "1 -0.502499  2.007351  \n",
              "2 -0.502499 -0.498169  \n",
              "3 -0.502499  2.007351  \n",
              "4 -0.502499 -0.498169  "
            ]
          },
          "execution_count": 71,
          "metadata": {},
          "output_type": "execute_result"
        }
      ],
      "source": [
        "X_test.head()"
      ]
    },
    {
      "cell_type": "code",
      "execution_count": null,
      "id": "ef9075d2",
      "metadata": {
        "id": "ef9075d2"
      },
      "outputs": [],
      "source": [
        "from sklearn.decomposition import PCA\n",
        "\n",
        "pca = PCA()\n",
        "\n",
        "X_train_pca = pca.fit_transform(X_train)"
      ]
    },
    {
      "cell_type": "code",
      "execution_count": null,
      "id": "f85ebff6",
      "metadata": {
        "id": "f85ebff6",
        "outputId": "f77b731a-5b94-4469-e5d7-bde3c925c863"
      },
      "outputs": [
        {
          "data": {
            "text/plain": [
              "(70000, 9)"
            ]
          },
          "execution_count": 73,
          "metadata": {},
          "output_type": "execute_result"
        }
      ],
      "source": [
        "X_train_pca.shape"
      ]
    },
    {
      "cell_type": "code",
      "execution_count": null,
      "id": "11681537",
      "metadata": {
        "id": "11681537",
        "outputId": "95d29fc4-2123-4e93-c77f-79bb14f0cb0c"
      },
      "outputs": [
        {
          "data": {
            "image/png": "[encoded data removed]",
            "text/plain": [
              "<Figure size 1000x600 with 1 Axes>"
            ]
          },
          "metadata": {},
          "output_type": "display_data"
        }
      ],
      "source": [
        "# Calculate the explained variance ratio\n",
        "explained_variance_ratio = pca.explained_variance_ratio_\n",
        "\n",
        "# Calculate the cumulative explained variance ratio\n",
        "cumulative_variance_ratio = np.cumsum(explained_variance_ratio)\n",
        "\n",
        "# Plot the scree plot\n",
        "plt.figure(figsize=(10, 6))\n",
        "plt.plot(range(1, len(cumulative_variance_ratio) + 1), cumulative_variance_ratio, marker='o')\n",
        "plt.title('Scree Plot')\n",
        "plt.xlabel('Number of Principal Components')\n",
        "plt.ylabel('Cumulative Explained Variance Ratio')\n",
        "plt.grid()\n",
        "plt.show()"
      ]
    },
    {
      "cell_type": "markdown",
      "id": "1c3cfb5a",
      "metadata": {
        "id": "1c3cfb5a"
      },
      "source": [
        "**8 out of 9 principal components (PCs) capture approximately 98% of the variance of the data. Therefore, I will select 8 PCs for further analysis.**"
      ]
    },
    {
      "cell_type": "code",
      "execution_count": null,
      "id": "fad67fa8",
      "metadata": {
        "id": "fad67fa8"
      },
      "outputs": [],
      "source": [
        "pca = PCA(n_components=8)  # Select 8 principal components\n",
        "\n",
        "X_train_pca = pca.fit_transform(X_train)\n",
        "X_test_pca = pca.transform(X_test)"
      ]
    },
    {
      "cell_type": "code",
      "execution_count": null,
      "id": "20bae1ae",
      "metadata": {
        "id": "20bae1ae",
        "outputId": "7c20cefc-7489-496c-fef4-d2c1c6c81e7a"
      },
      "outputs": [
        {
          "data": {
            "text/plain": [
              "((70000, 8), (30000, 8))"
            ]
          },
          "execution_count": 76,
          "metadata": {},
          "output_type": "execute_result"
        }
      ],
      "source": [
        "X_train_pca.shape, X_test_pca.shape"
      ]
    },
    {
      "cell_type": "code",
      "execution_count": null,
      "id": "16cbbe8c",
      "metadata": {
        "id": "16cbbe8c",
        "outputId": "a9c55641-c5b1-4dca-dda6-59808924817f"
      },
      "outputs": [
        {
          "name": "stderr",
          "output_type": "stream",
          "text": [
            "C:\\Users\\HP\\Anaconda3\\lib\\site-packages\\sklearn\\neighbors\\_classification.py:228: FutureWarning: Unlike other reduction functions (e.g. `skew`, `kurtosis`), the default behavior of `mode` typically preserves the axis it acts along. In SciPy 1.11.0, this behavior will change: the default value of `keepdims` will become False, the `axis` over which the statistic is taken will be eliminated, and the value None will no longer be accepted. Set `keepdims` to True or False to avoid this warning.\n",
            "  mode, _ = stats.mode(_y[neigh_ind, k], axis=1)\n"
          ]
        },
        {
          "data": {
            "text/html": [
              "<div>\n",
              "<style scoped>\n",
              "    .dataframe tbody tr th:only-of-type {\n",
              "        vertical-align: middle;\n",
              "    }\n",
              "\n",
              "    .dataframe tbody tr th {\n",
              "        vertical-align: top;\n",
              "    }\n",
              "\n",
              "    .dataframe thead th {\n",
              "        text-align: right;\n",
              "    }\n",
              "</style>\n",
              "<table border=\"1\" class=\"dataframe\">\n",
              "  <thead>\n",
              "    <tr style=\"text-align: right;\">\n",
              "      <th></th>\n",
              "      <th>Algorithm</th>\n",
              "      <th>Accuracy</th>\n",
              "      <th>Precision</th>\n",
              "      <th>Recall</th>\n",
              "      <th>F1-score</th>\n",
              "      <th>Building Time (s)</th>\n",
              "    </tr>\n",
              "  </thead>\n",
              "  <tbody>\n",
              "    <tr>\n",
              "      <th>0</th>\n",
              "      <td>LogisticRegression</td>\n",
              "      <td>0.504100</td>\n",
              "      <td>0.504041</td>\n",
              "      <td>0.504100</td>\n",
              "      <td>0.502468</td>\n",
              "      <td>8.944818</td>\n",
              "    </tr>\n",
              "    <tr>\n",
              "      <th>1</th>\n",
              "      <td>DecisionTreeClassifier</td>\n",
              "      <td>1.000000</td>\n",
              "      <td>1.000000</td>\n",
              "      <td>1.000000</td>\n",
              "      <td>1.000000</td>\n",
              "      <td>3.820117</td>\n",
              "    </tr>\n",
              "    <tr>\n",
              "      <th>2</th>\n",
              "      <td>KNeighborsClassifier</td>\n",
              "      <td>0.688157</td>\n",
              "      <td>0.688157</td>\n",
              "      <td>0.688157</td>\n",
              "      <td>0.688157</td>\n",
              "      <td>2.678202</td>\n",
              "    </tr>\n",
              "    <tr>\n",
              "      <th>3</th>\n",
              "      <td>GaussianNB</td>\n",
              "      <td>0.505600</td>\n",
              "      <td>0.505607</td>\n",
              "      <td>0.505600</td>\n",
              "      <td>0.501428</td>\n",
              "      <td>0.109698</td>\n",
              "    </tr>\n",
              "    <tr>\n",
              "      <th>4</th>\n",
              "      <td>AdaBoostClassifier</td>\n",
              "      <td>0.517357</td>\n",
              "      <td>0.518133</td>\n",
              "      <td>0.517357</td>\n",
              "      <td>0.510504</td>\n",
              "      <td>5.871627</td>\n",
              "    </tr>\n",
              "    <tr>\n",
              "      <th>5</th>\n",
              "      <td>GradientBoostingClassifier</td>\n",
              "      <td>0.539629</td>\n",
              "      <td>0.540417</td>\n",
              "      <td>0.539629</td>\n",
              "      <td>0.536908</td>\n",
              "      <td>21.214955</td>\n",
              "    </tr>\n",
              "    <tr>\n",
              "      <th>6</th>\n",
              "      <td>RandomForestClassifier</td>\n",
              "      <td>1.000000</td>\n",
              "      <td>1.000000</td>\n",
              "      <td>1.000000</td>\n",
              "      <td>1.000000</td>\n",
              "      <td>13.480596</td>\n",
              "    </tr>\n",
              "    <tr>\n",
              "      <th>7</th>\n",
              "      <td>XGBClassifier</td>\n",
              "      <td>0.655871</td>\n",
              "      <td>0.656014</td>\n",
              "      <td>0.655871</td>\n",
              "      <td>0.655770</td>\n",
              "      <td>5.292027</td>\n",
              "    </tr>\n",
              "    <tr>\n",
              "      <th>8</th>\n",
              "      <td>SVC</td>\n",
              "      <td>0.522286</td>\n",
              "      <td>0.522553</td>\n",
              "      <td>0.522286</td>\n",
              "      <td>0.520140</td>\n",
              "      <td>882.968847</td>\n",
              "    </tr>\n",
              "  </tbody>\n",
              "</table>\n",
              "</div>"
            ],
            "text/plain": [
              "                    Algorithm  Accuracy  Precision    Recall  F1-score  \\\n",
              "0          LogisticRegression  0.504100   0.504041  0.504100  0.502468   \n",
              "1      DecisionTreeClassifier  1.000000   1.000000  1.000000  1.000000   \n",
              "2        KNeighborsClassifier  0.688157   0.688157  0.688157  0.688157   \n",
              "3                  GaussianNB  0.505600   0.505607  0.505600  0.501428   \n",
              "4          AdaBoostClassifier  0.517357   0.518133  0.517357  0.510504   \n",
              "5  GradientBoostingClassifier  0.539629   0.540417  0.539629  0.536908   \n",
              "6      RandomForestClassifier  1.000000   1.000000  1.000000  1.000000   \n",
              "7               XGBClassifier  0.655871   0.656014  0.655871  0.655770   \n",
              "8                         SVC  0.522286   0.522553  0.522286  0.520140   \n",
              "\n",
              "   Building Time (s)  \n",
              "0           8.944818  \n",
              "1           3.820117  \n",
              "2           2.678202  \n",
              "3           0.109698  \n",
              "4           5.871627  \n",
              "5          21.214955  \n",
              "6          13.480596  \n",
              "7           5.292027  \n",
              "8         882.968847  "
            ]
          },
          "execution_count": 77,
          "metadata": {},
          "output_type": "execute_result"
        }
      ],
      "source": [
        "algorithms = [\n",
        "    LogisticRegression(n_jobs=-1, random_state=42),\n",
        "    DecisionTreeClassifier(random_state=42),\n",
        "    KNeighborsClassifier(n_jobs=-1),\n",
        "    GaussianNB(),\n",
        "    AdaBoostClassifier(random_state=42),\n",
        "    GradientBoostingClassifier(random_state=42),\n",
        "    RandomForestClassifier(n_jobs=-1, random_state=42),\n",
        "    XGBClassifier(n_jobs=-1, random_state=42),\n",
        "    SVC(random_state=42)\n",
        "]\n",
        "\n",
        "# Initialize the results dictionary for training data\n",
        "results_train = {\n",
        "    'Algorithm': [],\n",
        "    'Accuracy': [],\n",
        "    'Precision': [],\n",
        "    'Recall': [],\n",
        "    'F1-score': [],\n",
        "    'Building Time (s)': []\n",
        "}\n",
        "\n",
        "# Apply the algorithms and calculate performance metrics for training data using X_train_pca\n",
        "for algorithm in algorithms:\n",
        "    start_time = time.time()  # Start timer\n",
        "\n",
        "    algorithm_name = type(algorithm).__name__\n",
        "    algorithm.fit(X_train_pca, y_train)\n",
        "    y_train_pred = algorithm.predict(X_train_pca)\n",
        "\n",
        "    accuracy = accuracy_score(y_train, y_train_pred)\n",
        "    precision = precision_score(y_train, y_train_pred, average='weighted')\n",
        "    recall = recall_score(y_train, y_train_pred, average='weighted')\n",
        "    f1 = f1_score(y_train, y_train_pred, average='weighted')\n",
        "\n",
        "    end_time = time.time()  # End timer\n",
        "    building_time = end_time - start_time\n",
        "\n",
        "    results_train['Algorithm'].append(algorithm_name)\n",
        "    results_train['Accuracy'].append(accuracy)\n",
        "    results_train['Precision'].append(precision)\n",
        "    results_train['Recall'].append(recall)\n",
        "    results_train['F1-score'].append(f1)\n",
        "    results_train['Building Time (s)'].append(building_time)\n",
        "\n",
        "# Create a DataFrame for the training data results\n",
        "df_train = pd.DataFrame(results_train)\n",
        "df_train"
      ]
    },
    {
      "cell_type": "code",
      "execution_count": null,
      "id": "651353c3",
      "metadata": {
        "id": "651353c3",
        "outputId": "df515956-1bc2-4086-f51e-75a346531c01"
      },
      "outputs": [
        {
          "name": "stderr",
          "output_type": "stream",
          "text": [
            "C:\\Users\\HP\\Anaconda3\\lib\\site-packages\\sklearn\\neighbors\\_classification.py:228: FutureWarning: Unlike other reduction functions (e.g. `skew`, `kurtosis`), the default behavior of `mode` typically preserves the axis it acts along. In SciPy 1.11.0, this behavior will change: the default value of `keepdims` will become False, the `axis` over which the statistic is taken will be eliminated, and the value None will no longer be accepted. Set `keepdims` to True or False to avoid this warning.\n",
            "  mode, _ = stats.mode(_y[neigh_ind, k], axis=1)\n"
          ]
        },
        {
          "data": {
            "text/html": [
              "<div>\n",
              "<style scoped>\n",
              "    .dataframe tbody tr th:only-of-type {\n",
              "        vertical-align: middle;\n",
              "    }\n",
              "\n",
              "    .dataframe tbody tr th {\n",
              "        vertical-align: top;\n",
              "    }\n",
              "\n",
              "    .dataframe thead th {\n",
              "        text-align: right;\n",
              "    }\n",
              "</style>\n",
              "<table border=\"1\" class=\"dataframe\">\n",
              "  <thead>\n",
              "    <tr style=\"text-align: right;\">\n",
              "      <th></th>\n",
              "      <th>Algorithm</th>\n",
              "      <th>Accuracy</th>\n",
              "      <th>Precision</th>\n",
              "      <th>Recall</th>\n",
              "      <th>F1-score</th>\n",
              "    </tr>\n",
              "  </thead>\n",
              "  <tbody>\n",
              "    <tr>\n",
              "      <th>0</th>\n",
              "      <td>LogisticRegression</td>\n",
              "      <td>0.503667</td>\n",
              "      <td>0.503184</td>\n",
              "      <td>0.503667</td>\n",
              "      <td>0.502102</td>\n",
              "    </tr>\n",
              "    <tr>\n",
              "      <th>1</th>\n",
              "      <td>DecisionTreeClassifier</td>\n",
              "      <td>0.495833</td>\n",
              "      <td>0.495833</td>\n",
              "      <td>0.495833</td>\n",
              "      <td>0.495833</td>\n",
              "    </tr>\n",
              "    <tr>\n",
              "      <th>2</th>\n",
              "      <td>KNeighborsClassifier</td>\n",
              "      <td>0.496733</td>\n",
              "      <td>0.496756</td>\n",
              "      <td>0.496733</td>\n",
              "      <td>0.496742</td>\n",
              "    </tr>\n",
              "    <tr>\n",
              "      <th>3</th>\n",
              "      <td>GaussianNB</td>\n",
              "      <td>0.503667</td>\n",
              "      <td>0.502901</td>\n",
              "      <td>0.503667</td>\n",
              "      <td>0.499713</td>\n",
              "    </tr>\n",
              "    <tr>\n",
              "      <th>4</th>\n",
              "      <td>AdaBoostClassifier</td>\n",
              "      <td>0.506067</td>\n",
              "      <td>0.505211</td>\n",
              "      <td>0.506067</td>\n",
              "      <td>0.499374</td>\n",
              "    </tr>\n",
              "    <tr>\n",
              "      <th>5</th>\n",
              "      <td>GradientBoostingClassifier</td>\n",
              "      <td>0.500200</td>\n",
              "      <td>0.499450</td>\n",
              "      <td>0.500200</td>\n",
              "      <td>0.497172</td>\n",
              "    </tr>\n",
              "    <tr>\n",
              "      <th>6</th>\n",
              "      <td>RandomForestClassifier</td>\n",
              "      <td>0.497533</td>\n",
              "      <td>0.497356</td>\n",
              "      <td>0.497533</td>\n",
              "      <td>0.497298</td>\n",
              "    </tr>\n",
              "    <tr>\n",
              "      <th>7</th>\n",
              "      <td>XGBClassifier</td>\n",
              "      <td>0.497900</td>\n",
              "      <td>0.497803</td>\n",
              "      <td>0.497900</td>\n",
              "      <td>0.497807</td>\n",
              "    </tr>\n",
              "    <tr>\n",
              "      <th>8</th>\n",
              "      <td>SVC</td>\n",
              "      <td>0.502667</td>\n",
              "      <td>0.502032</td>\n",
              "      <td>0.502667</td>\n",
              "      <td>0.500129</td>\n",
              "    </tr>\n",
              "  </tbody>\n",
              "</table>\n",
              "</div>"
            ],
            "text/plain": [
              "                    Algorithm  Accuracy  Precision    Recall  F1-score\n",
              "0          LogisticRegression  0.503667   0.503184  0.503667  0.502102\n",
              "1      DecisionTreeClassifier  0.495833   0.495833  0.495833  0.495833\n",
              "2        KNeighborsClassifier  0.496733   0.496756  0.496733  0.496742\n",
              "3                  GaussianNB  0.503667   0.502901  0.503667  0.499713\n",
              "4          AdaBoostClassifier  0.506067   0.505211  0.506067  0.499374\n",
              "5  GradientBoostingClassifier  0.500200   0.499450  0.500200  0.497172\n",
              "6      RandomForestClassifier  0.497533   0.497356  0.497533  0.497298\n",
              "7               XGBClassifier  0.497900   0.497803  0.497900  0.497807\n",
              "8                         SVC  0.502667   0.502032  0.502667  0.500129"
            ]
          },
          "execution_count": 78,
          "metadata": {},
          "output_type": "execute_result"
        }
      ],
      "source": [
        "results_test = {\n",
        "    'Algorithm': [],\n",
        "    'Accuracy': [],\n",
        "    'Precision': [],\n",
        "    'Recall': [],\n",
        "    'F1-score': []\n",
        "}\n",
        "\n",
        "# Apply the algorithms and calculate performance metrics for test data using X_test_pca\n",
        "for algorithm in algorithms:\n",
        "    algorithm_name = type(algorithm).__name__\n",
        "    y_test_pred = algorithm.predict(X_test_pca)\n",
        "\n",
        "    accuracy = accuracy_score(y_test, y_test_pred)\n",
        "    precision = precision_score(y_test, y_test_pred, average='weighted')\n",
        "    recall = recall_score(y_test, y_test_pred, average='weighted')\n",
        "    f1 = f1_score(y_test, y_test_pred, average='weighted')\n",
        "\n",
        "    results_test['Algorithm'].append(algorithm_name)\n",
        "    results_test['Accuracy'].append(accuracy)\n",
        "    results_test['Precision'].append(precision)\n",
        "    results_test['Recall'].append(recall)\n",
        "    results_test['F1-score'].append(f1)\n",
        "\n",
        "# Create a DataFrame for the test data results\n",
        "df_test = pd.DataFrame(results_test)\n",
        "df_test"
      ]
    },
    {
      "cell_type": "markdown",
      "id": "01aa5ff2",
      "metadata": {
        "id": "01aa5ff2"
      },
      "source": [
        "**There's no significant improvement in performance with PCA.**"
      ]
    },
    {
      "cell_type": "markdown",
      "id": "003e0238",
      "metadata": {
        "id": "003e0238"
      },
      "source": [
        "**`Final Model:` XGBClassifier is the best-performing algorithm on both the training and test data, using 9 variables, 4 variables, or PCA. It has the highest accuracy, precision, recall, and F1-score on all three. Therefore, I will build the final model using XGBoost Classifier using 9 variables.**"
      ]
    },
    {
      "cell_type": "markdown",
      "id": "551aff0a",
      "metadata": {
        "id": "551aff0a"
      },
      "source": [
        "# `Final Model: XGBoost Using 9 variables`"
      ]
    },
    {
      "cell_type": "code",
      "execution_count": null,
      "id": "017bf4e8",
      "metadata": {
        "id": "017bf4e8"
      },
      "outputs": [],
      "source": [
        "x = df_cleaned.drop(\"Churn\",axis=1)\n",
        "y = df_cleaned['Churn']"
      ]
    },
    {
      "cell_type": "code",
      "execution_count": null,
      "id": "1ad161be",
      "metadata": {
        "id": "1ad161be"
      },
      "outputs": [],
      "source": [
        "X_train, X_test, y_train, y_test = train_test_split(x, y, test_size=0.3, random_state=42)"
      ]
    },
    {
      "cell_type": "code",
      "execution_count": null,
      "id": "b636f4b1",
      "metadata": {
        "id": "b636f4b1",
        "outputId": "82629095-f7a1-41fb-f455-772300430483"
      },
      "outputs": [
        {
          "data": {
            "text/plain": [
              "((70000, 9), (30000, 9))"
            ]
          },
          "execution_count": 87,
          "metadata": {},
          "output_type": "execute_result"
        }
      ],
      "source": [
        "X_train.shape, X_test.shape"
      ]
    },
    {
      "cell_type": "code",
      "execution_count": null,
      "id": "5eeffc6d",
      "metadata": {
        "id": "5eeffc6d",
        "outputId": "a7f6c572-7aba-4c51-aae0-1cbd91c3e2e3"
      },
      "outputs": [
        {
          "data": {
            "text/plain": [
              "Index(['Age', 'Subscription_Length_Months', 'Monthly_Bill', 'Total_Usage_GB',\n",
              "       'Gender_Male', 'Location_Houston', 'Location_Los Angeles',\n",
              "       'Location_Miami', 'Location_New York'],\n",
              "      dtype='object')"
            ]
          },
          "execution_count": 88,
          "metadata": {},
          "output_type": "execute_result"
        }
      ],
      "source": [
        "X_train.columns"
      ]
    },
    {
      "cell_type": "code",
      "execution_count": null,
      "id": "7af7dc73",
      "metadata": {
        "id": "7af7dc73"
      },
      "outputs": [],
      "source": [
        "columns_to_scale = ['Age', 'Subscription_Length_Months', 'Monthly_Bill', 'Total_Usage_GB']\n",
        "\n",
        "scaler = MinMaxScaler()\n",
        "\n",
        "X_train[columns_to_scale] = scaler.fit_transform(X_train[columns_to_scale])\n",
        "\n",
        "X_test[columns_to_scale] = scaler.transform(X_test[columns_to_scale])"
      ]
    },
    {
      "cell_type": "code",
      "execution_count": null,
      "id": "bd3ce919",
      "metadata": {
        "id": "bd3ce919",
        "outputId": "cb8dba60-bb71-4bcc-a63a-32caee82e41d"
      },
      "outputs": [
        {
          "data": {
            "text/plain": [
              "XGBClassifier(base_score=None, booster=None, callbacks=None,\n",
              "              colsample_bylevel=None, colsample_bynode=None,\n",
              "              colsample_bytree=None, early_stopping_rounds=None,\n",
              "              enable_categorical=False, eval_metric=None, feature_types=None,\n",
              "              gamma=None, gpu_id=None, grow_policy=None, importance_type=None,\n",
              "              interaction_constraints=None, learning_rate=None, max_bin=None,\n",
              "              max_cat_threshold=None, max_cat_to_onehot=None,\n",
              "              max_delta_step=None, max_depth=None, max_leaves=None,\n",
              "              min_child_weight=None, missing=nan, monotone_constraints=None,\n",
              "              n_estimators=100, n_jobs=None, num_parallel_tree=None,\n",
              "              predictor=None, random_state=42, ...)"
            ]
          },
          "execution_count": 90,
          "metadata": {},
          "output_type": "execute_result"
        }
      ],
      "source": [
        "# Initialize the XGBoost classifier\n",
        "xgb_classifier = XGBClassifier(\n",
        "    objective='binary:logistic',  # For binary classification\n",
        "    random_state=42               # Random seed for reproducibility\n",
        ")\n",
        "\n",
        "# Train (fit) the model\n",
        "xgb_classifier.fit(X_train, y_train)\n"
      ]
    },
    {
      "cell_type": "code",
      "execution_count": null,
      "id": "dc09c244",
      "metadata": {
        "id": "dc09c244",
        "outputId": "bda3a322-d2fe-429b-a96d-4d9c637428c4"
      },
      "outputs": [
        {
          "data": {
            "text/html": [
              "<div>\n",
              "<style scoped>\n",
              "    .dataframe tbody tr th:only-of-type {\n",
              "        vertical-align: middle;\n",
              "    }\n",
              "\n",
              "    .dataframe tbody tr th {\n",
              "        vertical-align: top;\n",
              "    }\n",
              "\n",
              "    .dataframe thead th {\n",
              "        text-align: right;\n",
              "    }\n",
              "</style>\n",
              "<table border=\"1\" class=\"dataframe\">\n",
              "  <thead>\n",
              "    <tr style=\"text-align: right;\">\n",
              "      <th></th>\n",
              "      <th>Metric</th>\n",
              "      <th>Train</th>\n",
              "      <th>Test</th>\n",
              "    </tr>\n",
              "  </thead>\n",
              "  <tbody>\n",
              "    <tr>\n",
              "      <th>0</th>\n",
              "      <td>Accuracy</td>\n",
              "      <td>0.664929</td>\n",
              "      <td>0.500500</td>\n",
              "    </tr>\n",
              "    <tr>\n",
              "      <th>1</th>\n",
              "      <td>Precision</td>\n",
              "      <td>0.668665</td>\n",
              "      <td>0.495329</td>\n",
              "    </tr>\n",
              "    <tr>\n",
              "      <th>2</th>\n",
              "      <td>Recall</td>\n",
              "      <td>0.651227</td>\n",
              "      <td>0.489224</td>\n",
              "    </tr>\n",
              "    <tr>\n",
              "      <th>3</th>\n",
              "      <td>F1-Score</td>\n",
              "      <td>0.659831</td>\n",
              "      <td>0.492258</td>\n",
              "    </tr>\n",
              "  </tbody>\n",
              "</table>\n",
              "</div>"
            ],
            "text/plain": [
              "      Metric     Train      Test\n",
              "0   Accuracy  0.664929  0.500500\n",
              "1  Precision  0.668665  0.495329\n",
              "2     Recall  0.651227  0.489224\n",
              "3   F1-Score  0.659831  0.492258"
            ]
          },
          "execution_count": 91,
          "metadata": {},
          "output_type": "execute_result"
        }
      ],
      "source": [
        "y_train_pred = xgb_classifier.predict(X_train)\n",
        "y_test_pred = xgb_classifier.predict(X_test)\n",
        "\n",
        "# Calculate metrics for train set\n",
        "train_accuracy = accuracy_score(y_train, y_train_pred)\n",
        "train_precision = precision_score(y_train, y_train_pred)\n",
        "train_recall = recall_score(y_train, y_train_pred)\n",
        "train_f1 = f1_score(y_train, y_train_pred)\n",
        "\n",
        "# Calculate metrics for test set\n",
        "test_accuracy = accuracy_score(y_test, y_test_pred)\n",
        "test_precision = precision_score(y_test, y_test_pred)\n",
        "test_recall = recall_score(y_test, y_test_pred)\n",
        "test_f1 = f1_score(y_test, y_test_pred)\n",
        "\n",
        "# Create a DataFrame to store the results\n",
        "results = pd.DataFrame({\n",
        "    'Metric': ['Accuracy', 'Precision', 'Recall', 'F1-Score'],\n",
        "    'Train': [train_accuracy, train_precision, train_recall, train_f1],\n",
        "    'Test': [test_accuracy, test_precision, test_recall, test_f1]\n",
        "})\n",
        "\n",
        "results"
      ]
    },
    {
      "cell_type": "markdown",
      "id": "b20b997f",
      "metadata": {
        "id": "b20b997f"
      },
      "source": [
        "# `Hyperparameter Tunning`\n",
        "\n",
        "Hyperparameters are settings in machine learning algorithms that control how the algorithm works. They are like the knobs and dials on a machine, and they can be adjusted to improve the performance of the algorithm."
      ]
    },
    {
      "cell_type": "code",
      "execution_count": null,
      "id": "123a8187",
      "metadata": {
        "id": "123a8187"
      },
      "outputs": [],
      "source": [
        "from sklearn.model_selection import GridSearchCV\n",
        "\n",
        "# Define the parameter grid for hyperparameter tuning\n",
        "\n",
        "param_grid = {\n",
        "    'max_depth': [3, 4, 5],\n",
        "    'learning_rate': [0.1, 0.01, 0.001],\n",
        "    'n_estimators': [50, 100, 150]\n",
        "}"
      ]
    },
    {
      "cell_type": "code",
      "execution_count": null,
      "id": "9866b820",
      "metadata": {
        "id": "9866b820",
        "outputId": "dc18a7fa-5dba-4fb5-c2c9-bc47b8157029"
      },
      "outputs": [
        {
          "data": {
            "text/plain": [
              "GridSearchCV(cv=5,\n",
              "             estimator=XGBClassifier(base_score=None, booster=None,\n",
              "                                     callbacks=None, colsample_bylevel=None,\n",
              "                                     colsample_bynode=None,\n",
              "                                     colsample_bytree=None,\n",
              "                                     early_stopping_rounds=None,\n",
              "                                     enable_categorical=False, eval_metric=None,\n",
              "                                     feature_types=None, gamma=None,\n",
              "                                     gpu_id=None, grow_policy=None,\n",
              "                                     importance_type=None,\n",
              "                                     interaction_constraints=None,\n",
              "                                     learning_rate=None,...\n",
              "                                     max_cat_threshold=None,\n",
              "                                     max_cat_to_onehot=None,\n",
              "                                     max_delta_step=None, max_depth=None,\n",
              "                                     max_leaves=None, min_child_weight=None,\n",
              "                                     missing=nan, monotone_constraints=None,\n",
              "                                     n_estimators=100, n_jobs=None,\n",
              "                                     num_parallel_tree=None, predictor=None,\n",
              "                                     random_state=42, ...),\n",
              "             param_grid={'learning_rate': [0.1, 0.01, 0.001],\n",
              "                         'max_depth': [3, 4, 5],\n",
              "                         'n_estimators': [50, 100, 150]},\n",
              "             scoring='recall')"
            ]
          },
          "execution_count": 94,
          "metadata": {},
          "output_type": "execute_result"
        }
      ],
      "source": [
        "# Initialize GridSearchCV with recall as the scoring metric\n",
        "grid_search = GridSearchCV(\n",
        "    estimator=xgb_classifier,\n",
        "    param_grid=param_grid,\n",
        "    scoring='recall',\n",
        "    cv=5\n",
        ")\n",
        "\n",
        "# Fit the GridSearchCV on the training data\n",
        "grid_search.fit(X_train, y_train)"
      ]
    },
    {
      "cell_type": "markdown",
      "id": "c77426fe",
      "metadata": {
        "id": "c77426fe"
      },
      "source": [
        "**According to the problem statement, false negatives are more important to reduce. Therefore, I selected recall as a metric to focus on.**"
      ]
    },
    {
      "cell_type": "code",
      "execution_count": null,
      "id": "b4bc2604",
      "metadata": {
        "id": "b4bc2604",
        "outputId": "de36db30-28f1-486c-804e-e71000b8797f"
      },
      "outputs": [
        {
          "name": "stdout",
          "output_type": "stream",
          "text": [
            "Best Parameters: {'learning_rate': 0.1, 'max_depth': 5, 'n_estimators': 150}\n",
            "Test Recall with Best Model: 0.46619073275862066\n"
          ]
        }
      ],
      "source": [
        "# Get the best model from the search\n",
        "best_xgb = grid_search.best_estimator_\n",
        "\n",
        "# Make predictions on the test set using the best model\n",
        "y_test_pred = best_xgb.predict(X_test)\n",
        "\n",
        "# Calculate recall for the test set\n",
        "test_recall = recall_score(y_test, y_test_pred)\n",
        "\n",
        "print(\"Best Parameters:\", grid_search.best_params_)\n",
        "print(\"Test Recall with Best Model:\", test_recall)"
      ]
    },
    {
      "cell_type": "markdown",
      "id": "dbae3723",
      "metadata": {
        "id": "dbae3723"
      },
      "source": [
        "**After hyperparameter tuning, the performance of the model did not improve. Hence, I choose XGBoost CLassifier without hyperparameter tunning and perform cross-validation on it.**"
      ]
    },
    {
      "cell_type": "markdown",
      "id": "94e29ae7",
      "metadata": {
        "id": "94e29ae7"
      },
      "source": [
        "# `Cross Validation`\n",
        "\n",
        "* Cross-validation is a technique used to evaluate the performance of a machine learning model. It works by dividing the data into several parts, called folds. The model is then trained on a subset of the data and tested on the remaining folds. This process is repeated several times, and the results are averaged to get an estimate of the model's performance.\n",
        "\n",
        "\n",
        "* Cross-validation is necessary because it helps us avoid overfitting the model to the training data.\n",
        "\n",
        "\n",
        "* Cross-validation is a way to make sure that our model is not just memorizing the training data, but that it is actually learning to make accurate predictions on new data."
      ]
    },
    {
      "cell_type": "code",
      "execution_count": null,
      "id": "c2a1e598",
      "metadata": {
        "id": "c2a1e598",
        "outputId": "77cf4055-bd01-4e1b-a5f2-80bfc2322c64"
      },
      "outputs": [
        {
          "name": "stdout",
          "output_type": "stream",
          "text": [
            "Cross-Validation Scores (Accuracy): [0.49692857 0.50057143 0.49892857 0.50478571 0.505     ]\n",
            "\n",
            "Mean Accuracy Score: 0.5012428571428571\n"
          ]
        }
      ],
      "source": [
        "#cross validation of accuracy\n",
        "\n",
        "from sklearn.model_selection import cross_val_score\n",
        "\n",
        "scores = cross_val_score(xgb_classifier, X_train, y_train, cv=5, scoring='accuracy',n_jobs=-1)\n",
        "\n",
        "print(\"Cross-Validation Scores (Accuracy):\", scores)\n",
        "print()\n",
        "print(\"Mean Accuracy Score:\", scores.mean())"
      ]
    },
    {
      "cell_type": "code",
      "execution_count": null,
      "id": "a6c7b3d6",
      "metadata": {
        "id": "a6c7b3d6",
        "outputId": "bd5da8ed-96eb-43d8-ea13-320caf7b912d"
      },
      "outputs": [
        {
          "name": "stdout",
          "output_type": "stream",
          "text": [
            "Cross-Validation Scores (Recall): [0.48990983 0.49398798 0.48869167 0.50171772 0.49427426]\n",
            "\n",
            "Mean Recall Score: 0.4937162923036775\n"
          ]
        }
      ],
      "source": [
        "#cross validation of recall\n",
        "\n",
        "scores = cross_val_score(xgb_classifier, X_train, y_train, cv=5, scoring='recall',n_jobs=-1)\n",
        "\n",
        "print(\"Cross-Validation Scores (Recall):\", scores)\n",
        "print()\n",
        "print(\"Mean Recall Score:\", scores.mean())"
      ]
    },
    {
      "cell_type": "markdown",
      "id": "54677bf9",
      "metadata": {
        "id": "54677bf9"
      },
      "source": [
        "# `Finding Optimal Threshold`"
      ]
    },
    {
      "cell_type": "code",
      "execution_count": null,
      "id": "ad4e4573",
      "metadata": {
        "id": "ad4e4573",
        "outputId": "341a3f67-bc17-4c5d-b7c7-34a91d1220d6"
      },
      "outputs": [
        {
          "data": {
            "text/html": [
              "<div>\n",
              "<style scoped>\n",
              "    .dataframe tbody tr th:only-of-type {\n",
              "        vertical-align: middle;\n",
              "    }\n",
              "\n",
              "    .dataframe tbody tr th {\n",
              "        vertical-align: top;\n",
              "    }\n",
              "\n",
              "    .dataframe thead th {\n",
              "        text-align: right;\n",
              "    }\n",
              "</style>\n",
              "<table border=\"1\" class=\"dataframe\">\n",
              "  <thead>\n",
              "    <tr style=\"text-align: right;\">\n",
              "      <th></th>\n",
              "      <th>Probability</th>\n",
              "      <th>Actual_Label</th>\n",
              "      <th>Predicted_Label</th>\n",
              "    </tr>\n",
              "  </thead>\n",
              "  <tbody>\n",
              "    <tr>\n",
              "      <th>43364</th>\n",
              "      <td>0.474755</td>\n",
              "      <td>1</td>\n",
              "      <td>0</td>\n",
              "    </tr>\n",
              "    <tr>\n",
              "      <th>52617</th>\n",
              "      <td>0.490060</td>\n",
              "      <td>1</td>\n",
              "      <td>0</td>\n",
              "    </tr>\n",
              "    <tr>\n",
              "      <th>83194</th>\n",
              "      <td>0.420003</td>\n",
              "      <td>0</td>\n",
              "      <td>0</td>\n",
              "    </tr>\n",
              "    <tr>\n",
              "      <th>79395</th>\n",
              "      <td>0.481040</td>\n",
              "      <td>0</td>\n",
              "      <td>0</td>\n",
              "    </tr>\n",
              "    <tr>\n",
              "      <th>78962</th>\n",
              "      <td>0.469605</td>\n",
              "      <td>0</td>\n",
              "      <td>0</td>\n",
              "    </tr>\n",
              "    <tr>\n",
              "      <th>32846</th>\n",
              "      <td>0.477571</td>\n",
              "      <td>0</td>\n",
              "      <td>0</td>\n",
              "    </tr>\n",
              "    <tr>\n",
              "      <th>88132</th>\n",
              "      <td>0.498932</td>\n",
              "      <td>1</td>\n",
              "      <td>0</td>\n",
              "    </tr>\n",
              "    <tr>\n",
              "      <th>22788</th>\n",
              "      <td>0.528793</td>\n",
              "      <td>0</td>\n",
              "      <td>1</td>\n",
              "    </tr>\n",
              "    <tr>\n",
              "      <th>63261</th>\n",
              "      <td>0.456429</td>\n",
              "      <td>0</td>\n",
              "      <td>0</td>\n",
              "    </tr>\n",
              "    <tr>\n",
              "      <th>48217</th>\n",
              "      <td>0.518680</td>\n",
              "      <td>0</td>\n",
              "      <td>1</td>\n",
              "    </tr>\n",
              "  </tbody>\n",
              "</table>\n",
              "</div>"
            ],
            "text/plain": [
              "       Probability  Actual_Label  Predicted_Label\n",
              "43364     0.474755             1                0\n",
              "52617     0.490060             1                0\n",
              "83194     0.420003             0                0\n",
              "79395     0.481040             0                0\n",
              "78962     0.469605             0                0\n",
              "32846     0.477571             0                0\n",
              "88132     0.498932             1                0\n",
              "22788     0.528793             0                1\n",
              "63261     0.456429             0                0\n",
              "48217     0.518680             0                1"
            ]
          },
          "execution_count": 98,
          "metadata": {},
          "output_type": "execute_result"
        }
      ],
      "source": [
        "#creating a dataframe of probabilites, actual labels, predicted labels for genral check\n",
        "\n",
        "probabilities = xgb_classifier.predict_proba(X_train)\n",
        "\n",
        "predicted_labels = xgb_classifier.predict(X_train)\n",
        "\n",
        "results = pd.DataFrame({'Probability': probabilities[:, 1],\n",
        "                        'Actual_Label': y_train,\n",
        "                        'Predicted_Label': predicted_labels})\n",
        "\n",
        "results.sample(10)"
      ]
    },
    {
      "cell_type": "code",
      "execution_count": null,
      "id": "5d000988",
      "metadata": {
        "id": "5d000988",
        "outputId": "d5613f07-1b2d-4a03-d6e7-69280fff06db"
      },
      "outputs": [
        {
          "data": {
            "text/html": [
              "<div>\n",
              "<style scoped>\n",
              "    .dataframe tbody tr th:only-of-type {\n",
              "        vertical-align: middle;\n",
              "    }\n",
              "\n",
              "    .dataframe tbody tr th {\n",
              "        vertical-align: top;\n",
              "    }\n",
              "\n",
              "    .dataframe thead th {\n",
              "        text-align: right;\n",
              "    }\n",
              "</style>\n",
              "<table border=\"1\" class=\"dataframe\">\n",
              "  <thead>\n",
              "    <tr style=\"text-align: right;\">\n",
              "      <th></th>\n",
              "      <th>Probability</th>\n",
              "      <th>Accuracy</th>\n",
              "      <th>Precision</th>\n",
              "      <th>Recall</th>\n",
              "      <th>F1 Score</th>\n",
              "    </tr>\n",
              "  </thead>\n",
              "  <tbody>\n",
              "    <tr>\n",
              "      <th>0</th>\n",
              "      <td>0.1</td>\n",
              "      <td>0.499214</td>\n",
              "      <td>0.499114</td>\n",
              "      <td>1.000000</td>\n",
              "      <td>0.665879</td>\n",
              "    </tr>\n",
              "    <tr>\n",
              "      <th>1</th>\n",
              "      <td>0.2</td>\n",
              "      <td>0.501929</td>\n",
              "      <td>0.500473</td>\n",
              "      <td>1.000000</td>\n",
              "      <td>0.667087</td>\n",
              "    </tr>\n",
              "    <tr>\n",
              "      <th>2</th>\n",
              "      <td>0.3</td>\n",
              "      <td>0.514757</td>\n",
              "      <td>0.506998</td>\n",
              "      <td>0.999714</td>\n",
              "      <td>0.672793</td>\n",
              "    </tr>\n",
              "    <tr>\n",
              "      <th>3</th>\n",
              "      <td>0.4</td>\n",
              "      <td>0.569243</td>\n",
              "      <td>0.537409</td>\n",
              "      <td>0.982508</td>\n",
              "      <td>0.694786</td>\n",
              "    </tr>\n",
              "    <tr>\n",
              "      <th>4</th>\n",
              "      <td>0.5</td>\n",
              "      <td>0.664929</td>\n",
              "      <td>0.668665</td>\n",
              "      <td>0.651227</td>\n",
              "      <td>0.659831</td>\n",
              "    </tr>\n",
              "    <tr>\n",
              "      <th>5</th>\n",
              "      <td>0.6</td>\n",
              "      <td>0.569614</td>\n",
              "      <td>0.888422</td>\n",
              "      <td>0.157281</td>\n",
              "      <td>0.267250</td>\n",
              "    </tr>\n",
              "    <tr>\n",
              "      <th>6</th>\n",
              "      <td>0.7</td>\n",
              "      <td>0.517100</td>\n",
              "      <td>0.986207</td>\n",
              "      <td>0.032750</td>\n",
              "      <td>0.063395</td>\n",
              "    </tr>\n",
              "    <tr>\n",
              "      <th>7</th>\n",
              "      <td>0.8</td>\n",
              "      <td>0.504286</td>\n",
              "      <td>1.000000</td>\n",
              "      <td>0.006613</td>\n",
              "      <td>0.013139</td>\n",
              "    </tr>\n",
              "    <tr>\n",
              "      <th>8</th>\n",
              "      <td>0.9</td>\n",
              "      <td>0.501371</td>\n",
              "      <td>1.000000</td>\n",
              "      <td>0.000773</td>\n",
              "      <td>0.001545</td>\n",
              "    </tr>\n",
              "    <tr>\n",
              "      <th>9</th>\n",
              "      <td>1.0</td>\n",
              "      <td>0.500986</td>\n",
              "      <td>1.000000</td>\n",
              "      <td>0.000000</td>\n",
              "      <td>0.000000</td>\n",
              "    </tr>\n",
              "  </tbody>\n",
              "</table>\n",
              "</div>"
            ],
            "text/plain": [
              "   Probability  Accuracy  Precision    Recall  F1 Score\n",
              "0          0.1  0.499214   0.499114  1.000000  0.665879\n",
              "1          0.2  0.501929   0.500473  1.000000  0.667087\n",
              "2          0.3  0.514757   0.506998  0.999714  0.672793\n",
              "3          0.4  0.569243   0.537409  0.982508  0.694786\n",
              "4          0.5  0.664929   0.668665  0.651227  0.659831\n",
              "5          0.6  0.569614   0.888422  0.157281  0.267250\n",
              "6          0.7  0.517100   0.986207  0.032750  0.063395\n",
              "7          0.8  0.504286   1.000000  0.006613  0.013139\n",
              "8          0.9  0.501371   1.000000  0.000773  0.001545\n",
              "9          1.0  0.500986   1.000000  0.000000  0.000000"
            ]
          },
          "execution_count": 99,
          "metadata": {},
          "output_type": "execute_result"
        }
      ],
      "source": [
        "#check evaulation metrics for different thresholds\n",
        "\n",
        "thresholds = [0.1, 0.2, 0.3, 0.4, 0.5, 0.6, 0.7, 0.8, 0.9, 1.0]\n",
        "\n",
        "# Creating an empty DataFrame to store the evaluation metrics\n",
        "metrics_df = pd.DataFrame(columns=['Probability', 'Accuracy', 'Precision', 'Recall', 'F1 Score'])\n",
        "\n",
        "# Iterating over the probability thresholds\n",
        "for threshold in thresholds:\n",
        "    # Converting probabilities to predicted labels based on the threshold\n",
        "    predicted_labels = (probabilities[:, 1] >= threshold).astype(int)\n",
        "\n",
        "    # Calculating evaluation metrics\n",
        "    accuracy = accuracy_score(y_train, predicted_labels)\n",
        "    precision = precision_score(y_train, predicted_labels, zero_division=1)\n",
        "    recall = recall_score(y_train, predicted_labels, zero_division=1)\n",
        "    f1 = f1_score(y_train, predicted_labels, zero_division=1)\n",
        "\n",
        "    # Adding the metrics to the DataFrame\n",
        "    metrics_df = pd.concat([metrics_df, pd.DataFrame({'Probability': [threshold],\n",
        "                                                      'Accuracy': [accuracy],\n",
        "                                                      'Precision': [precision],\n",
        "                                                      'Recall': [recall],\n",
        "                                                      'F1 Score': [f1]})], ignore_index=True)\n",
        "metrics_df"
      ]
    },
    {
      "cell_type": "markdown",
      "id": "2f5513a7",
      "metadata": {
        "id": "2f5513a7"
      },
      "source": [
        "## `Check the Trade-Off Between Accuracy, Sensitivity, Specitivity, F-1 Score and Probabilities (Thresholds)`"
      ]
    },
    {
      "cell_type": "code",
      "execution_count": null,
      "id": "c5ad2048",
      "metadata": {
        "id": "c5ad2048",
        "outputId": "6e7f225b-5b4b-4662-e8eb-da8aeb2361ef"
      },
      "outputs": [
        {
          "data": {
            "image/png": "[encoded data removed]",
            "text/plain": [
              "<Figure size 600x400 with 1 Axes>"
            ]
          },
          "metadata": {},
          "output_type": "display_data"
        }
      ],
      "source": [
        "from sklearn.metrics import confusion_matrix\n",
        "\n",
        "# Calculate predicted probabilities for the train data\n",
        "train_probabilities = xgb_classifier.predict_proba(X_train)[:, 1]\n",
        "\n",
        "# Apply different thresholds to obtain binary predictions for train data\n",
        "thresholds = np.arange(0, 1.1, 0.1)\n",
        "sensitivity = []\n",
        "specificity = []\n",
        "accuracy = []\n",
        "f1_scores = []\n",
        "\n",
        "for threshold in thresholds:\n",
        "    train_predictions = (train_probabilities >= threshold).astype(int)\n",
        "    tn, fp, fn, tp = confusion_matrix(y_train, train_predictions).ravel()\n",
        "    sensitivity.append(tp / (tp + fn))\n",
        "    specificity.append(tn / (tn + fp))\n",
        "    accuracy.append((tp + tn) / (tp + tn + fp + fn))\n",
        "    f1_scores.append(f1_score(y_train, train_predictions))\n",
        "\n",
        "# Plot the sensitivity, specificity, accuracy, and F1 score against probability thresholds\n",
        "plt.figure(figsize=(6,4))\n",
        "plt.plot(thresholds, sensitivity, label='Sensitivity')\n",
        "plt.plot(thresholds, specificity, label='Specificity')\n",
        "plt.plot(thresholds, accuracy, label='Accuracy')\n",
        "plt.plot(thresholds, f1_scores, label='F1 Score')\n",
        "plt.xlabel('Probability Threshold')\n",
        "plt.xticks(np.arange(0, 1.1, 0.1))\n",
        "plt.ylabel('Metric Value')\n",
        "plt.title('Metrics vs. Probability Threshold')\n",
        "plt.legend(loc='lower left')\n",
        "plt.show()"
      ]
    },
    {
      "cell_type": "markdown",
      "id": "33900411",
      "metadata": {
        "id": "33900411"
      },
      "source": [
        "**The graph indicates that 0.5 is the best threshold point, where accuracy, sensitivity, specificity, and F1 score are all stable.**"
      ]
    },
    {
      "cell_type": "markdown",
      "id": "7c81360d",
      "metadata": {
        "id": "7c81360d"
      },
      "source": [
        "# `Model Evaulation (XG Boost)`"
      ]
    },
    {
      "cell_type": "markdown",
      "id": "9c2cb8fe",
      "metadata": {
        "id": "9c2cb8fe"
      },
      "source": [
        "## `Train & Test Data Metrics`"
      ]
    },
    {
      "cell_type": "code",
      "execution_count": null,
      "id": "bd89a37d",
      "metadata": {
        "id": "bd89a37d",
        "outputId": "d7502298-b5f4-4857-ccd4-d6778496012a"
      },
      "outputs": [
        {
          "data": {
            "text/html": [
              "<div>\n",
              "<style scoped>\n",
              "    .dataframe tbody tr th:only-of-type {\n",
              "        vertical-align: middle;\n",
              "    }\n",
              "\n",
              "    .dataframe tbody tr th {\n",
              "        vertical-align: top;\n",
              "    }\n",
              "\n",
              "    .dataframe thead th {\n",
              "        text-align: right;\n",
              "    }\n",
              "</style>\n",
              "<table border=\"1\" class=\"dataframe\">\n",
              "  <thead>\n",
              "    <tr style=\"text-align: right;\">\n",
              "      <th></th>\n",
              "      <th>Dataset</th>\n",
              "      <th>Accuracy</th>\n",
              "      <th>Precision</th>\n",
              "      <th>Recall</th>\n",
              "      <th>F1-score</th>\n",
              "    </tr>\n",
              "  </thead>\n",
              "  <tbody>\n",
              "    <tr>\n",
              "      <th>0</th>\n",
              "      <td>Train</td>\n",
              "      <td>0.664929</td>\n",
              "      <td>0.665030</td>\n",
              "      <td>0.664902</td>\n",
              "      <td>0.664853</td>\n",
              "    </tr>\n",
              "    <tr>\n",
              "      <th>1</th>\n",
              "      <td>Test</td>\n",
              "      <td>0.500500</td>\n",
              "      <td>0.500387</td>\n",
              "      <td>0.500387</td>\n",
              "      <td>0.500368</td>\n",
              "    </tr>\n",
              "  </tbody>\n",
              "</table>\n",
              "</div>"
            ],
            "text/plain": [
              "  Dataset  Accuracy  Precision    Recall  F1-score\n",
              "0   Train  0.664929   0.665030  0.664902  0.664853\n",
              "1    Test  0.500500   0.500387  0.500387  0.500368"
            ]
          },
          "execution_count": 101,
          "metadata": {},
          "output_type": "execute_result"
        }
      ],
      "source": [
        "# Calculate evaluation metrics for train data\n",
        "train_accuracy = accuracy_score(y_train, y_train_pred)\n",
        "train_precision = precision_score(y_train, y_train_pred, average='macro')\n",
        "train_recall = recall_score(y_train, y_train_pred, average='macro')\n",
        "train_f1_score = f1_score(y_train, y_train_pred, average='macro')\n",
        "\n",
        "# Predict on the test data\n",
        "y_test_pred = xgb_classifier.predict(X_test)\n",
        "\n",
        "# Calculate evaluation metrics for test data\n",
        "test_accuracy = accuracy_score(y_test, y_test_pred)\n",
        "test_precision = precision_score(y_test, y_test_pred, average='macro')\n",
        "test_recall = recall_score(y_test, y_test_pred, average='macro')\n",
        "test_f1_score = f1_score(y_test, y_test_pred, average='macro')\n",
        "\n",
        "# Create a DataFrame to store the evaluation metrics\n",
        "metrics_data = {\n",
        "    'Dataset': ['Train', 'Test'],\n",
        "    'Accuracy': [train_accuracy, test_accuracy],\n",
        "    'Precision': [train_precision, test_precision],\n",
        "    'Recall': [train_recall, test_recall],\n",
        "    'F1-score': [train_f1_score, test_f1_score]\n",
        "}\n",
        "\n",
        "metrics_df = pd.DataFrame(metrics_data)\n",
        "metrics_df"
      ]
    },
    {
      "cell_type": "markdown",
      "id": "6ed2be82",
      "metadata": {
        "id": "6ed2be82"
      },
      "source": [
        "## `Confusion Matrix`\n",
        "\n",
        "Confusion matrix is a table that is used to evaluate the performance of a machine learning model. It shows how many instances were correctly classified as positive (true positives), incorrectly classified as positive (false positives), correctly classified as negative (true negatives), and incorrectly classified as negative (false negatives)."
      ]
    },
    {
      "cell_type": "code",
      "execution_count": null,
      "id": "0d130517",
      "metadata": {
        "id": "0d130517",
        "outputId": "cd921bbf-6f19-42c9-c05c-091aed9f1916"
      },
      "outputs": [
        {
          "data": {
            "text/html": [
              "<div>\n",
              "<style scoped>\n",
              "    .dataframe tbody tr th:only-of-type {\n",
              "        vertical-align: middle;\n",
              "    }\n",
              "\n",
              "    .dataframe tbody tr th {\n",
              "        vertical-align: top;\n",
              "    }\n",
              "\n",
              "    .dataframe thead th {\n",
              "        text-align: right;\n",
              "    }\n",
              "</style>\n",
              "<table border=\"1\" class=\"dataframe\">\n",
              "  <thead>\n",
              "    <tr style=\"text-align: right;\">\n",
              "      <th></th>\n",
              "      <th>Training Set</th>\n",
              "      <th>Test Set</th>\n",
              "    </tr>\n",
              "  </thead>\n",
              "  <tbody>\n",
              "    <tr>\n",
              "      <th>True Positive (%)</th>\n",
              "      <td>33.995714</td>\n",
              "      <td>25.836667</td>\n",
              "    </tr>\n",
              "    <tr>\n",
              "      <th>True Negative (%)</th>\n",
              "      <td>16.102857</td>\n",
              "      <td>24.670000</td>\n",
              "    </tr>\n",
              "    <tr>\n",
              "      <th>False Positive (%)</th>\n",
              "      <td>17.404286</td>\n",
              "      <td>25.280000</td>\n",
              "    </tr>\n",
              "    <tr>\n",
              "      <th>False Negative (%)</th>\n",
              "      <td>32.497143</td>\n",
              "      <td>24.213333</td>\n",
              "    </tr>\n",
              "  </tbody>\n",
              "</table>\n",
              "</div>"
            ],
            "text/plain": [
              "                    Training Set   Test Set\n",
              "True Positive (%)      33.995714  25.836667\n",
              "True Negative (%)      16.102857  24.670000\n",
              "False Positive (%)     17.404286  25.280000\n",
              "False Negative (%)     32.497143  24.213333"
            ]
          },
          "execution_count": 102,
          "metadata": {},
          "output_type": "execute_result"
        }
      ],
      "source": [
        "from sklearn.metrics import confusion_matrix\n",
        "\n",
        "# Calculate predictions for the training set using a threshold of 0.50\n",
        "train_predictions = (xgb_classifier.predict_proba(X_train)[:, 1] >= 0.50).astype(int)\n",
        "train_confusion_matrix = confusion_matrix(y_train, train_predictions)\n",
        "\n",
        "# Calculate predictions for the test set using a threshold of 0.50\n",
        "test_predictions = (xgb_classifier.predict_proba(X_test)[:, 1] >= 0.50).astype(int)\n",
        "test_confusion_matrix = confusion_matrix(y_test, test_predictions)\n",
        "\n",
        "# Calculate the total number of samples in each set\n",
        "train_total = len(y_train)\n",
        "test_total = len(y_test)\n",
        "\n",
        "# Calculate the confusion matrix in percentage form for the training set\n",
        "train_confusion_matrix_percent = train_confusion_matrix / train_total * 100\n",
        "\n",
        "# Calculate the confusion matrix in percentage form for the test set\n",
        "test_confusion_matrix_percent = test_confusion_matrix / test_total * 100\n",
        "\n",
        "# Create a dataframe for the confusion matrix\n",
        "confusion_matrix_df = pd.DataFrame({'Training Set': train_confusion_matrix_percent.flatten(),\n",
        "                                    'Test Set': test_confusion_matrix_percent.flatten()},\n",
        "                                   index=['True Positive (%)', 'True Negative (%)', 'False Positive (%)', 'False Negative (%)', ])\n",
        "#\n",
        "confusion_matrix_df"
      ]
    },
    {
      "cell_type": "markdown",
      "id": "15b520c0",
      "metadata": {
        "id": "15b520c0"
      },
      "source": [
        "## `ROC-AUC Curve`\n",
        "\n",
        "ROC-AUC curve, or Receiver Operating Characteristic-Area Under Curve, is a graph used in machine learning to measure the performance of a binary classifier. It plots the true positive rate (TPR) against the false positive rate (FPR) at different classification thresholds."
      ]
    },
    {
      "cell_type": "code",
      "execution_count": null,
      "id": "be8d8208",
      "metadata": {
        "id": "be8d8208",
        "outputId": "3dd75024-ca61-4847-dc2b-6b29f9c4b922"
      },
      "outputs": [
        {
          "data": {
            "image/png": "[encoded data removed]",
            "text/plain": [
              "<Figure size 600x400 with 1 Axes>"
            ]
          },
          "metadata": {},
          "output_type": "display_data"
        }
      ],
      "source": [
        "from sklearn.metrics import roc_curve, auc, roc_auc_score\n",
        "\n",
        "# Calculate predicted probabilities for the train data\n",
        "train_probabilities = xgb_classifier.predict_proba(X_train)[:, 1]\n",
        "\n",
        "# Apply the threshold of 0.50 to obtain binary predictions for train data\n",
        "train_predictions = (train_probabilities >= 0.50).astype(int)\n",
        "\n",
        "# Calculate the false positive rate, true positive rate, and thresholds for train data\n",
        "fpr_train, tpr_train, thresholds_train = roc_curve(y_train, train_probabilities)\n",
        "\n",
        "# Calculate the ROC-AUC score for train data\n",
        "roc_auc_train = roc_auc_score(y_train, train_predictions)\n",
        "\n",
        "# Calculate predicted probabilities for the test data\n",
        "test_probabilities = xgb_classifier.predict_proba(X_test)[:, 1]\n",
        "\n",
        "# Apply the threshold of 0.50 to obtain binary predictions for test data\n",
        "test_predictions = (test_probabilities >= 0.50).astype(int)\n",
        "\n",
        "# Calculate the false positive rate, true positive rate, and thresholds for test data\n",
        "fpr_test, tpr_test, thresholds_test = roc_curve(y_test, test_probabilities)\n",
        "\n",
        "# Calculate the ROC-AUC score for test data\n",
        "roc_auc_test = roc_auc_score(y_test, test_predictions)\n",
        "\n",
        "# Plot the ROC curves\n",
        "plt.figure(figsize=(6,4))\n",
        "plt.plot(fpr_train, tpr_train, label='Train ROC curve (area = {:.2f})'.format(roc_auc_train))\n",
        "plt.plot(fpr_test, tpr_test, label='Test ROC curve (area = {:.2f})'.format(roc_auc_test))\n",
        "plt.plot([0, 1], [0, 1], 'k--')\n",
        "plt.xlim([0.0, 1.0])\n",
        "plt.ylim([0.0, 1.05])\n",
        "plt.xlabel('False Positive Rate')\n",
        "plt.ylabel('True Positive Rate')\n",
        "plt.title('Receiver Operating Characteristic (ROC)')\n",
        "plt.legend(loc='lower right')\n",
        "plt.show()"
      ]
    },
    {
      "cell_type": "markdown",
      "id": "5b272b92",
      "metadata": {
        "id": "5b272b92"
      },
      "source": [
        "# `Important Features in Model Building`"
      ]
    },
    {
      "cell_type": "code",
      "execution_count": null,
      "id": "a90c65f3",
      "metadata": {
        "id": "a90c65f3",
        "outputId": "5482406d-60af-4c61-e0d3-ec11b13554ef"
      },
      "outputs": [
        {
          "data": {
            "text/html": [
              "<div>\n",
              "<style scoped>\n",
              "    .dataframe tbody tr th:only-of-type {\n",
              "        vertical-align: middle;\n",
              "    }\n",
              "\n",
              "    .dataframe tbody tr th {\n",
              "        vertical-align: top;\n",
              "    }\n",
              "\n",
              "    .dataframe thead th {\n",
              "        text-align: right;\n",
              "    }\n",
              "</style>\n",
              "<table border=\"1\" class=\"dataframe\">\n",
              "  <thead>\n",
              "    <tr style=\"text-align: right;\">\n",
              "      <th></th>\n",
              "      <th>Feature</th>\n",
              "      <th>Importance</th>\n",
              "    </tr>\n",
              "  </thead>\n",
              "  <tbody>\n",
              "    <tr>\n",
              "      <th>0</th>\n",
              "      <td>Monthly_Bill</td>\n",
              "      <td>0.316383</td>\n",
              "    </tr>\n",
              "    <tr>\n",
              "      <th>1</th>\n",
              "      <td>Total_Usage_GB</td>\n",
              "      <td>0.290353</td>\n",
              "    </tr>\n",
              "    <tr>\n",
              "      <th>2</th>\n",
              "      <td>Age</td>\n",
              "      <td>0.194396</td>\n",
              "    </tr>\n",
              "    <tr>\n",
              "      <th>3</th>\n",
              "      <td>Subscription_Length_Months</td>\n",
              "      <td>0.142624</td>\n",
              "    </tr>\n",
              "    <tr>\n",
              "      <th>4</th>\n",
              "      <td>Gender_Male</td>\n",
              "      <td>0.016683</td>\n",
              "    </tr>\n",
              "    <tr>\n",
              "      <th>5</th>\n",
              "      <td>Location_Los Angeles</td>\n",
              "      <td>0.010595</td>\n",
              "    </tr>\n",
              "    <tr>\n",
              "      <th>6</th>\n",
              "      <td>Location_Houston</td>\n",
              "      <td>0.010007</td>\n",
              "    </tr>\n",
              "    <tr>\n",
              "      <th>7</th>\n",
              "      <td>Location_Miami</td>\n",
              "      <td>0.009792</td>\n",
              "    </tr>\n",
              "    <tr>\n",
              "      <th>8</th>\n",
              "      <td>Location_New York</td>\n",
              "      <td>0.009166</td>\n",
              "    </tr>\n",
              "  </tbody>\n",
              "</table>\n",
              "</div>"
            ],
            "text/plain": [
              "                      Feature  Importance\n",
              "0                Monthly_Bill    0.316383\n",
              "1              Total_Usage_GB    0.290353\n",
              "2                         Age    0.194396\n",
              "3  Subscription_Length_Months    0.142624\n",
              "4                 Gender_Male    0.016683\n",
              "5        Location_Los Angeles    0.010595\n",
              "6            Location_Houston    0.010007\n",
              "7              Location_Miami    0.009792\n",
              "8           Location_New York    0.009166"
            ]
          },
          "execution_count": 104,
          "metadata": {},
          "output_type": "execute_result"
        }
      ],
      "source": [
        "feature_importance_df"
      ]
    },
    {
      "cell_type": "markdown",
      "id": "91105e19",
      "metadata": {
        "id": "91105e19"
      },
      "source": [
        "**The four variables ['Monthly_Bill', 'Total_Usage_GB', 'Age', and 'Subscription_Length_Months'] are the most important variables in the analysis because they contain 94% of the feature importance or information gain in predicting whether a customer will churn or not.**"
      ]
    },
    {
      "cell_type": "markdown",
      "id": "4f58250a",
      "metadata": {
        "id": "4f58250a"
      },
      "source": [
        "# `Save model in a pickle file`"
      ]
    },
    {
      "cell_type": "code",
      "execution_count": null,
      "id": "82acf819",
      "metadata": {
        "id": "82acf819",
        "outputId": "eebd38a2-97c3-4d2b-b8b4-6f2694f457bf"
      },
      "outputs": [
        {
          "data": {
            "text/plain": [
              "['customer_churn_classifier.pkl']"
            ]
          },
          "execution_count": 106,
          "metadata": {},
          "output_type": "execute_result"
        }
      ],
      "source": [
        "import joblib\n",
        "\n",
        "\n",
        "joblib.dump(xgb_classifier, 'customer_churn_classifier.pkl')"
      ]
    }
  ],
  "metadata": {
    "kernelspec": {
      "display_name": "Python 3 (ipykernel)",
      "language": "python",
      "name": "python3"
    },
    "language_info": {
      "codemirror_mode": {
        "name": "ipython",
        "version": 3
      },
      "file_extension": ".py",
      "mimetype": "text/x-python",
      "name": "python",
      "nbconvert_exporter": "python",
      "pygments_lexer": "ipython3",
      "version": "3.9.13"
    },
    "colab": {
      "provenance": []
    }
  },
  "nbformat": 4,
  "nbformat_minor": 5
}